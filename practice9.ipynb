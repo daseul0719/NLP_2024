{
  "nbformat": 4,
  "nbformat_minor": 0,
  "metadata": {
    "colab": {
      "provenance": [],
      "authorship_tag": "ABX9TyPMIF81S37abJAKPobPapQC",
      "include_colab_link": true
    },
    "kernelspec": {
      "name": "python3",
      "display_name": "Python 3"
    },
    "language_info": {
      "name": "python"
    }
  },
  "cells": [
    {
      "cell_type": "markdown",
      "metadata": {
        "id": "view-in-github",
        "colab_type": "text"
      },
      "source": [
        "<a href=\"https://colab.research.google.com/github/daseul0719/NLP_2024/blob/main/practice9.ipynb\" target=\"_parent\"><img src=\"https://colab.research.google.com/assets/colab-badge.svg\" alt=\"Open In Colab\"/></a>"
      ]
    },
    {
      "cell_type": "code",
      "execution_count": null,
      "metadata": {
        "colab": {
          "base_uri": "https://localhost:8080/"
        },
        "id": "hQRymhEvGMFK",
        "outputId": "ff345b84-1d16-4b2a-e392-43983628d6e6"
      },
      "outputs": [
        {
          "output_type": "stream",
          "name": "stdout",
          "text": [
            "Hello, World!\n"
          ]
        }
      ],
      "source": [
        "def add_txt(t1, t2):\n",
        "  t_result = t1 + t2\n",
        "  return t_result\n",
        "\n",
        "text1 = \"Hello, \"\n",
        "text2 = \"World!\"\n",
        "\n",
        "combined_text = add_txt(text1, text2)\n",
        "print(combined_text)"
      ]
    },
    {
      "cell_type": "code",
      "source": [
        "def add_number(n1, n2):\n",
        "  n_result = n1 + n2\n",
        "  return n_result\n",
        "\n",
        "num1 = 10\n",
        "num2 = 30\n",
        "\n",
        "add_nums = add_number(num1, num2)\n",
        "print(add_nums)"
      ],
      "metadata": {
        "colab": {
          "base_uri": "https://localhost:8080/"
        },
        "id": "zY-qxDUEJ52n",
        "outputId": "cf95a3f7-e28b-408a-cf92-36c9c796206e"
      },
      "execution_count": null,
      "outputs": [
        {
          "output_type": "stream",
          "name": "stdout",
          "text": [
            "40\n"
          ]
        }
      ]
    },
    {
      "cell_type": "code",
      "source": [
        "name = \"tom\"\n",
        "score = 100\n",
        "age = 10\n",
        "\n",
        "test_result = \"You scored %d on the test.\" %score\n",
        "print(test_result)\n",
        "\n",
        "greeting = \"Hello, %s! You turn to finally %d years olf finally.\" %(name, age)\n",
        "print(greeting)\n",
        "print('\\n')\n",
        "\n",
        "print(\"You scored %d on the test.\" %score)\n",
        "print(\"Hello, %s! You turn to finally %d years olf finally.\" %(name, age))"
      ],
      "metadata": {
        "colab": {
          "base_uri": "https://localhost:8080/"
        },
        "id": "-5o_DFxbKbro",
        "outputId": "a6ba259f-ce72-4b32-f765-672579b1627e"
      },
      "execution_count": null,
      "outputs": [
        {
          "output_type": "stream",
          "name": "stdout",
          "text": [
            "You scored 100 on the test.\n",
            "Hello, tom! You turn to finally 10 years olf finally.\n",
            "\n",
            "\n",
            "You scored 100 on the test.\n",
            "Hello, tom! You turn to finally 10 years olf finally.\n"
          ]
        }
      ]
    },
    {
      "cell_type": "code",
      "source": [
        "def add(a, b):\n",
        "  result = a + b\n",
        "  return result\n",
        "\n",
        "num1 = 10\n",
        "num2 = 100\n",
        "\n",
        "sum_result = add(num1, num2)\n",
        "print(\"The sum of %d and %d is %d\" %(num1, num2, sum_result))"
      ],
      "metadata": {
        "colab": {
          "base_uri": "https://localhost:8080/"
        },
        "id": "PYLn5u-TNs5f",
        "outputId": "db869502-0495-4f69-8f5f-091b6f9c2b4b"
      },
      "execution_count": null,
      "outputs": [
        {
          "output_type": "stream",
          "name": "stdout",
          "text": [
            "The sum of 10 and 100 is 110\n"
          ]
        }
      ]
    },
    {
      "cell_type": "code",
      "source": [
        "def add_and_print(a, b):\n",
        "  result = a + b\n",
        "  print(\"The sum of %d and %d is %d\" %(a, b, result))\n",
        "  return result\n",
        "\n",
        "sum_result = add_and_print(10, 20)"
      ],
      "metadata": {
        "colab": {
          "base_uri": "https://localhost:8080/"
        },
        "id": "8YFChJaFOEJ_",
        "outputId": "7c1b7db8-b7fa-4f91-adb5-361990606335"
      },
      "execution_count": null,
      "outputs": [
        {
          "output_type": "stream",
          "name": "stdout",
          "text": [
            "The sum of 10 and 20 is 30\n"
          ]
        }
      ]
    },
    {
      "cell_type": "code",
      "source": [
        "def add_txt3(t3, t4 = 'Python'):\n",
        "  print(t3 + ':' + t4)\n",
        "\n",
        "add_txt3('Best')\n",
        "add_txt3(t3 = 'My friend', t4 = 'Python')\n",
        "add_txt3(t3 = 'My buddy')"
      ],
      "metadata": {
        "colab": {
          "base_uri": "https://localhost:8080/"
        },
        "id": "Gwc2wN7YOgpN",
        "outputId": "1d046461-d549-4804-8538-a76622358160"
      },
      "execution_count": null,
      "outputs": [
        {
          "output_type": "stream",
          "name": "stdout",
          "text": [
            "Best:Python\n",
            "My friend:Python\n",
            "My buddy:Python\n"
          ]
        }
      ]
    },
    {
      "cell_type": "code",
      "source": [
        "def func_uncertain(*args):\n",
        "  print(args)\n",
        "\n",
        "func_uncertain()\n",
        "\n",
        "func_uncertain(1,2,3)\n",
        "func_uncertain('apple', 'date', 'cherry')\n",
        "func_uncertain(True)"
      ],
      "metadata": {
        "colab": {
          "base_uri": "https://localhost:8080/"
        },
        "id": "xoguw1PxO8a4",
        "outputId": "4ae21dcc-9106-44e8-ccd5-21d9401b0471"
      },
      "execution_count": null,
      "outputs": [
        {
          "output_type": "stream",
          "name": "stdout",
          "text": [
            "()\n",
            "(1, 2, 3)\n",
            "('apple', 'date', 'cherry')\n",
            "(True,)\n"
          ]
        }
      ]
    },
    {
      "cell_type": "code",
      "source": [
        "from urllib.request import urlopen\n",
        "\n",
        "url = 'https://google.com/'\n",
        "\n",
        "with urlopen(url) as f:\n",
        "  content = f.read().decode()\n",
        "  with open('google_html', 'w') as cf:\n",
        "    cf.write(content)"
      ],
      "metadata": {
        "id": "4uGIOt0APeFY"
      },
      "execution_count": null,
      "outputs": []
    },
    {
      "cell_type": "code",
      "source": [
        "import urllib.request\n",
        "url = \"https://raw.githubusercontent.com/daseul0719/NLP_2024/refs/heads/main/Sample_ClassActivity/Crime_Punishment_Sample.txt\"\n",
        "\n",
        "response = urllib.request.urlopen(url)\n",
        "content = response.read().decode('utf-8')\n",
        "print(content)"
      ],
      "metadata": {
        "id": "Qw7Raa2Rs1iY"
      },
      "execution_count": null,
      "outputs": []
    },
    {
      "cell_type": "code",
      "source": [],
      "metadata": {
        "id": "1GICd17NtWWo"
      },
      "execution_count": null,
      "outputs": []
    }
  ]
}