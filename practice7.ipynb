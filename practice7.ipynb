{
  "nbformat": 4,
  "nbformat_minor": 0,
  "metadata": {
    "colab": {
      "provenance": [],
      "authorship_tag": "ABX9TyPDVABGJqfZvRkGPeobNJnu",
      "include_colab_link": true
    },
    "kernelspec": {
      "name": "python3",
      "display_name": "Python 3"
    },
    "language_info": {
      "name": "python"
    }
  },
  "cells": [
    {
      "cell_type": "markdown",
      "metadata": {
        "id": "view-in-github",
        "colab_type": "text"
      },
      "source": [
        "<a href=\"https://colab.research.google.com/github/daseul0719/NLP_2024/blob/main/practice7.ipynb\" target=\"_parent\"><img src=\"https://colab.research.google.com/assets/colab-badge.svg\" alt=\"Open In Colab\"/></a>"
      ]
    },
    {
      "cell_type": "code",
      "execution_count": null,
      "metadata": {
        "id": "AOs61G7gmJKo"
      },
      "outputs": [],
      "source": [
        "def add_txt(t1, t2):\n",
        "  t_result = t1 + t2\n",
        "  return t_result"
      ]
    },
    {
      "cell_type": "code",
      "source": [
        "def add_txt(t1, t2):\n",
        "  result = t1 + t2\n",
        "  return result\n",
        "\n",
        "text1 = \"Hello, \"\n",
        "text2 = \"World!\"\n",
        "\n",
        "combined_text = add_txt(text1, text2)\n",
        "\n",
        "print(combined_text)"
      ],
      "metadata": {
        "colab": {
          "base_uri": "https://localhost:8080/"
        },
        "id": "LOFjIpCfmXJD",
        "outputId": "408d9876-ecb0-48ed-fe04-cef5ae7de55c"
      },
      "execution_count": null,
      "outputs": [
        {
          "output_type": "stream",
          "name": "stdout",
          "text": [
            "Hello, World!\n"
          ]
        }
      ]
    },
    {
      "cell_type": "code",
      "source": [
        "def add_txt(t1, t2):\n",
        "  result = t1 + t2\n",
        "\n",
        "text1 = \"Hello, \"\n",
        "text2 = \"World!\"\n",
        "\n",
        "combined_text = add_txt(text1, text2)\n",
        "\n",
        "print(combined_text)"
      ],
      "metadata": {
        "colab": {
          "base_uri": "https://localhost:8080/"
        },
        "id": "7NpbshJ7m17-",
        "outputId": "953cfc8b-686e-4cf6-8086-dbf923ccb5ab"
      },
      "execution_count": null,
      "outputs": [
        {
          "output_type": "stream",
          "name": "stdout",
          "text": [
            "None\n"
          ]
        }
      ]
    },
    {
      "cell_type": "code",
      "source": [
        "def add_number(n1, n2):\n",
        "  n_result = (n1 + n2)\n",
        "  return n_result"
      ],
      "metadata": {
        "id": "LBvXHV5KnUiv"
      },
      "execution_count": null,
      "outputs": []
    },
    {
      "cell_type": "code",
      "source": [
        "def add_number(n1, n2):\n",
        "  n_result = n1 + n2\n",
        "  return n_result\n",
        "\n",
        "num1 = 10\n",
        "num2 = 20\n",
        "\n",
        "add_nums = add_number(num1, num2)\n",
        "print(add_nums)"
      ],
      "metadata": {
        "colab": {
          "base_uri": "https://localhost:8080/"
        },
        "id": "EN9t70NRnhzz",
        "outputId": "57a936ad-e769-4b9d-dc3e-3de6cc8bdfef"
      },
      "execution_count": null,
      "outputs": [
        {
          "output_type": "stream",
          "name": "stdout",
          "text": [
            "30\n"
          ]
        }
      ]
    },
    {
      "cell_type": "code",
      "source": [
        "def add_number(n1, n2):\n",
        "  result = n1 + n2\n",
        "\n",
        "num1 = 10\n",
        "num2 = 100\n",
        "\n",
        "add_nums = add_number(num1, num2)\n",
        "\n",
        "print(add_nums)"
      ],
      "metadata": {
        "colab": {
          "base_uri": "https://localhost:8080/"
        },
        "id": "JzUE8aXOn794",
        "outputId": "3aa8efd5-e219-4e8d-e032-498ef562cf0f"
      },
      "execution_count": null,
      "outputs": [
        {
          "output_type": "stream",
          "name": "stdout",
          "text": [
            "None\n"
          ]
        }
      ]
    },
    {
      "cell_type": "code",
      "source": [
        "def add_txt(t1, t2):\n",
        "  t_result = t1+t2\n",
        "  return t_result\n"
      ],
      "metadata": {
        "id": "7JPioVGmoT5i"
      },
      "execution_count": null,
      "outputs": []
    },
    {
      "cell_type": "code",
      "source": [
        "def add_txt(t1, t2):\n",
        "  result = t1 + t2\n",
        "  return result\n",
        "\n",
        "text1 = \"Hi, \"\n",
        "text2 = \"Tom!\"\n",
        "\n",
        "combined_text = add_txt(text1, text2)\n",
        "\n",
        "print(combined_text)"
      ],
      "metadata": {
        "id": "YLGIuU53olK3",
        "outputId": "168571b1-fbb2-4bf7-dee6-193ccae1b09b",
        "colab": {
          "base_uri": "https://localhost:8080/"
        }
      },
      "execution_count": null,
      "outputs": [
        {
          "output_type": "stream",
          "name": "stdout",
          "text": [
            "Hi, Tom!\n"
          ]
        }
      ]
    },
    {
      "cell_type": "code",
      "source": [
        "def add_txt(t1, t2):\n",
        "  result = t1 + t2\n",
        "\n",
        "text1 = \"Hi, \"\n",
        "text2 = \"Tom!\"\n",
        "\n",
        "combined_text = add_txt(text1, text2)\n",
        "\n",
        "print(combined_text)"
      ],
      "metadata": {
        "id": "UfPVSjPup3Bg",
        "outputId": "95df2149-3f37-4e57-f1fc-ecae54622a31",
        "colab": {
          "base_uri": "https://localhost:8080/"
        }
      },
      "execution_count": null,
      "outputs": [
        {
          "output_type": "stream",
          "name": "stdout",
          "text": [
            "None\n"
          ]
        }
      ]
    },
    {
      "cell_type": "code",
      "source": [
        "def add_number(n1, n2):\n",
        "  n_result = n1 + n2\n",
        "  return n_result"
      ],
      "metadata": {
        "id": "wcVRfJ5vqJdS"
      },
      "execution_count": null,
      "outputs": []
    },
    {
      "cell_type": "code",
      "source": [
        "def add_number(n1, n2):\n",
        "  n_result = n1 + n2\n",
        "  return n_result\n",
        "\n",
        "num1 = 10\n",
        "num2 = 100\n",
        "\n",
        "add_nums = add_number(num1, num2)\n",
        "print(add_nums)"
      ],
      "metadata": {
        "id": "E0JLApXurhqO",
        "outputId": "728efa1d-0948-4b16-efd6-0871f8f31b0d",
        "colab": {
          "base_uri": "https://localhost:8080/"
        }
      },
      "execution_count": null,
      "outputs": [
        {
          "output_type": "stream",
          "name": "stdout",
          "text": [
            "110\n"
          ]
        }
      ]
    },
    {
      "cell_type": "code",
      "source": [
        "name = 'Tom'\n",
        "score = 90\n",
        "age = 18\n",
        "\n",
        "test_result = \"You scored %d on the test.\" %score\n",
        "print(test_result)\n",
        "\n",
        "greeting = \"Hello, %s! You turn to finally %d tears old finally.\" %(name, age)\n",
        "print(greeting)\n",
        "print('\\n')\n",
        "\n",
        "print(\"You scored %d on the test.\" %score)\n",
        "print(\"Hello, %s! You turn to finally %d  years old finally.\" %(name, age))"
      ],
      "metadata": {
        "id": "pAb4Ti-JruwX",
        "outputId": "2c8058df-1a86-4c6e-ff55-81596094a407",
        "colab": {
          "base_uri": "https://localhost:8080/"
        }
      },
      "execution_count": null,
      "outputs": [
        {
          "output_type": "stream",
          "name": "stdout",
          "text": [
            "You scored 90 on the test.\n",
            "Hello, Tom! You turn to finally 18 tears old finally.\n",
            "\n",
            "\n",
            "You scored 90 on the test.\n",
            "Hello, Tom! You turn to finally 18  years old finally.\n"
          ]
        }
      ]
    },
    {
      "cell_type": "code",
      "source": [
        "def add(a, b):\n",
        "  result = a + b\n",
        "  return result\n",
        "\n",
        "num1 = 10\n",
        "num2 = 20\n",
        "\n",
        "sum_result = add(num1, num2)\n",
        "\n",
        "print(\"The sum of %d and %d is %d\" %(num1, num2, sum_result))"
      ],
      "metadata": {
        "id": "ty-xLlHct9Rj",
        "outputId": "fa02c074-9989-467a-932b-b86103e3e9ef",
        "colab": {
          "base_uri": "https://localhost:8080/"
        }
      },
      "execution_count": null,
      "outputs": [
        {
          "output_type": "stream",
          "name": "stdout",
          "text": [
            "The sum of 10 and 20 is 30\n"
          ]
        }
      ]
    },
    {
      "cell_type": "code",
      "source": [
        "def add_and_print(a, b):\n",
        "  result = a + b\n",
        "  print(\"The sum of %d and %d is %d.\" %(a, b, result))\n",
        "  return result\n",
        "\n",
        "sum_result = add_and_print(10, 20)"
      ],
      "metadata": {
        "id": "dQwtNWjOuY-D",
        "outputId": "bcd2457e-b591-4f35-acf8-0986f565669b",
        "colab": {
          "base_uri": "https://localhost:8080/"
        }
      },
      "execution_count": null,
      "outputs": [
        {
          "output_type": "stream",
          "name": "stdout",
          "text": [
            "The sum of 10 and 20 is 30.\n"
          ]
        }
      ]
    },
    {
      "cell_type": "code",
      "source": [
        "\n",
        "def add_txt1(t1, t2='Python'):\n",
        "  print(t1, ':', t2)\n",
        "\n",
        "add_txt1('Best')\n",
        "add_txt1(t1='My friend', t2='Python')\n",
        "add_txt1(t1='My Buddy')\n"
      ],
      "metadata": {
        "id": "vGRBP8tivK5B",
        "outputId": "f742957d-567e-4462-8752-ec30d9d04517",
        "colab": {
          "base_uri": "https://localhost:8080/"
        }
      },
      "execution_count": null,
      "outputs": [
        {
          "output_type": "stream",
          "name": "stdout",
          "text": [
            "Best : Python\n",
            "My friend : Python\n",
            "My Buddy : Python\n"
          ]
        }
      ]
    },
    {
      "cell_type": "code",
      "source": [
        "def func_uncertain(*args):\n",
        "  print(args)\n",
        "\n",
        "func_uncertain()\n",
        "\n",
        "func_uncertain(1,2,3)\n",
        "func_uncertain('apple', 'banana', 'mango')\n",
        "func_uncertain(True)"
      ],
      "metadata": {
        "id": "k-5CLTt4vSyg",
        "outputId": "6b95efc9-d90a-4022-f30d-4e018da1e7a3",
        "colab": {
          "base_uri": "https://localhost:8080/"
        }
      },
      "execution_count": null,
      "outputs": [
        {
          "output_type": "stream",
          "name": "stdout",
          "text": [
            "()\n",
            "(1, 2, 3)\n",
            "('apple', 'banana', 'mango')\n",
            "(True,)\n"
          ]
        }
      ]
    },
    {
      "cell_type": "code",
      "source": [
        "def func_kwa(width, height, **kwargs):\n",
        "  print(kwargs)\n",
        "\n",
        "func_kwa(10, 30)\n",
        "func_kwa(10, 30, depth=40, color='blue')\n"
      ],
      "metadata": {
        "id": "RLW_lUSPwkjH",
        "outputId": "983afd47-3047-493f-96e3-1dbb4f7ba9ad",
        "colab": {
          "base_uri": "https://localhost:8080/"
        }
      },
      "execution_count": null,
      "outputs": [
        {
          "output_type": "stream",
          "name": "stdout",
          "text": [
            "{}\n",
            "{'depth': 40, 'color': 'blue'}\n"
          ]
        }
      ]
    },
    {
      "cell_type": "code",
      "source": [
        "class FourCal:\n",
        "  def setdata(self, first, second):\n",
        "    self.first = first\n",
        "    self.second = second\n",
        "\n",
        "a = FourCal()\n",
        "b = FourCal()"
      ],
      "metadata": {
        "id": "CPASPA7axlnx"
      },
      "execution_count": null,
      "outputs": []
    },
    {
      "cell_type": "code",
      "source": [
        "a.setdata(10, 20)\n",
        "b.setdata(100, 200)"
      ],
      "metadata": {
        "id": "35k5GPLjuJpT"
      },
      "execution_count": null,
      "outputs": []
    },
    {
      "cell_type": "code",
      "source": [
        "class FourCal:\n",
        " def setdata(self, first, second):\n",
        "  self.first = first\n",
        "  self.second = second\n",
        "\n",
        "a = FourCal()\n",
        "b = FourCal()"
      ],
      "metadata": {
        "id": "_31cxDMIuVhm"
      },
      "execution_count": 3,
      "outputs": []
    },
    {
      "cell_type": "code",
      "source": [
        "a.setdata(10, 20)\n",
        "b.setdata(200, 300)"
      ],
      "metadata": {
        "id": "UOCqUgD7aQ0d"
      },
      "execution_count": 4,
      "outputs": []
    },
    {
      "cell_type": "code",
      "source": [
        "a.first"
      ],
      "metadata": {
        "id": "k7w6mvP8agLp",
        "outputId": "70a64a97-f7cd-4b56-ddb4-15cf1d49ac98",
        "colab": {
          "base_uri": "https://localhost:8080/"
        }
      },
      "execution_count": 9,
      "outputs": [
        {
          "output_type": "execute_result",
          "data": {
            "text/plain": [
              "10"
            ]
          },
          "metadata": {},
          "execution_count": 9
        }
      ]
    },
    {
      "cell_type": "code",
      "source": [
        "b.first"
      ],
      "metadata": {
        "id": "BSY5fYNba3Ax",
        "outputId": "86dda4f1-0a5b-4026-8b5b-04820026d22f",
        "colab": {
          "base_uri": "https://localhost:8080/"
        }
      },
      "execution_count": 10,
      "outputs": [
        {
          "output_type": "execute_result",
          "data": {
            "text/plain": [
              "200"
            ]
          },
          "metadata": {},
          "execution_count": 10
        }
      ]
    },
    {
      "cell_type": "code",
      "source": [
        "class FourCal:\n",
        " def setdata(self, first, second):\n",
        "  self.first = first\n",
        "  self.second = second\n",
        "\n",
        " def add(self):\n",
        "  result = self.first + self.second\n",
        "  return result"
      ],
      "metadata": {
        "id": "zM62aWcVbYjJ"
      },
      "execution_count": 11,
      "outputs": []
    },
    {
      "cell_type": "code",
      "source": [
        "a = FourCal()\n",
        "a.setdata(100,200)\n",
        "a.add()"
      ],
      "metadata": {
        "id": "sCXgp7hVbu_D",
        "outputId": "2d3742ef-6fde-49e2-907d-ca19730dd8e4",
        "colab": {
          "base_uri": "https://localhost:8080/"
        }
      },
      "execution_count": 12,
      "outputs": [
        {
          "output_type": "execute_result",
          "data": {
            "text/plain": [
              "300"
            ]
          },
          "metadata": {},
          "execution_count": 12
        }
      ]
    },
    {
      "cell_type": "code",
      "source": [
        "class FourCal:\n",
        "  def setdata(self, first, second):\n",
        "    self.first = first\n",
        "    self.second = second\n",
        "\n",
        "  def add(self):\n",
        "    result = self.first + self.second\n",
        "    return result\n",
        "\n",
        "  def sub(self):\n",
        "    result = self.firs - self.second\n",
        "    return result\n",
        "\n",
        "  def mul(self):\n",
        "    result = self.first * self.second\n",
        "    return result\n",
        "\n",
        "  def div(self):\n",
        "    result = self.first / self.second\n",
        "    return result\n",
        "\n",
        "a = FourCal()\n",
        "b = FourCal()\n",
        "c = FourCal()\n",
        "\n",
        "a.setdata(10, 20)\n",
        "b.setdata(100, 200)\n",
        "c.setdata(150, 100)"
      ],
      "metadata": {
        "id": "-GyZhDUib3sE"
      },
      "execution_count": 13,
      "outputs": []
    },
    {
      "cell_type": "code",
      "source": [
        "a.add()"
      ],
      "metadata": {
        "id": "yc7jKQ03d50T",
        "outputId": "72452b7f-f7d4-4e3c-8ec6-94d048ae02e2",
        "colab": {
          "base_uri": "https://localhost:8080/"
        }
      },
      "execution_count": 14,
      "outputs": [
        {
          "output_type": "execute_result",
          "data": {
            "text/plain": [
              "30"
            ]
          },
          "metadata": {},
          "execution_count": 14
        }
      ]
    },
    {
      "cell_type": "code",
      "source": [
        "b.add()"
      ],
      "metadata": {
        "id": "lS6KpKe1d7Gz",
        "outputId": "5d8c65a8-322d-45c0-a529-dcb16fda343b",
        "colab": {
          "base_uri": "https://localhost:8080/"
        }
      },
      "execution_count": 15,
      "outputs": [
        {
          "output_type": "execute_result",
          "data": {
            "text/plain": [
              "300"
            ]
          },
          "metadata": {},
          "execution_count": 15
        }
      ]
    },
    {
      "cell_type": "code",
      "source": [
        "a.mul()"
      ],
      "metadata": {
        "id": "vxeXN2-5eMNK",
        "outputId": "82108a6f-dce7-436d-f463-aedba71f880b",
        "colab": {
          "base_uri": "https://localhost:8080/"
        }
      },
      "execution_count": 16,
      "outputs": [
        {
          "output_type": "execute_result",
          "data": {
            "text/plain": [
              "200"
            ]
          },
          "metadata": {},
          "execution_count": 16
        }
      ]
    },
    {
      "cell_type": "code",
      "source": [
        "c_result = c.div()\n",
        "round_result = round"
      ],
      "metadata": {
        "id": "tOMIskYWePrp"
      },
      "execution_count": 17,
      "outputs": []
    },
    {
      "cell_type": "code",
      "source": [
        "class MoreFourCal:\n",
        "  def setdata(self, first, second):\n",
        "    self.first = first\n",
        "    self.second = second\n",
        "\n",
        "  def pow(self):\n",
        "    result = self.first ** self.second\n",
        "    return result\n",
        "\n",
        "a = MoreFourCal()"
      ],
      "metadata": {
        "id": "7TUfzd3_fXTg"
      },
      "execution_count": 18,
      "outputs": []
    },
    {
      "cell_type": "code",
      "source": [
        "a.setdata(10,3)\n",
        "a.pow()"
      ],
      "metadata": {
        "id": "TQnzKKNWgMaq",
        "outputId": "f49fe221-1dfa-4060-8844-e9acbf74b675",
        "colab": {
          "base_uri": "https://localhost:8080/"
        }
      },
      "execution_count": 19,
      "outputs": [
        {
          "output_type": "execute_result",
          "data": {
            "text/plain": [
              "1000"
            ]
          },
          "metadata": {},
          "execution_count": 19
        }
      ]
    },
    {
      "cell_type": "code",
      "source": [
        "class Family:\n",
        "  lastname = 'Chandler'\n",
        "\n",
        "a = Family()\n",
        "b = Family()"
      ],
      "metadata": {
        "id": "Xa2bxTAtgSk0"
      },
      "execution_count": 20,
      "outputs": []
    },
    {
      "cell_type": "code",
      "source": [
        "a.lastname"
      ],
      "metadata": {
        "id": "vso4TOS8kEP5",
        "outputId": "ec0f9b22-9f7c-44a4-fbde-fe7e6bfd9aac",
        "colab": {
          "base_uri": "https://localhost:8080/",
          "height": 35
        }
      },
      "execution_count": 21,
      "outputs": [
        {
          "output_type": "execute_result",
          "data": {
            "text/plain": [
              "'Chandler'"
            ],
            "application/vnd.google.colaboratory.intrinsic+json": {
              "type": "string"
            }
          },
          "metadata": {},
          "execution_count": 21
        }
      ]
    },
    {
      "cell_type": "code",
      "source": [
        "Family.lastname = 'Poppins'\n",
        "\n",
        "a.lastname"
      ],
      "metadata": {
        "id": "bODuhhtGk7bQ",
        "outputId": "e84b6f61-20a9-46ee-b80d-66cf2ed5c108",
        "colab": {
          "base_uri": "https://localhost:8080/",
          "height": 35
        }
      },
      "execution_count": 23,
      "outputs": [
        {
          "output_type": "execute_result",
          "data": {
            "text/plain": [
              "'Poppins'"
            ],
            "application/vnd.google.colaboratory.intrinsic+json": {
              "type": "string"
            }
          },
          "metadata": {},
          "execution_count": 23
        }
      ]
    },
    {
      "cell_type": "code",
      "source": [
        "class Greetings:\n",
        "  def sayHello(self):\n",
        "    print('How are you?')\\\n",
        "\n",
        "  def sayBye(self, name):\n",
        "    print('%s, see you!' %name)\n",
        "\n",
        "obj = Greetings()\n",
        "\n",
        "obj.sayHello()\n",
        "obj.sayBye('Emma')"
      ],
      "metadata": {
        "id": "uSKrq8rYlCs6",
        "outputId": "6f588032-5315-435f-9273-e270444dc1e2",
        "colab": {
          "base_uri": "https://localhost:8080/"
        }
      },
      "execution_count": 24,
      "outputs": [
        {
          "output_type": "stream",
          "name": "stdout",
          "text": [
            "How are you?\n",
            "Emma, see you!\n"
          ]
        }
      ]
    },
    {
      "cell_type": "code",
      "source": [
        "result = 0\n",
        "\n",
        "def add(num):\n",
        "  global result\n",
        "  result += num\n",
        "  return result\n",
        "\n",
        "print(add(3))"
      ],
      "metadata": {
        "id": "ZtIeU_Rolps7",
        "outputId": "36e90ca5-0428-44ce-b256-a98b12f8290a",
        "colab": {
          "base_uri": "https://localhost:8080/"
        }
      },
      "execution_count": 25,
      "outputs": [
        {
          "output_type": "stream",
          "name": "stdout",
          "text": [
            "3\n"
          ]
        }
      ]
    },
    {
      "cell_type": "code",
      "source": [],
      "metadata": {
        "id": "BPYRmaryo4Xw"
      },
      "execution_count": null,
      "outputs": []
    }
  ]
}