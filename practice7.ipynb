{
  "nbformat": 4,
  "nbformat_minor": 0,
  "metadata": {
    "colab": {
      "provenance": [],
      "authorship_tag": "ABX9TyMrRI2luKyVGZGlMydiHv3N",
      "include_colab_link": true
    },
    "kernelspec": {
      "name": "python3",
      "display_name": "Python 3"
    },
    "language_info": {
      "name": "python"
    }
  },
  "cells": [
    {
      "cell_type": "markdown",
      "metadata": {
        "id": "view-in-github",
        "colab_type": "text"
      },
      "source": [
        "<a href=\"https://colab.research.google.com/github/daseul0719/NLP_2024/blob/main/practice7.ipynb\" target=\"_parent\"><img src=\"https://colab.research.google.com/assets/colab-badge.svg\" alt=\"Open In Colab\"/></a>"
      ]
    },
    {
      "cell_type": "code",
      "execution_count": null,
      "metadata": {
        "id": "AOs61G7gmJKo"
      },
      "outputs": [],
      "source": [
        "def add_txt(t1, t2):\n",
        "  t_result = t1 + t2\n",
        "  return t_result"
      ]
    },
    {
      "cell_type": "code",
      "source": [
        "def add_txt(t1, t2):\n",
        "  result = t1 + t2\n",
        "  return result\n",
        "\n",
        "text1 = \"Hello, \"\n",
        "text2 = \"World!\"\n",
        "\n",
        "combined_text = add_txt(text1, text2)\n",
        "\n",
        "print(combined_text)"
      ],
      "metadata": {
        "colab": {
          "base_uri": "https://localhost:8080/"
        },
        "id": "LOFjIpCfmXJD",
        "outputId": "408d9876-ecb0-48ed-fe04-cef5ae7de55c"
      },
      "execution_count": null,
      "outputs": [
        {
          "output_type": "stream",
          "name": "stdout",
          "text": [
            "Hello, World!\n"
          ]
        }
      ]
    },
    {
      "cell_type": "code",
      "source": [
        "def add_txt(t1, t2):\n",
        "  result = t1 + t2\n",
        "\n",
        "text1 = \"Hello, \"\n",
        "text2 = \"World!\"\n",
        "\n",
        "combined_text = add_txt(text1, text2)\n",
        "\n",
        "print(combined_text)"
      ],
      "metadata": {
        "colab": {
          "base_uri": "https://localhost:8080/"
        },
        "id": "7NpbshJ7m17-",
        "outputId": "953cfc8b-686e-4cf6-8086-dbf923ccb5ab"
      },
      "execution_count": null,
      "outputs": [
        {
          "output_type": "stream",
          "name": "stdout",
          "text": [
            "None\n"
          ]
        }
      ]
    },
    {
      "cell_type": "code",
      "source": [
        "def add_number(n1, n2):\n",
        "  n_result = (n1 + n2)\n",
        "  return n_result"
      ],
      "metadata": {
        "id": "LBvXHV5KnUiv"
      },
      "execution_count": null,
      "outputs": []
    },
    {
      "cell_type": "code",
      "source": [
        "def add_number(n1, n2):\n",
        "  n_result = n1 + n2\n",
        "  return n_result\n",
        "\n",
        "num1 = 10\n",
        "num2 = 20\n",
        "\n",
        "add_nums = add_number(num1, num2)\n",
        "print(add_nums)"
      ],
      "metadata": {
        "colab": {
          "base_uri": "https://localhost:8080/"
        },
        "id": "EN9t70NRnhzz",
        "outputId": "57a936ad-e769-4b9d-dc3e-3de6cc8bdfef"
      },
      "execution_count": null,
      "outputs": [
        {
          "output_type": "stream",
          "name": "stdout",
          "text": [
            "30\n"
          ]
        }
      ]
    },
    {
      "cell_type": "code",
      "source": [
        "def add_number(n1, n2):\n",
        "  result = n1 + n2\n",
        "\n",
        "num1 = 10\n",
        "num2 = 100\n",
        "\n",
        "add_nums = add_number(num1, num2)\n",
        "\n",
        "print(add_nums)"
      ],
      "metadata": {
        "colab": {
          "base_uri": "https://localhost:8080/"
        },
        "id": "JzUE8aXOn794",
        "outputId": "3aa8efd5-e219-4e8d-e032-498ef562cf0f"
      },
      "execution_count": null,
      "outputs": [
        {
          "output_type": "stream",
          "name": "stdout",
          "text": [
            "None\n"
          ]
        }
      ]
    },
    {
      "cell_type": "code",
      "source": [],
      "metadata": {
        "id": "7JPioVGmoT5i"
      },
      "execution_count": null,
      "outputs": []
    }
  ]
}