{
  "nbformat": 4,
  "nbformat_minor": 0,
  "metadata": {
    "colab": {
      "provenance": [],
      "authorship_tag": "ABX9TyOgn5dWEGyub9zAngu5f2Ky",
      "include_colab_link": true
    },
    "kernelspec": {
      "name": "python3",
      "display_name": "Python 3"
    },
    "language_info": {
      "name": "python"
    }
  },
  "cells": [
    {
      "cell_type": "markdown",
      "metadata": {
        "id": "view-in-github",
        "colab_type": "text"
      },
      "source": [
        "<a href=\"https://colab.research.google.com/github/daseul0719/NLP_2024/blob/main/practice7.ipynb\" target=\"_parent\"><img src=\"https://colab.research.google.com/assets/colab-badge.svg\" alt=\"Open In Colab\"/></a>"
      ]
    },
    {
      "cell_type": "code",
      "execution_count": null,
      "metadata": {
        "id": "AOs61G7gmJKo"
      },
      "outputs": [],
      "source": [
        "def add_txt(t1, t2):\n",
        "  t_result = t1 + t2\n",
        "  return t_result"
      ]
    },
    {
      "cell_type": "code",
      "source": [
        "def add_txt(t1, t2):\n",
        "  result = t1 + t2\n",
        "  return result\n",
        "\n",
        "text1 = \"Hello, \"\n",
        "text2 = \"World!\"\n",
        "\n",
        "combined_text = add_txt(text1, text2)\n",
        "\n",
        "print(combined_text)"
      ],
      "metadata": {
        "colab": {
          "base_uri": "https://localhost:8080/"
        },
        "id": "LOFjIpCfmXJD",
        "outputId": "408d9876-ecb0-48ed-fe04-cef5ae7de55c"
      },
      "execution_count": null,
      "outputs": [
        {
          "output_type": "stream",
          "name": "stdout",
          "text": [
            "Hello, World!\n"
          ]
        }
      ]
    },
    {
      "cell_type": "code",
      "source": [
        "def add_txt(t1, t2):\n",
        "  result = t1 + t2\n",
        "\n",
        "text1 = \"Hello, \"\n",
        "text2 = \"World!\"\n",
        "\n",
        "combined_text = add_txt(text1, text2)\n",
        "\n",
        "print(combined_text)"
      ],
      "metadata": {
        "colab": {
          "base_uri": "https://localhost:8080/"
        },
        "id": "7NpbshJ7m17-",
        "outputId": "953cfc8b-686e-4cf6-8086-dbf923ccb5ab"
      },
      "execution_count": null,
      "outputs": [
        {
          "output_type": "stream",
          "name": "stdout",
          "text": [
            "None\n"
          ]
        }
      ]
    },
    {
      "cell_type": "code",
      "source": [
        "def add_number(n1, n2):\n",
        "  n_result = (n1 + n2)\n",
        "  return n_result"
      ],
      "metadata": {
        "id": "LBvXHV5KnUiv"
      },
      "execution_count": null,
      "outputs": []
    },
    {
      "cell_type": "code",
      "source": [
        "def add_number(n1, n2):\n",
        "  n_result = n1 + n2\n",
        "  return n_result\n",
        "\n",
        "num1 = 10\n",
        "num2 = 20\n",
        "\n",
        "add_nums = add_number(num1, num2)\n",
        "print(add_nums)"
      ],
      "metadata": {
        "colab": {
          "base_uri": "https://localhost:8080/"
        },
        "id": "EN9t70NRnhzz",
        "outputId": "57a936ad-e769-4b9d-dc3e-3de6cc8bdfef"
      },
      "execution_count": null,
      "outputs": [
        {
          "output_type": "stream",
          "name": "stdout",
          "text": [
            "30\n"
          ]
        }
      ]
    },
    {
      "cell_type": "code",
      "source": [
        "def add_number(n1, n2):\n",
        "  result = n1 + n2\n",
        "\n",
        "num1 = 10\n",
        "num2 = 100\n",
        "\n",
        "add_nums = add_number(num1, num2)\n",
        "\n",
        "print(add_nums)"
      ],
      "metadata": {
        "colab": {
          "base_uri": "https://localhost:8080/"
        },
        "id": "JzUE8aXOn794",
        "outputId": "3aa8efd5-e219-4e8d-e032-498ef562cf0f"
      },
      "execution_count": null,
      "outputs": [
        {
          "output_type": "stream",
          "name": "stdout",
          "text": [
            "None\n"
          ]
        }
      ]
    },
    {
      "cell_type": "code",
      "source": [
        "def add_txt(t1, t2):\n",
        "  t_result = t1+t2\n",
        "  return t_result\n",
        ""
      ],
      "metadata": {
        "id": "7JPioVGmoT5i"
      },
      "execution_count": 1,
      "outputs": []
    },
    {
      "cell_type": "code",
      "source": [
        "def add_txt(t1, t2):\n",
        "  result = t1 + t2\n",
        "  return result\n",
        "\n",
        "text1 = \"Hi, \"\n",
        "text2 = \"Tom!\"\n",
        "\n",
        "combined_text = add_txt(text1, text2)\n",
        "\n",
        "print(combined_text)"
      ],
      "metadata": {
        "id": "YLGIuU53olK3",
        "outputId": "168571b1-fbb2-4bf7-dee6-193ccae1b09b",
        "colab": {
          "base_uri": "https://localhost:8080/"
        }
      },
      "execution_count": 2,
      "outputs": [
        {
          "output_type": "stream",
          "name": "stdout",
          "text": [
            "Hi, Tom!\n"
          ]
        }
      ]
    },
    {
      "cell_type": "code",
      "source": [
        "def add_txt(t1, t2):\n",
        "  result = t1 + t2\n",
        "\n",
        "text1 = \"Hi, \"\n",
        "text2 = \"Tom!\"\n",
        "\n",
        "combined_text = add_txt(text1, text2)\n",
        "\n",
        "print(combined_text)"
      ],
      "metadata": {
        "id": "UfPVSjPup3Bg",
        "outputId": "95df2149-3f37-4e57-f1fc-ecae54622a31",
        "colab": {
          "base_uri": "https://localhost:8080/"
        }
      },
      "execution_count": 3,
      "outputs": [
        {
          "output_type": "stream",
          "name": "stdout",
          "text": [
            "None\n"
          ]
        }
      ]
    },
    {
      "cell_type": "code",
      "source": [
        "def add_number(n1, n2):\n",
        "  n_result = n1 + n2\n",
        "  return n_result"
      ],
      "metadata": {
        "id": "wcVRfJ5vqJdS"
      },
      "execution_count": 4,
      "outputs": []
    },
    {
      "cell_type": "code",
      "source": [
        "def add_number(n1, n2):\n",
        "  n_result = n1 + n2\n",
        "  return n_result\n",
        "\n",
        "num1 = 10\n",
        "num2 = 100\n",
        "\n",
        "add_nums = add_number(num1, num2)\n",
        "print(add_nums)"
      ],
      "metadata": {
        "id": "E0JLApXurhqO",
        "outputId": "728efa1d-0948-4b16-efd6-0871f8f31b0d",
        "colab": {
          "base_uri": "https://localhost:8080/"
        }
      },
      "execution_count": 6,
      "outputs": [
        {
          "output_type": "stream",
          "name": "stdout",
          "text": [
            "110\n"
          ]
        }
      ]
    },
    {
      "cell_type": "code",
      "source": [
        "name = 'Tom'\n",
        "score = 90\n",
        "age = 18\n",
        "\n",
        "test_result = \"You scored %d on the test.\" %score\n",
        "print(test_result)\n",
        "\n",
        "greeting = \"Hello, %s! You turn to finally %d tears old finally.\" %(name, age)\n",
        "print(greeting)\n",
        "print('\\n')\n",
        "\n",
        "print(\"You scored %d on the test.\" %score)\n",
        "print(\"Hello, %s! You turn to finally %d  years old finally.\" %(name, age))"
      ],
      "metadata": {
        "id": "pAb4Ti-JruwX",
        "outputId": "2c8058df-1a86-4c6e-ff55-81596094a407",
        "colab": {
          "base_uri": "https://localhost:8080/"
        }
      },
      "execution_count": 8,
      "outputs": [
        {
          "output_type": "stream",
          "name": "stdout",
          "text": [
            "You scored 90 on the test.\n",
            "Hello, Tom! You turn to finally 18 tears old finally.\n",
            "\n",
            "\n",
            "You scored 90 on the test.\n",
            "Hello, Tom! You turn to finally 18  years old finally.\n"
          ]
        }
      ]
    },
    {
      "cell_type": "code",
      "source": [
        "def add(a, b):\n",
        "  result = a + b\n",
        "  return result\n",
        "\n",
        "num1 = 10\n",
        "num2 = 20\n",
        "\n",
        "sum_result = add(num1, num2)\n",
        "\n",
        "print(\"The sum of %d and %d is %d\" %(num1, num2, sum_result))"
      ],
      "metadata": {
        "id": "ty-xLlHct9Rj",
        "outputId": "fa02c074-9989-467a-932b-b86103e3e9ef",
        "colab": {
          "base_uri": "https://localhost:8080/"
        }
      },
      "execution_count": 9,
      "outputs": [
        {
          "output_type": "stream",
          "name": "stdout",
          "text": [
            "The sum of 10 and 20 is 30\n"
          ]
        }
      ]
    },
    {
      "cell_type": "code",
      "source": [
        "def add_and_print(a, b):\n",
        "  result = a + b\n",
        "  print(\"The sum of %d and %d is %d.\" %(a, b, result))\n",
        "  return result\n",
        "\n",
        "sum_result = add_and_print(10, 20)"
      ],
      "metadata": {
        "id": "dQwtNWjOuY-D",
        "outputId": "bcd2457e-b591-4f35-acf8-0986f565669b",
        "colab": {
          "base_uri": "https://localhost:8080/"
        }
      },
      "execution_count": 11,
      "outputs": [
        {
          "output_type": "stream",
          "name": "stdout",
          "text": [
            "The sum of 10 and 20 is 30.\n"
          ]
        }
      ]
    },
    {
      "cell_type": "code",
      "source": [
        "\n",
        "def add_txt1(t1, t2='Python'):\n",
        "  print(t1, ':', t2)\n",
        "\n",
        "add_txt1('Best')\n",
        "add_txt1(t1='My friend', t2='Python')\n",
        "add_txt1(t1='My Buddy')\n"
      ],
      "metadata": {
        "id": "vGRBP8tivK5B",
        "outputId": "f742957d-567e-4462-8752-ec30d9d04517",
        "colab": {
          "base_uri": "https://localhost:8080/"
        }
      },
      "execution_count": 15,
      "outputs": [
        {
          "output_type": "stream",
          "name": "stdout",
          "text": [
            "Best : Python\n",
            "My friend : Python\n",
            "My Buddy : Python\n"
          ]
        }
      ]
    },
    {
      "cell_type": "code",
      "source": [
        "def func_uncertain(*args):\n",
        "  print(args)\n",
        "\n",
        "func_uncertain()\n",
        "\n",
        "func_uncertain(1,2,3)\n",
        "func_uncertain('apple', 'banana', 'mango')\n",
        "func_uncertain(True)"
      ],
      "metadata": {
        "id": "k-5CLTt4vSyg",
        "outputId": "6b95efc9-d90a-4022-f30d-4e018da1e7a3",
        "colab": {
          "base_uri": "https://localhost:8080/"
        }
      },
      "execution_count": 17,
      "outputs": [
        {
          "output_type": "stream",
          "name": "stdout",
          "text": [
            "()\n",
            "(1, 2, 3)\n",
            "('apple', 'banana', 'mango')\n",
            "(True,)\n"
          ]
        }
      ]
    },
    {
      "cell_type": "code",
      "source": [
        "def func_kwa(width, height, **kwargs):\n",
        "  print(kwargs)\n",
        "\n",
        "func_kwa(10, 30)\n",
        "func_kwa(10, 30, depth=40, color='blue')\n"
      ],
      "metadata": {
        "id": "RLW_lUSPwkjH",
        "outputId": "983afd47-3047-493f-96e3-1dbb4f7ba9ad",
        "colab": {
          "base_uri": "https://localhost:8080/"
        }
      },
      "execution_count": 18,
      "outputs": [
        {
          "output_type": "stream",
          "name": "stdout",
          "text": [
            "{}\n",
            "{'depth': 40, 'color': 'blue'}\n"
          ]
        }
      ]
    },
    {
      "cell_type": "code",
      "source": [],
      "metadata": {
        "id": "CPASPA7axlnx"
      },
      "execution_count": null,
      "outputs": []
    }
  ]
}