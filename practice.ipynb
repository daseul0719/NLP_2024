{
  "nbformat": 4,
  "nbformat_minor": 0,
  "metadata": {
    "colab": {
      "provenance": [],
      "authorship_tag": "ABX9TyP7w139vb8haQde9zi/T8d5",
      "include_colab_link": true
    },
    "kernelspec": {
      "name": "python3",
      "display_name": "Python 3"
    },
    "language_info": {
      "name": "python"
    }
  },
  "cells": [
    {
      "cell_type": "markdown",
      "metadata": {
        "id": "view-in-github",
        "colab_type": "text"
      },
      "source": [
        "<a href=\"https://colab.research.google.com/github/daseul0719/NLP_2024/blob/main/practice.ipynb\" target=\"_parent\"><img src=\"https://colab.research.google.com/assets/colab-badge.svg\" alt=\"Open In Colab\"/></a>"
      ]
    },
    {
      "cell_type": "code",
      "execution_count": null,
      "metadata": {
        "id": "DSy4VKuwsFTT",
        "outputId": "c52cea8f-6b0b-439c-fd77-f84c86c72826",
        "colab": {
          "base_uri": "https://localhost:8080/"
        }
      },
      "outputs": [
        {
          "output_type": "stream",
          "name": "stdout",
          "text": [
            "3\n"
          ]
        }
      ],
      "source": [
        "a = 3\n",
        "b = 1\n",
        "print(a**b)"
      ]
    },
    {
      "cell_type": "code",
      "source": [
        "a = 10\n",
        "b = 3\n",
        "c = 1\n",
        "print(a+b**c)"
      ],
      "metadata": {
        "id": "F-loQ4tbscdC",
        "outputId": "9fdc0a2e-afba-49bd-f825-9ab77ffbe0e4",
        "colab": {
          "base_uri": "https://localhost:8080/"
        }
      },
      "execution_count": null,
      "outputs": [
        {
          "output_type": "stream",
          "name": "stdout",
          "text": [
            "13\n"
          ]
        }
      ]
    },
    {
      "cell_type": "markdown",
      "source": [
        "#**ABC**\n",
        "- a\n",
        "- b\n",
        "- c\n",
        "\n",
        "<font color = 'red'> A\n",
        "\n",
        "<font color = 'orange'> B\n",
        "\n",
        "[click here.](https://www.markdownguide.org/basic-syntax/)\n",
        "\n",
        "\n",
        "\n",
        "\n",
        "\n",
        "\n",
        "\n",
        "\n",
        "\n",
        "\n"
      ],
      "metadata": {
        "id": "e-sJagODtLwI"
      }
    },
    {
      "cell_type": "markdown",
      "source": [
        "# code cells\n",
        "\n",
        "1. When you write code lines with python, you use code cells. You can insert a new code cell by selecting +Code.  \n",
        "<font color = 'green' >arrow-up</font> <font color = 'orange'>arrow-down</font>\n",
        "\n",
        "2. No indent vs. Indent\n",
        "- ✅ Don't indent when you write code lines on code cells.\n",
        "- ✅ When you define a function, the first line of the function ends with a colone symbol (i.e.,:).\n",
        "\n"
      ],
      "metadata": {
        "id": "ROKF32KWYduc"
      }
    },
    {
      "cell_type": "code",
      "source": [
        "import keyword\n",
        "keyword.kwlist"
      ],
      "metadata": {
        "id": "KYbJn50SdC3D",
        "outputId": "3fd7a245-2558-4555-a3b2-d14cbaf0aa75",
        "colab": {
          "base_uri": "https://localhost:8080/"
        }
      },
      "execution_count": null,
      "outputs": [
        {
          "output_type": "execute_result",
          "data": {
            "text/plain": [
              "['False',\n",
              " 'None',\n",
              " 'True',\n",
              " 'and',\n",
              " 'as',\n",
              " 'assert',\n",
              " 'async',\n",
              " 'await',\n",
              " 'break',\n",
              " 'class',\n",
              " 'continue',\n",
              " 'def',\n",
              " 'del',\n",
              " 'elif',\n",
              " 'else',\n",
              " 'except',\n",
              " 'finally',\n",
              " 'for',\n",
              " 'from',\n",
              " 'global',\n",
              " 'if',\n",
              " 'import',\n",
              " 'in',\n",
              " 'is',\n",
              " 'lambda',\n",
              " 'nonlocal',\n",
              " 'not',\n",
              " 'or',\n",
              " 'pass',\n",
              " 'raise',\n",
              " 'return',\n",
              " 'try',\n",
              " 'while',\n",
              " 'with',\n",
              " 'yield']"
            ]
          },
          "metadata": {},
          "execution_count": 1
        }
      ]
    },
    {
      "cell_type": "markdown",
      "source": [
        "# practice #\n",
        "## practice ##\n",
        "### practice ###\n",
        "\n",
        "* ABCDE\n",
        "- ABCDE\n",
        "\n",
        "<font color = 'gray'> click here\n",
        "[click here](https://colab.research.google.com/github/daseul0719/NLP_2024/blob/main/practice.ipynb#scrollTo=FbfJYMvCrui_)\n",
        "\n",
        "\n",
        "- ✋ My name is daseul An.\n",
        "- ⛄ winter\n",
        "- 🎼 music\n",
        "\n",
        ".\n",
        "- ⭐ <font color = 'dark yellow'> star </font>\n",
        "- [star](https://gist.github.com/rxaviers/7360908)\n",
        "- 💫"
      ],
      "metadata": {
        "id": "FbfJYMvCrui_"
      }
    },
    {
      "cell_type": "code",
      "source": [
        "a = 20\n",
        "b = 2\n",
        "c = 4\n",
        "print(a - b + c)\n",
        "\n",
        "a = 10\n",
        "print(a + b)\n",
        "\n",
        "print(a*b*c)"
      ],
      "metadata": {
        "id": "dchc-6r6cHBi",
        "outputId": "48158762-5a41-4b4f-f8ca-5ce2a81002f6",
        "colab": {
          "base_uri": "https://localhost:8080/"
        }
      },
      "execution_count": null,
      "outputs": [
        {
          "output_type": "stream",
          "name": "stdout",
          "text": [
            "22\n",
            "12\n",
            "80\n"
          ]
        }
      ]
    },
    {
      "cell_type": "markdown",
      "source": [
        "This is the first line. <br>\n",
        "This is the second line. </p>\n",
        "\n",
        "love **is** bold. <br>\n",
        "love ***is*** bold. <br>\n",
        "love *is* bold.\n",
        "\n",
        ">**Dorothy** followed her through many of the beautiful rooms in her castle.\n",
        ">\n",
        "\n",
        "\n",
        "1. first item\n",
        "\n",
        "\n"
      ],
      "metadata": {
        "id": "ax9HZW81c5Oy"
      }
    },
    {
      "cell_type": "code",
      "source": [],
      "metadata": {
        "id": "uBD7l8peMbGr"
      },
      "execution_count": null,
      "outputs": []
    },
    {
      "cell_type": "markdown",
      "source": [
        "### **1. Github([visit a tutorial on youtube](https://www.youtube.com/watch?v=c-NikCpec7U))**\n",
        "\n",
        "### **1.github**\n",
        "\n",
        "\n",
        "\n",
        "\n",
        "\n",
        "\n",
        "\n",
        "```\n",
        "# 코드로 형식 지정됨\n",
        "```\n",
        "\n",
        "\n"
      ],
      "metadata": {
        "id": "Cev4UcgXMoK-"
      }
    }
  ]
}