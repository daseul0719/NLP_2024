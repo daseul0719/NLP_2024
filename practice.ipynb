{
  "nbformat": 4,
  "nbformat_minor": 0,
  "metadata": {
    "colab": {
      "provenance": [],
      "authorship_tag": "ABX9TyN62utchFKQdYi3Gj27ugN7",
      "include_colab_link": true
    },
    "kernelspec": {
      "name": "python3",
      "display_name": "Python 3"
    },
    "language_info": {
      "name": "python"
    }
  },
  "cells": [
    {
      "cell_type": "markdown",
      "metadata": {
        "id": "view-in-github",
        "colab_type": "text"
      },
      "source": [
        "<a href=\"https://colab.research.google.com/github/daseul0719/NLP_2024/blob/main/practice.ipynb\" target=\"_parent\"><img src=\"https://colab.research.google.com/assets/colab-badge.svg\" alt=\"Open In Colab\"/></a>"
      ]
    },
    {
      "cell_type": "code",
      "execution_count": null,
      "metadata": {
        "id": "DSy4VKuwsFTT",
        "outputId": "c52cea8f-6b0b-439c-fd77-f84c86c72826",
        "colab": {
          "base_uri": "https://localhost:8080/"
        }
      },
      "outputs": [
        {
          "output_type": "stream",
          "name": "stdout",
          "text": [
            "3\n"
          ]
        }
      ],
      "source": [
        "a = 3\n",
        "b = 1\n",
        "print(a**b)"
      ]
    },
    {
      "cell_type": "code",
      "source": [
        "a = 10\n",
        "b = 3\n",
        "c = 1\n",
        "print(a+b**c)"
      ],
      "metadata": {
        "id": "F-loQ4tbscdC",
        "outputId": "9fdc0a2e-afba-49bd-f825-9ab77ffbe0e4",
        "colab": {
          "base_uri": "https://localhost:8080/"
        }
      },
      "execution_count": null,
      "outputs": [
        {
          "output_type": "stream",
          "name": "stdout",
          "text": [
            "13\n"
          ]
        }
      ]
    },
    {
      "cell_type": "markdown",
      "source": [
        "#**ABC**\n",
        "- a\n",
        "- b\n",
        "- c\n",
        "\n",
        "<font color = 'red'> A\n",
        "\n",
        "<font color = 'orange'> B\n",
        "\n",
        "[click here.](https://www.markdownguide.org/basic-syntax/)\n",
        "\n",
        "\n",
        "\n",
        "\n",
        "\n",
        "\n",
        "\n",
        "\n",
        "\n",
        "\n"
      ],
      "metadata": {
        "id": "e-sJagODtLwI"
      }
    },
    {
      "cell_type": "markdown",
      "source": [
        "# code cells\n",
        "\n",
        "1. When you write code lines with python, you use code cells. You can insert a new code cell by selecting +Code.  \n",
        "<font color = 'green' >arrow-up</font> <font color = 'orange'>arrow-down</font>\n",
        "\n",
        "2. No indent vs. Indent\n",
        "- ✅ Don't indent when you write code lines on code cells.\n",
        "- ✅ When you define a function, the first line of the function ends with a colone symbol (i.e.,:).\n",
        "\n"
      ],
      "metadata": {
        "id": "ROKF32KWYduc"
      }
    },
    {
      "cell_type": "code",
      "source": [
        "import keyword\n",
        "keyword.kwlist"
      ],
      "metadata": {
        "id": "KYbJn50SdC3D",
        "outputId": "3fd7a245-2558-4555-a3b2-d14cbaf0aa75",
        "colab": {
          "base_uri": "https://localhost:8080/"
        }
      },
      "execution_count": null,
      "outputs": [
        {
          "output_type": "execute_result",
          "data": {
            "text/plain": [
              "['False',\n",
              " 'None',\n",
              " 'True',\n",
              " 'and',\n",
              " 'as',\n",
              " 'assert',\n",
              " 'async',\n",
              " 'await',\n",
              " 'break',\n",
              " 'class',\n",
              " 'continue',\n",
              " 'def',\n",
              " 'del',\n",
              " 'elif',\n",
              " 'else',\n",
              " 'except',\n",
              " 'finally',\n",
              " 'for',\n",
              " 'from',\n",
              " 'global',\n",
              " 'if',\n",
              " 'import',\n",
              " 'in',\n",
              " 'is',\n",
              " 'lambda',\n",
              " 'nonlocal',\n",
              " 'not',\n",
              " 'or',\n",
              " 'pass',\n",
              " 'raise',\n",
              " 'return',\n",
              " 'try',\n",
              " 'while',\n",
              " 'with',\n",
              " 'yield']"
            ]
          },
          "metadata": {},
          "execution_count": 1
        }
      ]
    },
    {
      "cell_type": "markdown",
      "source": [
        "# practice #\n",
        "## practice ##\n",
        "### practice ###\n",
        "\n",
        "* ABCDE\n",
        "- ABCDE\n",
        "\n",
        "<font color = 'gray'> click here\n",
        "[click here](https://colab.research.google.com/github/daseul0719/NLP_2024/blob/main/practice.ipynb#scrollTo=FbfJYMvCrui_)\n",
        "\n",
        "\n",
        "- ✋ My name is daseul An.\n",
        "- ⛄ winter\n",
        "- 🎼 music\n",
        "\n",
        ".\n",
        "- ⭐ <font color = 'dark yellow'> star </font>\n",
        "- [star](https://gist.github.com/rxaviers/7360908)\n",
        "- 💫"
      ],
      "metadata": {
        "id": "FbfJYMvCrui_"
      }
    },
    {
      "cell_type": "code",
      "source": [
        "a = 20\n",
        "b = 2\n",
        "c = 4\n",
        "print(a - b + c)\n",
        "\n",
        "a = 10\n",
        "print(a + b)\n",
        "\n",
        "print(a*b*c)"
      ],
      "metadata": {
        "id": "dchc-6r6cHBi",
        "outputId": "48158762-5a41-4b4f-f8ca-5ce2a81002f6",
        "colab": {
          "base_uri": "https://localhost:8080/"
        }
      },
      "execution_count": null,
      "outputs": [
        {
          "output_type": "stream",
          "name": "stdout",
          "text": [
            "22\n",
            "12\n",
            "80\n"
          ]
        }
      ]
    },
    {
      "cell_type": "markdown",
      "source": [
        "This is the first line. <br>\n",
        "This is the second line. </p>\n",
        "\n",
        "love **is** bold. <br>\n",
        "love ***is*** bold. <br>\n",
        "love *is* bold.\n",
        "\n",
        ">**Dorothy** followed her through many of the beautiful rooms in her castle.\n",
        ">\n",
        "\n",
        "\n",
        "1. first item\n",
        "\n",
        "\n"
      ],
      "metadata": {
        "id": "ax9HZW81c5Oy"
      }
    },
    {
      "cell_type": "code",
      "source": [],
      "metadata": {
        "id": "uBD7l8peMbGr"
      },
      "execution_count": null,
      "outputs": []
    },
    {
      "cell_type": "markdown",
      "source": [
        "### **1. Github([visit a tutorial on youtube](https://www.youtube.com/watch?v=c-NikCpec7U))**\n",
        "\n",
        "### **1.github**\n",
        "\n",
        "\n",
        "\n",
        "\n",
        "\n",
        "\n",
        "\n",
        "\n",
        "```\n",
        "# 코드로 형식 지정됨\n",
        "```\n",
        "\n",
        "\n"
      ],
      "metadata": {
        "id": "Cev4UcgXMoK-"
      }
    },
    {
      "cell_type": "markdown",
      "source": [],
      "metadata": {
        "id": "JzycvZf2UGi6"
      }
    },
    {
      "cell_type": "code",
      "source": [
        "import pandas as pd"
      ],
      "metadata": {
        "id": "PdvtAoGvUXVJ"
      },
      "execution_count": null,
      "outputs": []
    },
    {
      "cell_type": "code",
      "source": [
        "#@markdown exercise\n",
        "\n",
        "a = 10\n",
        "b = 20\n",
        "print(a+b)"
      ],
      "metadata": {
        "id": "tjnt-OS3gkh6",
        "outputId": "c16092c4-f91c-4d87-f02c-98feac2a084d",
        "colab": {
          "base_uri": "https://localhost:8080/"
        }
      },
      "execution_count": null,
      "outputs": [
        {
          "output_type": "stream",
          "name": "stdout",
          "text": [
            "120\n"
          ]
        }
      ]
    },
    {
      "cell_type": "markdown",
      "source": [
        "| # | Sessions | Keyword |\n",
        "| :--: | :--: | :--: |\n",
        "| 1 | Markdown Language | syntax link |\n",
        "| 2 | Code cells | variable, assign |\n",
        "| 3 | Five types of data | number, string, list, tuple, dictionary |\n",
        "\n",
        "\n"
      ],
      "metadata": {
        "id": "b3op12g0r2FK"
      }
    },
    {
      "cell_type": "markdown",
      "source": [
        "### **4. Markdown Language**\n",
        "- emoji([emoji](https://gist.github.com/rxaviers/7360908))\n",
        "*[emoji](https://gist.github.com/rxaviers/7360908)"
      ],
      "metadata": {
        "id": "eDHDwhgJt71G"
      }
    },
    {
      "cell_type": "markdown",
      "source": [
        "# **How to use <font color = 'red'> Markdown Language**\n",
        "* ## For <font color = 'orange'> more syntax </font> of markdown language, [Click here.](https://www.markdownguide.org/basic-syntax/)"
      ],
      "metadata": {
        "id": "PTTtIrbpv2Pq"
      }
    },
    {
      "cell_type": "markdown",
      "source": [
        "string: \"a\", 'a', \"i love sam's pencil case.\" </br>\n",
        "list: ['a', 'i love python'] </br>\n",
        "tuple: ('a', 1) </br>\n",
        "dictionary: {'a':'A'} </br>\n",
        "            {'a':1, 'b':3} </br>\n",
        "            {'d':5}\n",
        "            "
      ],
      "metadata": {
        "id": "-oGhwE0DrSl0"
      }
    },
    {
      "cell_type": "markdown",
      "source": [
        "print(\"문자\")"
      ],
      "metadata": {
        "id": "uU35dMsC8E3g"
      }
    },
    {
      "cell_type": "code",
      "source": [
        "print(\"문자\")"
      ],
      "metadata": {
        "id": "1T5geksI8LoM",
        "outputId": "354f023b-32b1-49f3-af1c-ee8cfc268ec8",
        "colab": {
          "base_uri": "https://localhost:8080/"
        }
      },
      "execution_count": null,
      "outputs": [
        {
          "output_type": "stream",
          "name": "stdout",
          "text": [
            "문자\n"
          ]
        }
      ]
    },
    {
      "cell_type": "code",
      "source": [
        "print('문자' + '숫자')"
      ],
      "metadata": {
        "id": "yMZ15th784Tq",
        "outputId": "1fa8a594-6ad0-4722-bcb0-74a02aa82940",
        "colab": {
          "base_uri": "https://localhost:8080/"
        }
      },
      "execution_count": null,
      "outputs": [
        {
          "output_type": "stream",
          "name": "stdout",
          "text": [
            "문자숫자\n"
          ]
        }
      ]
    },
    {
      "cell_type": "code",
      "source": [
        "print('a' * 10)"
      ],
      "metadata": {
        "id": "DTCyd2iH8-B4",
        "outputId": "978ba656-b75d-4ff3-e281-b5d246aa7b1d",
        "colab": {
          "base_uri": "https://localhost:8080/"
        }
      },
      "execution_count": null,
      "outputs": [
        {
          "output_type": "stream",
          "name": "stdout",
          "text": [
            "aaaaaaaaaa\n"
          ]
        }
      ]
    },
    {
      "cell_type": "code",
      "source": [
        "print('='*10 + 'aa' + '='*10)"
      ],
      "metadata": {
        "id": "vpQt_Iww9dC5",
        "outputId": "55a78b91-10cc-4cbe-9cf4-1d3be35e32e0",
        "colab": {
          "base_uri": "https://localhost:8080/"
        }
      },
      "execution_count": null,
      "outputs": [
        {
          "output_type": "stream",
          "name": "stdout",
          "text": [
            "==========aa==========\n"
          ]
        }
      ]
    },
    {
      "cell_type": "code",
      "source": [
        "3**5"
      ],
      "metadata": {
        "id": "PyjIB3EV-p2V",
        "outputId": "f360e1c1-ac7f-4bb3-a141-25d469e30d0f",
        "colab": {
          "base_uri": "https://localhost:8080/"
        }
      },
      "execution_count": null,
      "outputs": [
        {
          "output_type": "execute_result",
          "data": {
            "text/plain": [
              "243"
            ]
          },
          "metadata": {},
          "execution_count": 9
        }
      ]
    },
    {
      "cell_type": "markdown",
      "source": [
        "# **string**\n",
        "\"A\", \"123\", '1', \"i love sam's pencil case.\"\n",
        "\n",
        "# **list**\n",
        "['a', 'abc', 'i love python.']\n",
        "\n",
        "# **tuple**\n",
        "('a', '1234', 'i love python.')\n",
        "\n",
        "# **dictionary**\n",
        "{'a':4}\n",
        "{'a':1, 'c':10, 'e':100}\n",
        "\n"
      ],
      "metadata": {
        "id": "Ow2AUfGsdPHO"
      }
    },
    {
      "cell_type": "code",
      "source": [
        "a = 100\n",
        "print(a)"
      ],
      "metadata": {
        "id": "-B2mlL3EiUIN",
        "outputId": "f2b4e5ee-fc5f-41bf-b62d-b15855933b02",
        "colab": {
          "base_uri": "https://localhost:8080/"
        }
      },
      "execution_count": 1,
      "outputs": [
        {
          "output_type": "stream",
          "name": "stdout",
          "text": [
            "100\n"
          ]
        }
      ]
    },
    {
      "cell_type": "code",
      "source": [
        "#@markdown To assign vaild var varible names\n",
        "\n",
        "a = 'Lori'\n",
        "print(a)\n",
        "\n",
        "_b = 'Sam'\n",
        "print(_b)\n",
        "\n",
        "a_b = 'ken'\n",
        "print(a_b)\n",
        "\n",
        "c_d = 'Jen'\n",
        "print(c_d)\n",
        "\n"
      ],
      "metadata": {
        "id": "6gyjlqezictg",
        "outputId": "cb0da3fd-ebea-46aa-f772-2bccb0dcb03a",
        "colab": {
          "base_uri": "https://localhost:8080/"
        }
      },
      "execution_count": 3,
      "outputs": [
        {
          "output_type": "stream",
          "name": "stdout",
          "text": [
            "Lori\n",
            "Sam\n",
            "ken\n",
            "Jen\n"
          ]
        }
      ]
    },
    {
      "cell_type": "code",
      "source": [
        "d = [\"mercury\", \"Venus\", \"Earth\", \"Mars\"]\n",
        "e = [\"수성\", \"금성\", \"지구\", \"화성\"]\n",
        "f = [1,2,3,4,]\n",
        "\n",
        "print(d)\n",
        "print(e)\n",
        "print(f)"
      ],
      "metadata": {
        "id": "t_TsYMp1kApj",
        "outputId": "214164ac-3023-4f5f-eb17-59a917d4ffdf",
        "colab": {
          "base_uri": "https://localhost:8080/"
        }
      },
      "execution_count": 4,
      "outputs": [
        {
          "output_type": "stream",
          "name": "stdout",
          "text": [
            "['mercury', 'Venus', 'Earth', 'Mars']\n",
            "['수성', '금성', '지구', '화성']\n",
            "[1, 2, 3, 4]\n"
          ]
        }
      ]
    },
    {
      "cell_type": "code",
      "source": [
        "k = {'Mercury':'수성', 'Venus':'금성', 'Earth':'지구', 'Mars':'화성'}\n",
        "m = {'Mercury 수성':1, 'Venus 금성':2, 'Earth 지구':3, 'Mars 화성':4}\n",
        "\n",
        "print(k)\n",
        "print(m)"
      ],
      "metadata": {
        "id": "jF80KKZfkchl",
        "outputId": "c0c1ead8-7dbd-4979-da42-fe1bfe19c0a7",
        "colab": {
          "base_uri": "https://localhost:8080/"
        }
      },
      "execution_count": 6,
      "outputs": [
        {
          "output_type": "stream",
          "name": "stdout",
          "text": [
            "{'Mercury': '수성', 'Venus': '금성', 'Earth': '지구', 'Mars': '화성'}\n",
            "{'Mercury 수성': 1, 'Venus 금성': 2, 'Earth 지구': 3, 'Mars 화성': 4}\n"
          ]
        }
      ]
    },
    {
      "cell_type": "code",
      "source": [],
      "metadata": {
        "id": "A4FYfAkOmAvc"
      },
      "execution_count": null,
      "outputs": []
    }
  ]
}