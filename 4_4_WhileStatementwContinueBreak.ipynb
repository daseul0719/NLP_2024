{
  "nbformat": 4,
  "nbformat_minor": 0,
  "metadata": {
    "colab": {
      "provenance": [],
      "include_colab_link": true
    },
    "kernelspec": {
      "name": "python3",
      "display_name": "Python 3"
    },
    "language_info": {
      "name": "python"
    }
  },
  "cells": [
    {
      "cell_type": "markdown",
      "metadata": {
        "id": "view-in-github",
        "colab_type": "text"
      },
      "source": [
        "<a href=\"https://colab.research.google.com/github/daseul0719/NLP_2024/blob/main/4_4_WhileStatementwContinueBreak.ipynb\" target=\"_parent\"><img src=\"https://colab.research.google.com/assets/colab-badge.svg\" alt=\"Open In Colab\"/></a>"
      ]
    },
    {
      "cell_type": "markdown",
      "source": [
        "# 🅰️ ➿ **While statement 🔄 Loop**\n",
        "\n",
        "- It executes repeatedly a block of code <font color = 'red'> as long as a certain condition is true.\n",
        "\n",
        "  (특정 조건이 사실인 한 코드 블록을 반복적으로 실행합니다.)\n",
        "  - It creates loops where you want to perform a task repeatedly <font color = 'red'> until a specified condition becomes false.\n",
        "\n",
        "  (지정된 조건이 거짓이 될 때까지 작업을 반복적으로 수행하려는 루프를 생성합니다.)"
      ],
      "metadata": {
        "id": "DR869DSG8AZi"
      }
    },
    {
      "cell_type": "markdown",
      "source": [
        "While Statement 1"
      ],
      "metadata": {
        "id": "6nqSBDMttgFS"
      }
    },
    {
      "cell_type": "markdown",
      "source": [
        "#### ⏳ <font color = 'blue'> Using the same variable name for simplicity and clarity is preferred, especially in situations like loops where the purpose of the variable is clear and consistent.\n",
        "\n",
        "(단순성과 명확성을 위해 동일한 변수 이름을 사용하는 것이 선호되며, 특히 변수의 목적이 명확하고 일관된 루프와 같은 상황에서는 더욱 그렇습니다)\n",
        "\n",
        "e.g., count +=1\n",
        "- In Python, the assignment statement counter += 1 is a shorthand notation for counter = counter + 1. Here, the variable counter is being incremented by 1, and the result is assigned back to the same variable counter.\n",
        "\n",
        "(Python에서, 할당 서술 카운터 += 1은 카운터 = 카운터 + 1의 속기 표기법입니다. 여기서 가변 카운터는 1씩 증가하고 있고, 결과는 동일한 변수 카운터에 다시 할당됩니다.)\n"
      ],
      "metadata": {
        "id": "N-4xWtfuZl6O"
      }
    },
    {
      "cell_type": "markdown",
      "source": [
        "-> 1+1=2, 2+1=3, 3+1=4"
      ],
      "metadata": {
        "id": "m1O-B-OGSFVh"
      }
    },
    {
      "cell_type": "code",
      "source": [
        "counter = 1  # Initialize a counter variable\n",
        "\n",
        "while counter <= 5:  # Condition: Continue while counter is less than or equal to 5\n",
        "    print(counter)  # Print the current value of the counter\n",
        "    counter += 1  # Increment the counter by 1 in each iteration (i.e., counter = counter +1)\n",
        "                   -> 1씩 더함\n",
        "                   카운터(루프가 돌며 계속 값은 변함)는 값에 1씩 더함\n",
        "                   counter += 1    (i.e., counter = counter +1)\n",
        "\n",
        "\n",
        "print(\"Loop finished!\")"
      ],
      "metadata": {
        "colab": {
          "base_uri": "https://localhost:8080/"
        },
        "id": "HBQ4o4AitM6k",
        "outputId": "27a70feb-c1c6-47f6-cc64-112199fbbf3b"
      },
      "execution_count": null,
      "outputs": [
        {
          "output_type": "stream",
          "name": "stdout",
          "text": [
            "1\n",
            "2\n",
            "3\n",
            "4\n",
            "5\n",
            "Loop finished!\n"
          ]
        }
      ]
    },
    {
      "cell_type": "markdown",
      "source": [
        "One more exercise for a shorthand notation"
      ],
      "metadata": {
        "id": "JcyhHJ87afoP"
      }
    },
    {
      "cell_type": "code",
      "source": [
        "counter = 1\n",
        "\n",
        "while counter <=51:\n",
        "  print(counter)\n",
        "  counter += 1\n",
        "\n",
        "print('Loop finished!')"
      ],
      "metadata": {
        "collapsed": true,
        "id": "PlqnQGiXSUvj",
        "outputId": "a394a321-c09a-42ca-ad5e-85b75f89c58f",
        "colab": {
          "base_uri": "https://localhost:8080/"
        }
      },
      "execution_count": null,
      "outputs": [
        {
          "output_type": "stream",
          "name": "stdout",
          "text": [
            "1\n",
            "2\n",
            "3\n",
            "4\n",
            "5\n",
            "6\n",
            "7\n",
            "8\n",
            "9\n",
            "10\n",
            "11\n",
            "12\n",
            "13\n",
            "14\n",
            "15\n",
            "16\n",
            "17\n",
            "18\n",
            "19\n",
            "20\n",
            "21\n",
            "22\n",
            "23\n",
            "24\n",
            "25\n",
            "26\n",
            "27\n",
            "28\n",
            "29\n",
            "30\n",
            "31\n",
            "32\n",
            "33\n",
            "34\n",
            "35\n",
            "36\n",
            "37\n",
            "38\n",
            "39\n",
            "40\n",
            "41\n",
            "42\n",
            "43\n",
            "44\n",
            "45\n",
            "46\n",
            "47\n",
            "48\n",
            "49\n",
            "50\n",
            "51\n",
            "Loop finished!\n"
          ]
        }
      ]
    },
    {
      "cell_type": "code",
      "source": [
        "x = 5\n",
        "x *= 2  # Equivalent to: x = x * 2\n",
        "print(x)  # Output: 10"
      ],
      "metadata": {
        "colab": {
          "base_uri": "https://localhost:8080/"
        },
        "id": "w-X5NPBWagIV",
        "outputId": "81c6a990-4c33-41ed-ae29-531a02022c29"
      },
      "execution_count": null,
      "outputs": [
        {
          "output_type": "stream",
          "name": "stdout",
          "text": [
            "10\n"
          ]
        }
      ]
    }
  ]
}