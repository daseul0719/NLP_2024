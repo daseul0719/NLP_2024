{
  "nbformat": 4,
  "nbformat_minor": 0,
  "metadata": {
    "colab": {
      "provenance": [],
      "authorship_tag": "ABX9TyN9g14bG+a0CAZacoN1sj0H",
      "include_colab_link": true
    },
    "kernelspec": {
      "name": "python3",
      "display_name": "Python 3"
    },
    "language_info": {
      "name": "python"
    }
  },
  "cells": [
    {
      "cell_type": "markdown",
      "metadata": {
        "id": "view-in-github",
        "colab_type": "text"
      },
      "source": [
        "<a href=\"https://colab.research.google.com/github/daseul0719/NLP_2024/blob/main/Untitled0.ipynb\" target=\"_parent\"><img src=\"https://colab.research.google.com/assets/colab-badge.svg\" alt=\"Open In Colab\"/></a>"
      ]
    },
    {
      "cell_type": "markdown",
      "source": [
        "# a\n",
        "## a\n",
        "### a\n",
        "\n",
        "**A**\n"
      ],
      "metadata": {
        "id": "THXl4KKzUfyy"
      }
    },
    {
      "cell_type": "markdown",
      "source": [
        "<font color = red>red </font>\n",
        "<font color = yellow> yellow </font> yellow\n",
        "site([site](https://github.com/))\n"
      ],
      "metadata": {
        "id": "N5gYtsiRU6tz"
      }
    },
    {
      "cell_type": "code",
      "source": [
        "a = 10\n",
        "b = 2\n",
        "print(a+b)\n",
        "print(a*b)"
      ],
      "metadata": {
        "colab": {
          "base_uri": "https://localhost:8080/"
        },
        "id": "xljAYozmV2_c",
        "outputId": "7e5c197a-fc3d-4b2a-e178-5d7e321fc091"
      },
      "execution_count": null,
      "outputs": [
        {
          "output_type": "stream",
          "name": "stdout",
          "text": [
            "12\n",
            "20\n"
          ]
        }
      ]
    },
    {
      "cell_type": "code",
      "source": [
        "a = 24\n",
        "b = 'string'\n",
        "c = 'seqeunce'\n",
        "d = ['string', 'seqeunce']\n",
        "e = ('string', 'seqeunce')"
      ],
      "metadata": {
        "id": "5Z29GoWeV-H3"
      },
      "execution_count": null,
      "outputs": []
    },
    {
      "cell_type": "code",
      "source": [
        "string -> 'a', \"a\"\n",
        "list -> [1, 'a', 'abc']\n",
        "tuple -> ('a', 1)\n",
        "dictionary -> {'a':1}"
      ],
      "metadata": {
        "id": "qS4IB3hVWTw1"
      },
      "execution_count": null,
      "outputs": []
    },
    {
      "cell_type": "markdown",
      "source": [
        "| str data |  | p | y | t | h | o | n |\n",
        "|:--:|:--:|:--:|:--:|:--:|:--:|:--:|:--:|\n",
        "|Forward Indexing | 0 | 1 | 2 | 3 | 4 | 5| 6 |"
      ],
      "metadata": {
        "id": "k-HwbKpyXaZ8"
      }
    },
    {
      "cell_type": "code",
      "source": [
        "[1:5] -> 5미만\n",
        "[:5] -> 0부터 5미만\n",
        "[5:] -> 5부터 끝까지\n",
        "[:-3] -> 0부터 -3미만\n",
        "[-3:] -> -3부터\n",
        "[::2] -> 0, 2의 배수"
      ],
      "metadata": {
        "id": "W8r6CUF5YKn_"
      },
      "execution_count": null,
      "outputs": []
    },
    {
      "cell_type": "code",
      "source": [
        "[1:2] -> 1\n",
        "[:2] -> 0, 1\n",
        "[2:] -> 2\n",
        "[:-2] -> -1, 0\n",
        "[-2:] -> -2, -1\n",
        "[::2] -> 0, 2"
      ],
      "metadata": {
        "id": "wxhB4-d8ZOpD"
      },
      "execution_count": null,
      "outputs": []
    },
    {
      "cell_type": "code",
      "source": [
        "str_data = 'I love python'\n",
        "list_data = ['apple', 'banana']\n",
        "tuple_data = ('apple', 'banana')\n",
        "\n",
        "print (str_data)\n",
        "print (list_data)\n",
        "print (tuple_data)"
      ],
      "metadata": {
        "id": "LBh-aVH4y0Tb",
        "outputId": "d00ec919-83a8-4bb6-d8f6-a430d100021d",
        "colab": {
          "base_uri": "https://localhost:8080/"
        }
      },
      "execution_count": 1,
      "outputs": [
        {
          "output_type": "stream",
          "name": "stdout",
          "text": [
            "I love python\n",
            "['apple', 'banana']\n",
            "('apple', 'banana')\n"
          ]
        }
      ]
    },
    {
      "cell_type": "code",
      "source": [
        "str_data = \"I love python\"\n",
        "\n",
        "print(str_data[0])\n",
        "print(str_data[1])\n",
        "print(str_data[2])"
      ],
      "metadata": {
        "id": "6TBf4sfqzMt4",
        "outputId": "9759cb29-0260-412b-f0ce-f5c4f55de899",
        "colab": {
          "base_uri": "https://localhost:8080/"
        }
      },
      "execution_count": 2,
      "outputs": [
        {
          "output_type": "stream",
          "name": "stdout",
          "text": [
            "I\n",
            " \n",
            "l\n"
          ]
        }
      ]
    },
    {
      "cell_type": "code",
      "source": [
        "strdata = 'Time is Money'\n",
        "\n",
        "print(strdata[-1])\n",
        "print(strdata[-2])"
      ],
      "metadata": {
        "id": "2JSi59shzehg",
        "outputId": "3ec01ad0-1eb6-4ae8-febc-439bd11c6e93",
        "colab": {
          "base_uri": "https://localhost:8080/"
        }
      },
      "execution_count": 3,
      "outputs": [
        {
          "output_type": "stream",
          "name": "stdout",
          "text": [
            "y\n",
            "e\n"
          ]
        }
      ]
    },
    {
      "cell_type": "code",
      "source": [
        "listdata = [1, 2, [1,2,3]]\n",
        "\n",
        "print(listdata[0])\n",
        "print(listdata[-1])\n",
        "print(listdata[2][-2])"
      ],
      "metadata": {
        "id": "oEj-pITOztW9",
        "outputId": "068f0c35-da87-4d7a-8e47-400f3bbf3c5d",
        "colab": {
          "base_uri": "https://localhost:8080/"
        }
      },
      "execution_count": 5,
      "outputs": [
        {
          "output_type": "stream",
          "name": "stdout",
          "text": [
            "1\n",
            "[1, 2, 3]\n",
            "2\n"
          ]
        }
      ]
    },
    {
      "cell_type": "code",
      "source": [
        "list_data = ['apple', 'banana']\n",
        "list_data[0] = 'pear'\n",
        "print(list_data)"
      ],
      "metadata": {
        "id": "nznXMw7I0GfG",
        "outputId": "d1753d59-9fb4-45f6-83ec-29440038694d",
        "colab": {
          "base_uri": "https://localhost:8080/"
        }
      },
      "execution_count": 8,
      "outputs": [
        {
          "output_type": "stream",
          "name": "stdout",
          "text": [
            "['pear', 'banana']\n"
          ]
        }
      ]
    },
    {
      "cell_type": "code",
      "source": [
        "str_data = 'Time is Money'\n",
        "\n",
        "print(str_data[0])\n",
        "print(str_data[1])\n",
        "print(str_data[1:4])\n",
        "print(str_data[:3])\n",
        "print(str_data[1:])\n",
        "print(str_data[::3])"
      ],
      "metadata": {
        "id": "MvozykBp0myD",
        "outputId": "45e6a91f-1d9d-422a-e6e6-a9b67457c753",
        "colab": {
          "base_uri": "https://localhost:8080/"
        }
      },
      "execution_count": 10,
      "outputs": [
        {
          "output_type": "stream",
          "name": "stdout",
          "text": [
            "T\n",
            "i\n",
            "ime\n",
            "Tim\n",
            "ime is Money\n",
            "Tesoy\n"
          ]
        }
      ]
    },
    {
      "cell_type": "code",
      "source": [
        "strdata1 ='i love' ; strdata2 = 'python'\n",
        "print(strdata1 + strdata2)\n",
        "print(strdata1*5)"
      ],
      "metadata": {
        "id": "kO2F0zG82oq3",
        "outputId": "8e6157d5-9127-4355-b8f8-82ab8f51ac56",
        "colab": {
          "base_uri": "https://localhost:8080/"
        }
      },
      "execution_count": 11,
      "outputs": [
        {
          "output_type": "stream",
          "name": "stdout",
          "text": [
            "i lovepython\n",
            "i lovei lovei lovei lovei love\n"
          ]
        }
      ]
    },
    {
      "cell_type": "code",
      "source": [
        "strdata1 = 'I love ' ; strdata2 = 'python'\n",
        "print(strdata1 + strdata2)"
      ],
      "metadata": {
        "id": "9qBo6qdB3Mkp",
        "outputId": "71945730-bb2f-4c8b-c96e-eee9bc9b5bed",
        "colab": {
          "base_uri": "https://localhost:8080/"
        }
      },
      "execution_count": 12,
      "outputs": [
        {
          "output_type": "stream",
          "name": "stdout",
          "text": [
            "I love python\n"
          ]
        }
      ]
    },
    {
      "cell_type": "code",
      "source": [
        "strdata1 = 'i love' ; strdata0 = ' ' ; strdata2 = 'python'\n",
        "print(strdata1 + strdata0 + strdata2)"
      ],
      "metadata": {
        "id": "FhftQF-b3jBX",
        "outputId": "1191a558-9fdb-404d-b164-3b8ee7c34aeb",
        "colab": {
          "base_uri": "https://localhost:8080/"
        }
      },
      "execution_count": 14,
      "outputs": [
        {
          "output_type": "stream",
          "name": "stdout",
          "text": [
            "i love python\n"
          ]
        }
      ]
    },
    {
      "cell_type": "code",
      "source": [
        "subject = 'I '; verb = 'like '; object = 'an apple'\n",
        "sentence = subject + verb + object\n",
        "print(sentence)"
      ],
      "metadata": {
        "id": "CfE_t2gs3tmj",
        "outputId": "839f755c-dfc8-41f2-c2d0-08bf9b6c740f",
        "colab": {
          "base_uri": "https://localhost:8080/"
        }
      },
      "execution_count": 15,
      "outputs": [
        {
          "output_type": "stream",
          "name": "stdout",
          "text": [
            "I like an apple\n"
          ]
        }
      ]
    },
    {
      "cell_type": "code",
      "source": [],
      "metadata": {
        "id": "3Lc408cZ4WZi"
      },
      "execution_count": null,
      "outputs": []
    }
  ]
}