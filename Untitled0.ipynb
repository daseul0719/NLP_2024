{
  "nbformat": 4,
  "nbformat_minor": 0,
  "metadata": {
    "colab": {
      "provenance": [],
      "authorship_tag": "ABX9TyPDXRPpgDbqOxLALoQhykkN",
      "include_colab_link": true
    },
    "kernelspec": {
      "name": "python3",
      "display_name": "Python 3"
    },
    "language_info": {
      "name": "python"
    }
  },
  "cells": [
    {
      "cell_type": "markdown",
      "metadata": {
        "id": "view-in-github",
        "colab_type": "text"
      },
      "source": [
        "<a href=\"https://colab.research.google.com/github/daseul0719/NLP_2024/blob/main/Untitled0.ipynb\" target=\"_parent\"><img src=\"https://colab.research.google.com/assets/colab-badge.svg\" alt=\"Open In Colab\"/></a>"
      ]
    },
    {
      "cell_type": "markdown",
      "source": [
        "# a\n",
        "## a\n",
        "### a\n",
        "\n",
        "**A**\n"
      ],
      "metadata": {
        "id": "THXl4KKzUfyy"
      }
    },
    {
      "cell_type": "markdown",
      "source": [
        "<font color = red>red </font>\n",
        "<font color = yellow> yellow </font> yellow\n",
        "site([site](https://github.com/))\n"
      ],
      "metadata": {
        "id": "N5gYtsiRU6tz"
      }
    },
    {
      "cell_type": "code",
      "source": [
        "a = 10\n",
        "b = 2\n",
        "print(a+b)\n",
        "print(a*b)"
      ],
      "metadata": {
        "colab": {
          "base_uri": "https://localhost:8080/"
        },
        "id": "xljAYozmV2_c",
        "outputId": "7e5c197a-fc3d-4b2a-e178-5d7e321fc091"
      },
      "execution_count": null,
      "outputs": [
        {
          "output_type": "stream",
          "name": "stdout",
          "text": [
            "12\n",
            "20\n"
          ]
        }
      ]
    },
    {
      "cell_type": "code",
      "source": [
        "a = 24\n",
        "b = 'string'\n",
        "c = 'seqeunce'\n",
        "d = ['string', 'seqeunce']\n",
        "e = ('string', 'seqeunce')"
      ],
      "metadata": {
        "id": "5Z29GoWeV-H3"
      },
      "execution_count": null,
      "outputs": []
    },
    {
      "cell_type": "code",
      "source": [
        "string -> 'a', \"a\"\n",
        "list -> [1, 'a', 'abc']\n",
        "tuple -> ('a', 1)\n",
        "dictionary -> {'a':1}"
      ],
      "metadata": {
        "id": "qS4IB3hVWTw1"
      },
      "execution_count": null,
      "outputs": []
    },
    {
      "cell_type": "markdown",
      "source": [
        "| str data |  | p | y | t | h | o | n |\n",
        "|:--:|:--:|:--:|:--:|:--:|:--:|:--:|:--:|\n",
        "|Forward Indexing | 0 | 1 | 2 | 3 | 4 | 5| 6 |"
      ],
      "metadata": {
        "id": "k-HwbKpyXaZ8"
      }
    },
    {
      "cell_type": "code",
      "source": [
        "[1:5] -> 5미만\n",
        "[:5] -> 0부터 5미만\n",
        "[5:] -> 5부터 끝까지\n",
        "[:-3] -> 0부터 -3미만\n",
        "[-3:] -> -3부터\n",
        "[::2] -> 0, 2의 배수"
      ],
      "metadata": {
        "id": "W8r6CUF5YKn_"
      },
      "execution_count": null,
      "outputs": []
    },
    {
      "cell_type": "code",
      "source": [
        "[1:2] -> 1\n",
        "[:2] -> 0, 1\n",
        "[2:] -> 2\n",
        "[:-2] -> -1, 0\n",
        "[-2:] -> -2, -1\n",
        "[::2] -> 0, 2"
      ],
      "metadata": {
        "id": "wxhB4-d8ZOpD"
      },
      "execution_count": null,
      "outputs": []
    },
    {
      "cell_type": "code",
      "source": [
        "str_data = 'I love python'\n",
        "list_data = ['apple', 'banana']\n",
        "tuple_data = ('apple', 'banana')\n",
        "\n",
        "print (str_data)\n",
        "print (list_data)\n",
        "print (tuple_data)"
      ],
      "metadata": {
        "id": "LBh-aVH4y0Tb",
        "outputId": "d00ec919-83a8-4bb6-d8f6-a430d100021d",
        "colab": {
          "base_uri": "https://localhost:8080/"
        }
      },
      "execution_count": null,
      "outputs": [
        {
          "output_type": "stream",
          "name": "stdout",
          "text": [
            "I love python\n",
            "['apple', 'banana']\n",
            "('apple', 'banana')\n"
          ]
        }
      ]
    },
    {
      "cell_type": "code",
      "source": [
        "str_data = \"I love python\"\n",
        "\n",
        "print(str_data[0])\n",
        "print(str_data[1])\n",
        "print(str_data[2])"
      ],
      "metadata": {
        "id": "6TBf4sfqzMt4",
        "outputId": "9759cb29-0260-412b-f0ce-f5c4f55de899",
        "colab": {
          "base_uri": "https://localhost:8080/"
        }
      },
      "execution_count": null,
      "outputs": [
        {
          "output_type": "stream",
          "name": "stdout",
          "text": [
            "I\n",
            " \n",
            "l\n"
          ]
        }
      ]
    },
    {
      "cell_type": "code",
      "source": [
        "strdata = 'Time is Money'\n",
        "\n",
        "print(strdata[-1])\n",
        "print(strdata[-2])"
      ],
      "metadata": {
        "id": "2JSi59shzehg",
        "outputId": "3ec01ad0-1eb6-4ae8-febc-439bd11c6e93",
        "colab": {
          "base_uri": "https://localhost:8080/"
        }
      },
      "execution_count": null,
      "outputs": [
        {
          "output_type": "stream",
          "name": "stdout",
          "text": [
            "y\n",
            "e\n"
          ]
        }
      ]
    },
    {
      "cell_type": "code",
      "source": [
        "listdata = [1, 2, [1,2,3]]\n",
        "\n",
        "print(listdata[0])\n",
        "print(listdata[-1])\n",
        "print(listdata[2][-2])"
      ],
      "metadata": {
        "id": "oEj-pITOztW9",
        "outputId": "068f0c35-da87-4d7a-8e47-400f3bbf3c5d",
        "colab": {
          "base_uri": "https://localhost:8080/"
        }
      },
      "execution_count": null,
      "outputs": [
        {
          "output_type": "stream",
          "name": "stdout",
          "text": [
            "1\n",
            "[1, 2, 3]\n",
            "2\n"
          ]
        }
      ]
    },
    {
      "cell_type": "code",
      "source": [
        "list_data = ['apple', 'banana']\n",
        "list_data[0] = 'pear'\n",
        "print(list_data)"
      ],
      "metadata": {
        "id": "nznXMw7I0GfG",
        "outputId": "d1753d59-9fb4-45f6-83ec-29440038694d",
        "colab": {
          "base_uri": "https://localhost:8080/"
        }
      },
      "execution_count": null,
      "outputs": [
        {
          "output_type": "stream",
          "name": "stdout",
          "text": [
            "['pear', 'banana']\n"
          ]
        }
      ]
    },
    {
      "cell_type": "code",
      "source": [
        "str_data = 'Time is Money'\n",
        "\n",
        "print(str_data[0])\n",
        "print(str_data[1])\n",
        "print(str_data[1:4])\n",
        "print(str_data[:3])\n",
        "print(str_data[1:])\n",
        "print(str_data[::3])"
      ],
      "metadata": {
        "id": "MvozykBp0myD",
        "outputId": "45e6a91f-1d9d-422a-e6e6-a9b67457c753",
        "colab": {
          "base_uri": "https://localhost:8080/"
        }
      },
      "execution_count": null,
      "outputs": [
        {
          "output_type": "stream",
          "name": "stdout",
          "text": [
            "T\n",
            "i\n",
            "ime\n",
            "Tim\n",
            "ime is Money\n",
            "Tesoy\n"
          ]
        }
      ]
    },
    {
      "cell_type": "code",
      "source": [
        "strdata1 ='i love' ; strdata2 = 'python'\n",
        "print(strdata1 + strdata2)\n",
        "print(strdata1*5)"
      ],
      "metadata": {
        "id": "kO2F0zG82oq3",
        "outputId": "8e6157d5-9127-4355-b8f8-82ab8f51ac56",
        "colab": {
          "base_uri": "https://localhost:8080/"
        }
      },
      "execution_count": null,
      "outputs": [
        {
          "output_type": "stream",
          "name": "stdout",
          "text": [
            "i lovepython\n",
            "i lovei lovei lovei lovei love\n"
          ]
        }
      ]
    },
    {
      "cell_type": "code",
      "source": [
        "strdata1 = 'I love ' ; strdata2 = 'python'\n",
        "print(strdata1 + strdata2)"
      ],
      "metadata": {
        "id": "9qBo6qdB3Mkp",
        "outputId": "71945730-bb2f-4c8b-c96e-eee9bc9b5bed",
        "colab": {
          "base_uri": "https://localhost:8080/"
        }
      },
      "execution_count": null,
      "outputs": [
        {
          "output_type": "stream",
          "name": "stdout",
          "text": [
            "I love python\n"
          ]
        }
      ]
    },
    {
      "cell_type": "code",
      "source": [
        "strdata1 = 'i love' ; strdata0 = ' ' ; strdata2 = 'python'\n",
        "print(strdata1 + strdata0 + strdata2)"
      ],
      "metadata": {
        "id": "FhftQF-b3jBX",
        "outputId": "1191a558-9fdb-404d-b164-3b8ee7c34aeb",
        "colab": {
          "base_uri": "https://localhost:8080/"
        }
      },
      "execution_count": null,
      "outputs": [
        {
          "output_type": "stream",
          "name": "stdout",
          "text": [
            "i love python\n"
          ]
        }
      ]
    },
    {
      "cell_type": "code",
      "source": [
        "subject = 'I '; verb = 'like '; object = 'an apple'\n",
        "sentence = subject + verb + object\n",
        "print(sentence)"
      ],
      "metadata": {
        "id": "CfE_t2gs3tmj",
        "outputId": "839f755c-dfc8-41f2-c2d0-08bf9b6c740f",
        "colab": {
          "base_uri": "https://localhost:8080/"
        }
      },
      "execution_count": null,
      "outputs": [
        {
          "output_type": "stream",
          "name": "stdout",
          "text": [
            "I like an apple\n"
          ]
        }
      ]
    },
    {
      "cell_type": "code",
      "source": [
        "numbers = (1,2,3,4,5,6,7,8,9)\n",
        "\n",
        "for i in numbers:\n",
        "  print(i)"
      ],
      "metadata": {
        "id": "3Lc408cZ4WZi",
        "outputId": "92c7d4a0-297a-4451-e752-3605e3798fb9",
        "colab": {
          "base_uri": "https://localhost:8080/"
        }
      },
      "execution_count": 1,
      "outputs": [
        {
          "output_type": "stream",
          "name": "stdout",
          "text": [
            "1\n",
            "2\n",
            "3\n",
            "4\n",
            "5\n",
            "6\n",
            "7\n",
            "8\n",
            "9\n"
          ]
        }
      ]
    },
    {
      "cell_type": "code",
      "source": [
        "scope = [1,2,3,4,5]\n",
        "\n",
        "for x in scope:\n",
        "  print(x)"
      ],
      "metadata": {
        "id": "YdrR0QZ4mGH4",
        "outputId": "a3e666b6-90ed-4e1b-e22c-beeceecc61df",
        "colab": {
          "base_uri": "https://localhost:8080/"
        }
      },
      "execution_count": 2,
      "outputs": [
        {
          "output_type": "stream",
          "name": "stdout",
          "text": [
            "1\n",
            "2\n",
            "3\n",
            "4\n",
            "5\n"
          ]
        }
      ]
    },
    {
      "cell_type": "code",
      "source": [
        "import keyword\n",
        "keyword.kwlist"
      ],
      "metadata": {
        "id": "uVcvBwz4mPfL",
        "outputId": "42dcab30-eebb-4fa6-b66b-4e6cb450adb3",
        "colab": {
          "base_uri": "https://localhost:8080/"
        }
      },
      "execution_count": 3,
      "outputs": [
        {
          "output_type": "execute_result",
          "data": {
            "text/plain": [
              "['False',\n",
              " 'None',\n",
              " 'True',\n",
              " 'and',\n",
              " 'as',\n",
              " 'assert',\n",
              " 'async',\n",
              " 'await',\n",
              " 'break',\n",
              " 'class',\n",
              " 'continue',\n",
              " 'def',\n",
              " 'del',\n",
              " 'elif',\n",
              " 'else',\n",
              " 'except',\n",
              " 'finally',\n",
              " 'for',\n",
              " 'from',\n",
              " 'global',\n",
              " 'if',\n",
              " 'import',\n",
              " 'in',\n",
              " 'is',\n",
              " 'lambda',\n",
              " 'nonlocal',\n",
              " 'not',\n",
              " 'or',\n",
              " 'pass',\n",
              " 'raise',\n",
              " 'return',\n",
              " 'try',\n",
              " 'while',\n",
              " 'with',\n",
              " 'yield']"
            ]
          },
          "metadata": {},
          "execution_count": 3
        }
      ]
    },
    {
      "cell_type": "code",
      "source": [
        "name = ['sam', 'emily', 'teddy']\n",
        "\n",
        "for i in name:\n",
        "  print(i)"
      ],
      "metadata": {
        "id": "Biuo30s0mU5c",
        "outputId": "ad794adf-b7d2-4d56-edcd-0bddfffb182c",
        "colab": {
          "base_uri": "https://localhost:8080/"
        }
      },
      "execution_count": 6,
      "outputs": [
        {
          "output_type": "stream",
          "name": "stdout",
          "text": [
            "sam\n",
            "emily\n",
            "teddy\n"
          ]
        }
      ]
    },
    {
      "cell_type": "code",
      "source": [
        "for i in range(2):\n",
        "  print(i)\n",
        "\n",
        "for z in range(1):\n",
        "  print(z)\n",
        "\n",
        "for q in range(0):\n",
        "  print(q)"
      ],
      "metadata": {
        "id": "Ot8Pk-edmeCz",
        "outputId": "21337edd-c6c4-403b-f9bc-bf210a864833",
        "colab": {
          "base_uri": "https://localhost:8080/"
        }
      },
      "execution_count": 13,
      "outputs": [
        {
          "output_type": "stream",
          "name": "stdout",
          "text": [
            "0\n",
            "1\n",
            "0\n"
          ]
        }
      ]
    },
    {
      "cell_type": "code",
      "source": [
        "string = 'abcde'\n",
        "\n",
        "for c in string:\n",
        "  print(c)"
      ],
      "metadata": {
        "id": "WRFmIMLom5DQ",
        "outputId": "8e2e86f5-4710-46c2-8a55-dbf4961ed739",
        "colab": {
          "base_uri": "https://localhost:8080/"
        }
      },
      "execution_count": 14,
      "outputs": [
        {
          "output_type": "stream",
          "name": "stdout",
          "text": [
            "a\n",
            "b\n",
            "c\n",
            "d\n",
            "e\n"
          ]
        }
      ]
    },
    {
      "cell_type": "code",
      "source": [
        "list_fruit = [\"apple\", \"banana\", \"pear\"]\n",
        "\n",
        "for i in list_fruit:\n",
        "  print(i)"
      ],
      "metadata": {
        "id": "vHgPOByNnd1_",
        "outputId": "eeb461cc-5497-4aec-91ce-3435b7d55fe7",
        "colab": {
          "base_uri": "https://localhost:8080/"
        }
      },
      "execution_count": 15,
      "outputs": [
        {
          "output_type": "stream",
          "name": "stdout",
          "text": [
            "apple\n",
            "banana\n",
            "pear\n"
          ]
        }
      ]
    },
    {
      "cell_type": "code",
      "source": [
        "printdict1 = {'a':90, 'b':100, 'c':10}\n",
        "\n",
        "for i in printdict1:\n",
        "  print(i)"
      ],
      "metadata": {
        "id": "cPb6J4YJnp0t",
        "outputId": "344bd429-c34e-4c77-88e3-3a150f39e3d7",
        "colab": {
          "base_uri": "https://localhost:8080/"
        }
      },
      "execution_count": 17,
      "outputs": [
        {
          "output_type": "stream",
          "name": "stdout",
          "text": [
            "a\n",
            "b\n",
            "c\n"
          ]
        }
      ]
    },
    {
      "cell_type": "code",
      "source": [
        "scope = [1,2,3,4,5]\n",
        "\n",
        "for i in scope:\n",
        "  print(i)\n",
        "  if i<3:\n",
        "    continue\n",
        "  else:\n",
        "    break"
      ],
      "metadata": {
        "id": "MdZ60LNnn_RI",
        "outputId": "41835851-2047-41cb-da64-667080cacaa5",
        "colab": {
          "base_uri": "https://localhost:8080/"
        }
      },
      "execution_count": 18,
      "outputs": [
        {
          "output_type": "stream",
          "name": "stdout",
          "text": [
            "1\n",
            "2\n",
            "3\n"
          ]
        }
      ]
    },
    {
      "cell_type": "code",
      "source": [
        "scope = [1,2,3,4,5,6,7]\n",
        "\n",
        "for i in scope:\n",
        "  print(i)\n",
        "  if i < 4:\n",
        "    continue\n",
        "  else:\n",
        "    break"
      ],
      "metadata": {
        "id": "RWNjr1LFoV2U",
        "outputId": "b5b5d3ac-be37-426f-fe03-5c7cdb07abff",
        "colab": {
          "base_uri": "https://localhost:8080/"
        }
      },
      "execution_count": 19,
      "outputs": [
        {
          "output_type": "stream",
          "name": "stdout",
          "text": [
            "1\n",
            "2\n",
            "3\n",
            "4\n"
          ]
        }
      ]
    },
    {
      "cell_type": "code",
      "source": [
        "scope = [1,2,3,4,5]\n",
        "\n",
        "for x in scope:\n",
        "  print(x)\n",
        "else:\n",
        "  print('perfect')"
      ],
      "metadata": {
        "id": "jQ2CisN3o8c8",
        "outputId": "e57902c8-9a69-4bf5-8c89-0deaaf1f9d5d",
        "colab": {
          "base_uri": "https://localhost:8080/"
        }
      },
      "execution_count": 20,
      "outputs": [
        {
          "output_type": "stream",
          "name": "stdout",
          "text": [
            "1\n",
            "2\n",
            "3\n",
            "4\n",
            "5\n",
            "perfect\n"
          ]
        }
      ]
    },
    {
      "cell_type": "code",
      "source": [
        "list = [1,2,3,4,5]\n",
        "for i in list:\n",
        "  print(i)\n",
        "  break\n",
        "else:\n",
        "  print('perfect')"
      ],
      "metadata": {
        "id": "xrP-xxu8pJ2F",
        "outputId": "14219814-df5d-4a6c-ebeb-34e9980356f1",
        "colab": {
          "base_uri": "https://localhost:8080/"
        }
      },
      "execution_count": 22,
      "outputs": [
        {
          "output_type": "stream",
          "name": "stdout",
          "text": [
            "1\n"
          ]
        }
      ]
    },
    {
      "cell_type": "code",
      "source": [],
      "metadata": {
        "id": "zNmlJ9UfpXv1"
      },
      "execution_count": null,
      "outputs": []
    }
  ]
}