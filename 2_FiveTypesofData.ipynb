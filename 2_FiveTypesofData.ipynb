{
  "nbformat": 4,
  "nbformat_minor": 0,
  "metadata": {
    "colab": {
      "name": "CodeCells_Basic_.ipynb",
      "provenance": [],
      "include_colab_link": true
    },
    "kernelspec": {
      "name": "python3",
      "display_name": "Python 3"
    },
    "language_info": {
      "name": "python"
    }
  },
  "cells": [
    {
      "cell_type": "markdown",
      "metadata": {
        "id": "view-in-github",
        "colab_type": "text"
      },
      "source": [
        "<a href=\"https://colab.research.google.com/github/daseul0719/NLP_2024/blob/main/2_FiveTypesofData.ipynb\" target=\"_parent\"><img src=\"https://colab.research.google.com/assets/colab-badge.svg\" alt=\"Open In Colab\"/></a>"
      ]
    },
    {
      "cell_type": "code",
      "source": [
        "a = 1  #assign annotation"
      ],
      "metadata": {
        "id": "qHUWH1q275Dx"
      },
      "execution_count": null,
      "outputs": []
    },
    {
      "cell_type": "code",
      "source": [
        "a = 1"
      ],
      "metadata": {
        "id": "d5pwMWvR8tCn"
      },
      "execution_count": null,
      "outputs": []
    },
    {
      "cell_type": "code",
      "source": [
        "a  = \"I love Sam's pencil case.\""
      ],
      "metadata": {
        "id": "5DJuENNyBM4p"
      },
      "execution_count": null,
      "outputs": []
    },
    {
      "cell_type": "markdown",
      "source": [
        "#assign"
      ],
      "metadata": {
        "id": "8kKrOPJb8W_0"
      }
    },
    {
      "cell_type": "markdown",
      "source": [
        "#🐹 🐾  Five Types of Data\n",
        "        Number, String, List, Tuple, Dictionary\n",
        "\n",
        "Variables can be either a number or a sequence.     \n",
        "\n",
        "1️⃣ Numbers can be either integers, floats, or imaginary numbers.\n",
        "- interger 정수 : -100, -30, -11, 0, 1, 5, 100, 302, etc.\n",
        "- float 부동소수 : -100.0, -30.0, -11.0, 0.0, 0.1, 2.4, 100.32, etc.\n",
        "- complex 복소수: 실수(real number) + (imaginary number) (e.g., 1 + 5j, 3/4 + 10j, π + 2j, e + 3j, etc.)\n",
        "\n",
        "\n",
        "\n",
        "        - 실수(Real number): 유리수(Rational number) & 무리수(Irrational number)를\n",
        "         포함하는 숫자 집합으로 실수 집합은 수직선 상의 모든 점들을 나타냄\n",
        "\n",
        "        - 유리수(Rational numbers): 분수 형태로 나타낼 수 있는 수.\n",
        "         즉, 두 정수의 비로 표현 가능한 수들을 포함 (e.g., 1/2, 3/4, 5, -7/3)\n",
        "\n",
        "        - 무리수(Irrational numbers): 분수 형태로 정확하게 나타낼 수 없는 수로써\n",
        "         무한 소수로 표현 (e.g., √2, π, 오일러 수(e))\n",
        "         \n",
        "         cf., 'j' represents imaginary numbers 허수.\n",
        "\n",
        "실수는 이러한 유리수와 무리수를 모두 포함하며,  실수는 수학적 연산을 수행하는 데 사용되며, 실수 집합은 실수 체계(Real number system)의 일부로써 다양한 수학적 연구와 응용 분야에서 중요한 역할을 한다.\n",
        "\n",
        "2️⃣ Three types of seqeunce data\n",
        "\n",
        "🅰️ <font color='red'> **String** </font> data are non-numerical data. It is indicated by a pair of either double quotations or single quotations.\n",
        "- \"a\", \"b\", \"c\"\n",
        "- 'a', 'b', 'c'\n",
        "- \"042114\" (cf., 042114)\n",
        "- \"I love Sam's pencil case\"\n",
        "\n",
        "🅱️ Data can be consecutively connected. The <font color='red'> **list**</font>-stle-type data is most common. If consecutively connected elements are protected from a modification, we especially call it a <font color='red'> **tuple**</font>-style-type.\n",
        "\n",
        "- i) <font color='red'> **List**</font>: A list is indicated by a pair of square brackets [ ].\n",
        "      ['a', 'abc', 1, '911', 'I love Python']\n",
        "\n",
        "- ii) <font color='red'> **Tuple**</font>: A tuple is indicated by a pair of brackets ( ).\n",
        "      ('a', 'abc', 1, '911', 'I love Python')\n",
        "\n",
        "👀 Be aware that elements in a list/tuple can be numbers, strings, dictionaries, or embeded lists/tuples of any kind. Note that elements in a tuple cannot be modified and protected under any circumstances.\n",
        "\n",
        "- [1, 'a', 'bananas', 'berries','3.14']  \n",
        "- [{'Earth': 14725000000, 'Mars': 23934000000}, [1, 2, 3], ['b', '042-114', 'I like apples'], (100, 200, 300)]\n",
        "\n",
        "3️⃣ A paired data with a matched <font color='blue'>**key - value**</font> set is called <font color = 'red'> **dictionary** <font/>.\n",
        "- {'a':'A', 'b':'B', 'c':\"C'}\n",
        "- {'a':1, 'b':2, 'c':3}\n",
        "- {'d':4}\n",
        "\n"
      ],
      "metadata": {
        "id": "ttlPtPfmAAdV"
      }
    },
    {
      "cell_type": "markdown",
      "source": [
        "## <font color = 'green'> Exercise\n",
        "### <font color = 'green'>Assigning <font color = 'red'>Numbers</front> <font color = 'green'>to varialbes\n"
      ],
      "metadata": {
        "id": "aJ0Z8qFlWaAx"
      }
    },
    {
      "cell_type": "code",
      "source": [
        "#@markdown exercise\n",
        "\n",
        "a = 1\n",
        "print (a)\n",
        "\n",
        "#@markdown exercise 2\n",
        "\n",
        "b = 100\n",
        "print(b)\n",
        "\n",
        "#@markdown **exercise**\n",
        "\n"
      ],
      "metadata": {
        "id": "RsKySxvkDyUB",
        "outputId": "f9ebdaff-bea4-4304-c99d-8e794ea28e20",
        "colab": {
          "base_uri": "https://localhost:8080/"
        }
      },
      "execution_count": 16,
      "outputs": [
        {
          "output_type": "stream",
          "name": "stdout",
          "text": [
            "1\n",
            "100\n"
          ]
        }
      ]
    },
    {
      "cell_type": "code",
      "source": [
        "#@markdown 📌 Assign 1 to variable a.\n",
        "\n",
        "a = 1\n",
        "print (a)"
      ],
      "metadata": {
        "id": "xV1LWOHyWZaq",
        "outputId": "0907c167-812d-467b-f1f5-3b46446047ef",
        "colab": {
          "base_uri": "https://localhost:8080/"
        }
      },
      "execution_count": null,
      "outputs": [
        {
          "output_type": "stream",
          "name": "stdout",
          "text": [
            "1\n"
          ]
        }
      ]
    },
    {
      "cell_type": "code",
      "source": [
        "b = 2\n",
        "print(b)"
      ],
      "metadata": {
        "id": "9Pj-su8hFOMd",
        "outputId": "2be9a42d-4386-40f6-8f92-ac3a7175ff20",
        "colab": {
          "base_uri": "https://localhost:8080/"
        }
      },
      "execution_count": null,
      "outputs": [
        {
          "output_type": "stream",
          "name": "stdout",
          "text": [
            "2\n"
          ]
        }
      ]
    },
    {
      "cell_type": "code",
      "source": [
        "#@markdown 📌 Assign 2 to variable b.\n",
        "b = 2\n",
        "print (b)"
      ],
      "metadata": {
        "id": "Kggbn20yVpFO",
        "outputId": "18921830-70a2-409f-c2fa-59cdc8d8e6e8",
        "colab": {
          "base_uri": "https://localhost:8080/"
        }
      },
      "execution_count": null,
      "outputs": [
        {
          "output_type": "stream",
          "name": "stdout",
          "text": [
            "2\n"
          ]
        }
      ]
    },
    {
      "cell_type": "code",
      "source": [
        "print(a+b)"
      ],
      "metadata": {
        "id": "sSx5xwqMFa4o",
        "outputId": "1be70181-0f22-42e0-ed74-be7f1ec86e13",
        "colab": {
          "base_uri": "https://localhost:8080/"
        }
      },
      "execution_count": null,
      "outputs": [
        {
          "output_type": "stream",
          "name": "stdout",
          "text": [
            "3\n"
          ]
        }
      ]
    },
    {
      "cell_type": "code",
      "source": [
        "#@markdown 📌 Use a print function and a Boolean operator +\n",
        "print(a + b)"
      ],
      "metadata": {
        "id": "oC2orsLTWQwg",
        "outputId": "7e321cfd-f0d0-4cef-9c20-130160192c79",
        "colab": {
          "base_uri": "https://localhost:8080/"
        }
      },
      "execution_count": null,
      "outputs": [
        {
          "output_type": "stream",
          "name": "stdout",
          "text": [
            "3\n"
          ]
        }
      ]
    },
    {
      "cell_type": "code",
      "source": [
        "c = \"I love python\"\n",
        "print(c)"
      ],
      "metadata": {
        "id": "Jlgd2mXXFqZK",
        "outputId": "50597d1d-a581-4f9d-b02a-0af218da8e36",
        "colab": {
          "base_uri": "https://localhost:8080/"
        }
      },
      "execution_count": null,
      "outputs": [
        {
          "output_type": "stream",
          "name": "stdout",
          "text": [
            "I love python\n"
          ]
        }
      ]
    },
    {
      "cell_type": "markdown",
      "source": [
        "## <font color = 'green'> Exercise\n",
        "### <font color = 'green'>Assigning <font color = 'red'> Strings</front> <font color = 'green'>to varialbes"
      ],
      "metadata": {
        "id": "zSushYscXEkk"
      }
    },
    {
      "cell_type": "code",
      "source": [
        "#@markdown 📌 Assign a string to a variable c\n",
        "\n",
        "c = \"I love Python\"\n",
        "print (c)"
      ],
      "metadata": {
        "id": "DxeSoiafXW0z",
        "outputId": "7b534d53-49c5-4875-be20-54075abdfac6",
        "colab": {
          "base_uri": "https://localhost:8080/"
        }
      },
      "execution_count": null,
      "outputs": [
        {
          "output_type": "stream",
          "name": "stdout",
          "text": [
            "I love Python\n"
          ]
        }
      ]
    },
    {
      "cell_type": "code",
      "source": [
        "#@markdown 📌 To assign valid variable names\n",
        "a = 'Lori'\n",
        "print(a)\n",
        "\n",
        "_b = 'Sam'\n",
        "print(_b)\n",
        "\n",
        "a_b = 'Ken'\n",
        "print(a_b)\n",
        "\n",
        "c_d = 'Jen'\n",
        "print(c_d)\n",
        "\n",
        "a = 'Emma' # Be aware that variable a is used two times!\n",
        "a = 'Emma'"
      ],
      "metadata": {
        "id": "FqAo7mMFEfjd",
        "outputId": "998082f2-3a29-4a11-d270-668e4253b3e1",
        "colab": {
          "base_uri": "https://localhost:8080/"
        }
      },
      "execution_count": null,
      "outputs": [
        {
          "output_type": "stream",
          "name": "stdout",
          "text": [
            "Lori\n",
            "Sam\n",
            "Ken\n",
            "Jen\n"
          ]
        }
      ]
    },
    {
      "cell_type": "code",
      "source": [
        "print(a)"
      ],
      "metadata": {
        "id": "ddwjuLujHrC1",
        "outputId": "2fdb3c67-ba18-4c4c-babe-940490882b96",
        "colab": {
          "base_uri": "https://localhost:8080/"
        }
      },
      "execution_count": null,
      "outputs": [
        {
          "output_type": "stream",
          "name": "stdout",
          "text": [
            "Emma\n"
          ]
        }
      ]
    },
    {
      "cell_type": "code",
      "source": [],
      "metadata": {
        "id": "HPIl1bK-YuFk"
      },
      "execution_count": null,
      "outputs": []
    },
    {
      "cell_type": "code",
      "source": [
        "#@markdown 📌 More on printing variables\n",
        "a = 'Lori'\n",
        "print(a)\n",
        "\n",
        "_b = 'Sam'\n",
        "print(_b)\n",
        "\n",
        "a_b = 'Ken'\n",
        "print(a_b)\n",
        "\n",
        "c_d = 'Jen'\n",
        "print(c_d)\n",
        "\n",
        "a= 'Emma'\n",
        "print(a)          #⏰ Remember the latest varialbe is printed if there is a redundant varialbe name."
      ],
      "metadata": {
        "id": "I9Y-_bRZFCqQ",
        "outputId": "fef9c629-5aae-4f8e-9ccc-1dfb972de510",
        "colab": {
          "base_uri": "https://localhost:8080/"
        }
      },
      "execution_count": null,
      "outputs": [
        {
          "output_type": "stream",
          "name": "stdout",
          "text": [
            "Lori\n",
            "Sam\n",
            "Ken\n",
            "Jen\n",
            "Emma\n"
          ]
        }
      ]
    },
    {
      "cell_type": "code",
      "source": [
        "#If a variable name assinged with different values is repeated more than once, the most recent one matters.\n",
        "\n",
        "print (a) #Be aware that variable a is 'EMMA', not 'Lori.'"
      ],
      "metadata": {
        "id": "y46a2auP8X0o",
        "outputId": "e3035ef3-e955-4e7d-aef4-b49b86589ecc",
        "colab": {
          "base_uri": "https://localhost:8080/"
        }
      },
      "execution_count": null,
      "outputs": [
        {
          "output_type": "stream",
          "name": "stdout",
          "text": [
            "Emma\n"
          ]
        }
      ]
    },
    {
      "cell_type": "markdown",
      "source": [
        "## <font color = 'green'> Exercise\n",
        "### <font color = 'green'>Assigning <font color = 'red'>Lists</front> <font color = 'green'>to varialbes"
      ],
      "metadata": {
        "id": "zy4PTJNVg17p"
      }
    },
    {
      "cell_type": "code",
      "source": [
        "#@markdown 📌 Assign lists to variables such as d, e, f.\n",
        "\n",
        "d = [\"Mercury\", \"Venus\", \"Earth\", \"Mars\", \"Jupiter\", \"Saturn\", \"Uranus\", \"Neptune\"] #Names of planets\n",
        "e = [\"수성\", \"금성\", \"지구\", \"화성\", \"목성\", \"토성\", \"천황성\", \"혜왕성\" ] #행성 이름\n",
        "f = [1,2,3,4,5,6,7,8]\n",
        "\n",
        "print (d)\n",
        "print(e)\n",
        "print (f)"
      ],
      "metadata": {
        "id": "z4DHh7t_OCBS",
        "outputId": "fca3fb66-edf9-4c42-9d9e-2625f0071acc",
        "colab": {
          "base_uri": "https://localhost:8080/"
        }
      },
      "execution_count": null,
      "outputs": [
        {
          "output_type": "stream",
          "name": "stdout",
          "text": [
            "['Mercury', 'Venus', 'Earth', 'Mars', 'Jupiter', 'Saturn', 'Uranus', 'Neptune']\n",
            "['수성', '금성', '지구', '화성', '목성', '토성', '천황성', '혜왕성']\n",
            "[1, 2, 3, 4, 5, 6, 7, 8]\n"
          ]
        }
      ]
    },
    {
      "cell_type": "code",
      "source": [
        "d = [\"Mercury\", \"Venus\", \"Earth\", \"Mars\", \"Jupiter\", \"Saturn\", \"Uranus\", \"Neptune\"]\n",
        "e = [\"수성\", \"금성\", \"지구\", \"화성\", \"목성\", \"토성\", \"천황성\", \" 혜왕성\"]\n",
        "f = [1,2, 3, 4, 5, 6, 7, 8]\n",
        "\n",
        "#print(d)\n",
        "#print(e)\n",
        "#print(f)"
      ],
      "metadata": {
        "id": "JxKeJaf_IYMj"
      },
      "execution_count": 1,
      "outputs": []
    },
    {
      "cell_type": "markdown",
      "source": [
        "## <font color = 'green'> Exercise\n",
        "### <font color = 'green'>Assigning <font color = 'red'>Tuples</front> <font color = 'green'>to varialbes"
      ],
      "metadata": {
        "id": "Ocss-eJjVQYS"
      }
    },
    {
      "cell_type": "code",
      "source": [
        "#@markdown 📌 Assign tuples to variables such as g, h, i.\n",
        "\n",
        "g = (\"Mercury\", \"Venus\", \"Earth\", \"Mars\", \"Jupiter\", \"Saturn\", \"Uranus\", \"Neptune\") #Names of planets\n",
        "h = (\"수성\", \"금성\", \"지구\", \"화성\", \"목성\", \"토성\", \"천황성\", \"혜왕성\" ) #행성 이름\n",
        "i = (1,2,3,4,5,6,7,8)\n",
        "\n",
        "print (g)\n",
        "print(h)\n",
        "print (i)"
      ],
      "metadata": {
        "id": "yJ4OL86PVFoq",
        "outputId": "f3399019-6973-4e0c-8baf-469704084300",
        "colab": {
          "base_uri": "https://localhost:8080/"
        }
      },
      "execution_count": null,
      "outputs": [
        {
          "output_type": "stream",
          "name": "stdout",
          "text": [
            "('Mercury', 'Venus', 'Earth', 'Mars', 'Jupiter', 'Saturn', 'Uranus', 'Neptune')\n",
            "('수성', '금성', '지구', '화성', '목성', '토성', '천황성', '혜왕성')\n",
            "(1, 2, 3, 4, 5, 6, 7, 8)\n"
          ]
        }
      ]
    },
    {
      "cell_type": "code",
      "source": [
        "g = (\"Mercury\", \"Venus\", \"Earth\", \"Mars\", \"Jupiter\", \"Saturn\", \"Uranus\", \"Neptune\")\n",
        "h = (\"수성\", \"금성\", \"지구\", \"화성\", \"목성\", \"토성\", \"천황성\", \"혜왕성\")\n",
        "i = (\"1,2,3,4,5,5,6,7,8\")\n",
        "\n",
        "print (g)\n",
        "print (h)\n",
        "print (i)\n"
      ],
      "metadata": {
        "id": "pgdkuhS6J4ny",
        "outputId": "e33ffeed-4d84-4e51-a41e-aeecae807d65",
        "colab": {
          "base_uri": "https://localhost:8080/"
        }
      },
      "execution_count": 4,
      "outputs": [
        {
          "output_type": "stream",
          "name": "stdout",
          "text": [
            "('Mercury', 'Venus', 'Earth', 'Mars', 'Jupiter', 'Saturn', 'Uranus', 'Neptune')\n",
            "('수성', '금성', '지구', '화성', '목성', '토성', '천황성', '혜왕성')\n",
            "1,2,3,4,5,5,6,7,8\n"
          ]
        }
      ]
    },
    {
      "cell_type": "markdown",
      "source": [
        "## <font color = 'green'> Exercise\n",
        "### <font color = 'green'>Assigning <font color = 'red'>Dictionaries</front> <font color = 'green'>to varialbes\n",
        "\n",
        "- [Movement of the solar system on Youtube](https://www.youtube.com/watch?v=0jHsq36_NTU)"
      ],
      "metadata": {
        "id": "0xH4JM7TVrVX"
      }
    },
    {
      "cell_type": "code",
      "source": [
        "#@markdown 📌 Assign dictionary data to variables such as k and m.\n",
        "\n",
        "k = {'Mercury':'수성', 'Venus':'금성', 'Earth':'지구', 'Mars':'화성', 'Jupiter':'목성', 'Saturn':'토성', 'Uranus':'명왕성', 'Neptune':'해왕성'} #key in English: value in Korean\n",
        "\n",
        "m = {'Mercury 수성':1, 'Venus 금성':2, 'Earth 지구':3, 'Mars 화성':4, 'Jupiter 목성':5, 'Saturn 토성':6, 'Uranus 명왕성':7, 'Neptune 해왕성':8} # i) order of planets from the Sun, ii) key in English and Korean, iii) value in integers\n",
        "\n",
        "print (k)\n",
        "print (m)"
      ],
      "metadata": {
        "id": "gSLUolTJVyRF",
        "outputId": "815590fb-22e8-4c97-ddfb-e5eb539bf2cb",
        "colab": {
          "base_uri": "https://localhost:8080/"
        }
      },
      "execution_count": 3,
      "outputs": [
        {
          "output_type": "stream",
          "name": "stdout",
          "text": [
            "{'Mercury': '수성', 'Venus': '금성', 'Earth': '지구', 'Mars': '화성', 'Jupiter': '목성', 'Saturn': '토성', 'Uranus': '명왕성', 'Neptune': '해왕성'}\n",
            "{'Mercury 수성': 1, 'Venus 금성': 2, 'Earth 지구': 3, 'Mars 화성': 4, 'Jupiter 목성': 5, 'Saturn 토성': 6, 'Uranus 명왕성': 7, 'Neptune 해왕성': 8}\n"
          ]
        }
      ]
    },
    {
      "cell_type": "code",
      "source": [
        "#@markdown 📌 Print the value of key 'a' ('a' as string data)\n",
        "dict = {'a':1, 'b':2, 'c':3}\n",
        "print (dict)\n",
        "print(dict['a'])"
      ],
      "metadata": {
        "colab": {
          "base_uri": "https://localhost:8080/"
        },
        "id": "j6w4opO3bjnK",
        "outputId": "8cbdeff7-1210-48b7-ec56-2b0818588118"
      },
      "execution_count": null,
      "outputs": [
        {
          "output_type": "stream",
          "name": "stdout",
          "text": [
            "{'a': 1, 'b': 2, 'c': 3}\n",
            "1\n"
          ]
        }
      ]
    },
    {
      "cell_type": "code",
      "source": [
        "#@markdown 📌 Replacing a value of your dictionary data with another\n",
        "\n",
        "dict = {'a':1, 'b':2, 'c':3}\n",
        "\n",
        "print(dict)\n",
        "\n",
        "dict['a']=7\n",
        "print (dict)\n",
        "\n",
        "dict_data = {'c':10, 'b':20, 'a':30}\n",
        "print(dict_data)\n",
        "dict_data['a'] = 300\n",
        "print(dict_data)"
      ],
      "metadata": {
        "id": "LPGCS7A-t47c",
        "colab": {
          "base_uri": "https://localhost:8080/"
        },
        "outputId": "902e611f-1b58-46b2-b38f-7e0358d526f6"
      },
      "execution_count": null,
      "outputs": [
        {
          "output_type": "stream",
          "name": "stdout",
          "text": [
            "{'a': 1, 'b': 2, 'c': 3}\n",
            "{'a': 7, 'b': 2, 'c': 3}\n",
            "{'c': 10, 'b': 20, 'a': 30}\n",
            "{'c': 10, 'b': 20, 'a': 300}\n"
          ]
        }
      ]
    },
    {
      "cell_type": "code",
      "source": [
        "dict = {'a':1, 'b':2, 'c':3}\n",
        "\n",
        "print(dict)\n",
        "\n",
        "dict['a']=6\n",
        "print(dict)\n",
        "\n",
        "\n",
        "dict_data = {'c':10, 'b':30, 'a':100}\n",
        "print(dict_data)\n",
        "\n",
        "dict_data['c'] = 200\n",
        "print(dict_data)"
      ],
      "metadata": {
        "id": "osxtWXArZcxP",
        "outputId": "b8d59096-2dbc-4d2c-951c-170a8f9eaa78",
        "colab": {
          "base_uri": "https://localhost:8080/"
        }
      },
      "execution_count": 15,
      "outputs": [
        {
          "output_type": "stream",
          "name": "stdout",
          "text": [
            "{'a': 1, 'b': 2, 'c': 3}\n",
            "{'a': 6, 'b': 2, 'c': 3}\n",
            "{'c': 10, 'b': 30, 'a': 100}\n",
            "{'c': 200, 'b': 30, 'a': 100}\n"
          ]
        }
      ]
    }
  ]
}