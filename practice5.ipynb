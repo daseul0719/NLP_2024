{
  "nbformat": 4,
  "nbformat_minor": 0,
  "metadata": {
    "colab": {
      "provenance": [],
      "authorship_tag": "ABX9TyP2PrAL8qVg9+eRohUqymqf",
      "include_colab_link": true
    },
    "kernelspec": {
      "name": "python3",
      "display_name": "Python 3"
    },
    "language_info": {
      "name": "python"
    }
  },
  "cells": [
    {
      "cell_type": "markdown",
      "metadata": {
        "id": "view-in-github",
        "colab_type": "text"
      },
      "source": [
        "<a href=\"https://colab.research.google.com/github/daseul0719/NLP_2024/blob/main/practice5.ipynb\" target=\"_parent\"><img src=\"https://colab.research.google.com/assets/colab-badge.svg\" alt=\"Open In Colab\"/></a>"
      ]
    },
    {
      "cell_type": "code",
      "execution_count": 1,
      "metadata": {
        "colab": {
          "base_uri": "https://localhost:8080/"
        },
        "id": "368gAHJr7n8Y",
        "outputId": "d5422339-4347-40b4-d82c-b2c8ac34f099"
      },
      "outputs": [
        {
          "output_type": "stream",
          "name": "stdout",
          "text": [
            "['Mercury', 'Venus', 'Earth']\n",
            "['수성', '금성', '지구']\n",
            "[1, 2, 3]\n"
          ]
        }
      ],
      "source": [
        "d = ['Mercury', 'Venus', 'Earth']\n",
        "e = [\"수성\", \"금성\", \"지구\"]\n",
        "f = [1,2,3]\n",
        "\n",
        "print(d)\n",
        "print(e)\n",
        "print(f)"
      ]
    },
    {
      "cell_type": "code",
      "source": [
        "dict = {'a':1, 'b':2, 'c':3}\n",
        "print(dict)\n",
        "print(dict['a'])"
      ],
      "metadata": {
        "colab": {
          "base_uri": "https://localhost:8080/"
        },
        "id": "UUN_lvVABszv",
        "outputId": "c60046e6-3cbc-4e99-b44f-f4c4c32e7583"
      },
      "execution_count": 2,
      "outputs": [
        {
          "output_type": "stream",
          "name": "stdout",
          "text": [
            "{'a': 1, 'b': 2, 'c': 3}\n",
            "1\n"
          ]
        }
      ]
    },
    {
      "cell_type": "code",
      "source": [
        "dict = {'a':1, 'b':10, 'c':13}\n",
        "print(dict)\n",
        "dict['a']=100\n",
        "print(dict)"
      ],
      "metadata": {
        "colab": {
          "base_uri": "https://localhost:8080/"
        },
        "id": "ly0ad9LNB9sL",
        "outputId": "31896304-cd63-4d44-96f1-22ca33429ea6"
      },
      "execution_count": 3,
      "outputs": [
        {
          "output_type": "stream",
          "name": "stdout",
          "text": [
            "{'a': 1, 'b': 10, 'c': 13}\n",
            "{'a': 100, 'b': 10, 'c': 13}\n"
          ]
        }
      ]
    },
    {
      "cell_type": "code",
      "source": [
        "str_data = 'I love python.'\n",
        "print(str_data[0])\n",
        "print(str_data[1])\n",
        "print(str_data[-1])"
      ],
      "metadata": {
        "colab": {
          "base_uri": "https://localhost:8080/"
        },
        "id": "f6DaYW_bCesy",
        "outputId": "d07de091-ca11-4605-f1d0-e61d998f1ea9"
      },
      "execution_count": 6,
      "outputs": [
        {
          "output_type": "stream",
          "name": "stdout",
          "text": [
            "I\n",
            " \n",
            ".\n"
          ]
        }
      ]
    },
    {
      "cell_type": "code",
      "source": [
        "list_data = [1, 2, [1,2,3]]\n",
        "print(list_data[0])\n",
        "print(list_data[2][0])"
      ],
      "metadata": {
        "colab": {
          "base_uri": "https://localhost:8080/"
        },
        "id": "VV8ySYRFDaz7",
        "outputId": "053c968a-31a6-40bf-e6c1-8f91cb012f3b"
      },
      "execution_count": 7,
      "outputs": [
        {
          "output_type": "stream",
          "name": "stdout",
          "text": [
            "1\n",
            "1\n"
          ]
        }
      ]
    },
    {
      "cell_type": "code",
      "source": [
        "str_data = 'Time is Money'\n",
        "print(str_data[0:2])\n",
        "print(str_data[:3])\n",
        "print(str_data[::2])"
      ],
      "metadata": {
        "colab": {
          "base_uri": "https://localhost:8080/"
        },
        "id": "eLmCVRwfDtjd",
        "outputId": "7dbbd844-d4e4-483e-b936-4ed6e37f12f2"
      },
      "execution_count": 8,
      "outputs": [
        {
          "output_type": "stream",
          "name": "stdout",
          "text": [
            "Ti\n",
            "Tim\n",
            "Tm sMny\n"
          ]
        }
      ]
    },
    {
      "cell_type": "code",
      "source": [
        "3과 시퀀스 반복부터"
      ],
      "metadata": {
        "id": "iPUsVO0rEGUS"
      },
      "execution_count": null,
      "outputs": []
    }
  ]
}