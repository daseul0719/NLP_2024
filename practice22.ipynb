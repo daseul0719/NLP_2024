{
  "nbformat": 4,
  "nbformat_minor": 0,
  "metadata": {
    "colab": {
      "provenance": [],
      "authorship_tag": "ABX9TyONUKIIssDT8z3dotFnCFi9",
      "include_colab_link": true
    },
    "kernelspec": {
      "name": "python3",
      "display_name": "Python 3"
    },
    "language_info": {
      "name": "python"
    }
  },
  "cells": [
    {
      "cell_type": "markdown",
      "metadata": {
        "id": "view-in-github",
        "colab_type": "text"
      },
      "source": [
        "<a href=\"https://colab.research.google.com/github/daseul0719/NLP_2024/blob/main/practice22.ipynb\" target=\"_parent\"><img src=\"https://colab.research.google.com/assets/colab-badge.svg\" alt=\"Open In Colab\"/></a>"
      ]
    },
    {
      "cell_type": "code",
      "source": [
        "counter = 1\n",
        "\n",
        "while counter <= 5:\n",
        "    print(counter)\n",
        "    counter += 1\n",
        "\n",
        "print(\"Loop finished!\")"
      ],
      "metadata": {
        "colab": {
          "base_uri": "https://localhost:8080/"
        },
        "id": "B8GtUbJPkKrE",
        "outputId": "662f7002-405d-4f00-d6d6-2f755f2cc61c"
      },
      "execution_count": null,
      "outputs": [
        {
          "output_type": "stream",
          "name": "stdout",
          "text": [
            "1\n",
            "2\n",
            "3\n",
            "4\n",
            "5\n",
            "Loop finished!\n"
          ]
        }
      ]
    },
    {
      "cell_type": "code",
      "source": [
        "counter = 1\n",
        "\n",
        "while counter <= 2:\n",
        "  print(counter)\n",
        "  counter += 1\n",
        "\n",
        "print(\"finished\")"
      ],
      "metadata": {
        "colab": {
          "base_uri": "https://localhost:8080/"
        },
        "id": "dThu5rGKn3o4",
        "outputId": "f01674d9-b084-47e5-bfa1-2a0f7843af2c"
      },
      "execution_count": null,
      "outputs": [
        {
          "output_type": "stream",
          "name": "stdout",
          "text": [
            "1\n",
            "2\n",
            "finished\n"
          ]
        }
      ]
    },
    {
      "cell_type": "code",
      "source": [
        "counter = 2\n",
        "\n",
        "while counter <= 3:\n",
        "  print(counter)\n",
        "  counter += 1\n",
        "\n",
        "print(\"finished\")"
      ],
      "metadata": {
        "colab": {
          "base_uri": "https://localhost:8080/"
        },
        "id": "9jBgT_mUoh60",
        "outputId": "c66aa7fd-91d2-40ca-96f0-5a09369ec8b8"
      },
      "execution_count": null,
      "outputs": [
        {
          "output_type": "stream",
          "name": "stdout",
          "text": [
            "2\n",
            "3\n",
            "finished\n"
          ]
        }
      ]
    },
    {
      "cell_type": "code",
      "source": [
        "counter = 3\n",
        "\n",
        "while counter <= 9:\n",
        "  print(counter)\n",
        "  counter +=3\n",
        "\n",
        "print(\"finished\")"
      ],
      "metadata": {
        "colab": {
          "base_uri": "https://localhost:8080/"
        },
        "id": "2RZulwmRpW5m",
        "outputId": "6d717f61-8989-4089-cd71-69dbd48933fa"
      },
      "execution_count": null,
      "outputs": [
        {
          "output_type": "stream",
          "name": "stdout",
          "text": [
            "3\n",
            "6\n",
            "9\n",
            "finished\n"
          ]
        }
      ]
    },
    {
      "cell_type": "code",
      "source": [
        "x = 5\n",
        "x *= 2\n",
        "print(x)"
      ],
      "metadata": {
        "colab": {
          "base_uri": "https://localhost:8080/"
        },
        "id": "3jE3axKpkPAN",
        "outputId": "55327165-7537-4163-cdee-0d7eab609244"
      },
      "execution_count": null,
      "outputs": [
        {
          "output_type": "stream",
          "name": "stdout",
          "text": [
            "10\n"
          ]
        }
      ]
    },
    {
      "cell_type": "code",
      "source": [
        "y = 10\n",
        "y *= 3\n",
        "print(y)"
      ],
      "metadata": {
        "colab": {
          "base_uri": "https://localhost:8080/"
        },
        "id": "B0Bn0pBLnml1",
        "outputId": "168c1603-851b-478b-b695-f69d54257450"
      },
      "execution_count": null,
      "outputs": [
        {
          "output_type": "stream",
          "name": "stdout",
          "text": [
            "30\n"
          ]
        }
      ]
    },
    {
      "cell_type": "code",
      "source": [
        "z = 4\n",
        "z *= 3\n",
        "print(z)"
      ],
      "metadata": {
        "colab": {
          "base_uri": "https://localhost:8080/"
        },
        "id": "kUdnnI4inx6i",
        "outputId": "31bf752c-5e0d-47f6-962f-04a5af991819"
      },
      "execution_count": null,
      "outputs": [
        {
          "output_type": "stream",
          "name": "stdout",
          "text": [
            "12\n"
          ]
        }
      ]
    },
    {
      "cell_type": "markdown",
      "source": [],
      "metadata": {
        "id": "RmXWldv8xBJ3"
      }
    },
    {
      "cell_type": "markdown",
      "source": [],
      "metadata": {
        "id": "nE41WzKbxDIn"
      }
    },
    {
      "cell_type": "markdown",
      "source": [],
      "metadata": {
        "id": "KIUQgXn2xIg-"
      }
    },
    {
      "cell_type": "markdown",
      "source": [
        "0.markdown4 readme\n",
        "\n",
        "# **How to use <font color = 'red'>markdown language**\n",
        "* ## For <font color = 'orange'> more syntax </font> of markdown language, [click here](https://www.markdownguide.org/basic-syntax/)\n"
      ],
      "metadata": {
        "id": "zBpHGqSAzNPm"
      }
    },
    {
      "cell_type": "markdown",
      "source": [
        "NLP_2024\n",
        "\n",
        "# **python language**\n",
        "## **Learning python** using **Colab** ([visit colab homepage](https://colab.research.google.com/?utm_source=scs-index))\n",
        "\n",
        "link-> colab ([visit colab](https://colab.research.google.com/?utm_source=scs-index))\n",
        "\n",
        "- exercise\n",
        "* exercise\n",
        "\n",
        "| # | sessions | keywords |\n",
        "|:--:|:--:|:--:|\n",
        "| 1 | markdown language | [syntax](https://github.com/ms624atyale/NLP_2024/blob/main/0_MarkDown4README_md.ipynb) |\n",
        "\n",
        "\n"
      ],
      "metadata": {
        "id": "ubYduOfC0YfA"
      }
    },
    {
      "cell_type": "markdown",
      "source": [],
      "metadata": {
        "id": "-H0km2RY20xF"
      }
    },
    {
      "cell_type": "code",
      "source": [
        "1.\n",
        "\n",
        "#@markdown define variable a\n",
        "\n",
        "a = 1\n",
        "\n",
        "#@markdown define variable b\n",
        "\n",
        "b = 2\n",
        "\n",
        "print(a+b)\n",
        "\n",
        "#@markdown delete a current code cell\n",
        "\n",
        "c = 3\n",
        "print(c)\n",
        "\n",
        "a = 100\n",
        "\n",
        "print(a+c)"
      ],
      "metadata": {
        "id": "IKxjspDy3aIY",
        "outputId": "8c5e0579-7716-448c-e5ac-e71b1e6b87dc",
        "colab": {
          "base_uri": "https://localhost:8080/"
        }
      },
      "execution_count": null,
      "outputs": [
        {
          "output_type": "stream",
          "name": "stdout",
          "text": [
            "3\n",
            "3\n",
            "103\n"
          ]
        }
      ]
    },
    {
      "cell_type": "code",
      "source": [
        "import keyword\n",
        "keyword.kwlist"
      ],
      "metadata": {
        "id": "OXkVnszq3idW",
        "outputId": "368d67e4-14f8-4b7b-b165-9ad137bdb55c",
        "colab": {
          "base_uri": "https://localhost:8080/"
        }
      },
      "execution_count": null,
      "outputs": [
        {
          "output_type": "execute_result",
          "data": {
            "text/plain": [
              "['False',\n",
              " 'None',\n",
              " 'True',\n",
              " 'and',\n",
              " 'as',\n",
              " 'assert',\n",
              " 'async',\n",
              " 'await',\n",
              " 'break',\n",
              " 'class',\n",
              " 'continue',\n",
              " 'def',\n",
              " 'del',\n",
              " 'elif',\n",
              " 'else',\n",
              " 'except',\n",
              " 'finally',\n",
              " 'for',\n",
              " 'from',\n",
              " 'global',\n",
              " 'if',\n",
              " 'import',\n",
              " 'in',\n",
              " 'is',\n",
              " 'lambda',\n",
              " 'nonlocal',\n",
              " 'not',\n",
              " 'or',\n",
              " 'pass',\n",
              " 'raise',\n",
              " 'return',\n",
              " 'try',\n",
              " 'while',\n",
              " 'with',\n",
              " 'yield']"
            ]
          },
          "metadata": {},
          "execution_count": 4
        }
      ]
    },
    {
      "cell_type": "code",
      "source": [],
      "metadata": {
        "id": "NxhuS57H4UOg"
      },
      "execution_count": null,
      "outputs": []
    },
    {
      "cell_type": "markdown",
      "source": [
        "2. five types of data\n",
        "\n",
        "- interger 정수\n",
        "- float 부동소수\n",
        "- complex 복소수\n",
        "- real number 실수\n",
        "- rational numbers 유리수\n",
        "- irrational numbers 무리수\n",
        "\n",
        "l\n",
        "\n",
        "- string: \"a\", 'a', \"i love~\"\n",
        "- list: ['a', '1']\n",
        "- tuple: ('a'. '1')\n",
        "- dictionary: {'a':3, 'd':1}\n",
        "\n",
        "\n"
      ],
      "metadata": {
        "id": "ZaPssEK04Z9L"
      }
    },
    {
      "cell_type": "code",
      "source": [
        "d = [\"Mercury\", \"venus\", \"Earth\"]\n",
        "e = [\"수성\", \"금성\", \"지구\"]\n",
        "f = [1,2,3]\n",
        "\n",
        "print(d)\n",
        "print(e)\n",
        "print(f)"
      ],
      "metadata": {
        "id": "qiJgaIYu6YH4",
        "outputId": "24b62c7a-5ad3-420b-c955-0e357b495a5f",
        "colab": {
          "base_uri": "https://localhost:8080/"
        }
      },
      "execution_count": null,
      "outputs": [
        {
          "output_type": "stream",
          "name": "stdout",
          "text": [
            "['Mercury', 'venus', 'Earth']\n",
            "['수성', '금성', '지구']\n",
            "[1, 2, 3]\n"
          ]
        }
      ]
    },
    {
      "cell_type": "code",
      "source": [
        "k = {'Mercury':'수성', 'Venus':'금성', 'Earth':'지구'}\n",
        "m = {'Mercury 수성':1, 'Venus 금성':2, 'Earth 지구':3}\n",
        "\n",
        "print(k)\n",
        "print(m)\n"
      ],
      "metadata": {
        "id": "iIc0nL7y6scX",
        "outputId": "fcb81991-40d3-4f32-8f5d-fac88b22a4a7",
        "colab": {
          "base_uri": "https://localhost:8080/"
        }
      },
      "execution_count": null,
      "outputs": [
        {
          "output_type": "stream",
          "name": "stdout",
          "text": [
            "{'Mercury': '수성', 'Venus': '금성', 'Earth': '지구'}\n",
            "{'Mercury 수성': 1, 'Venus 금성': 2, 'Earth 지구': 3}\n"
          ]
        }
      ]
    },
    {
      "cell_type": "code",
      "source": [],
      "metadata": {
        "id": "yy2WzJ4b7iFF"
      },
      "execution_count": null,
      "outputs": []
    },
    {
      "cell_type": "markdown",
      "source": [
        "**str data**\n",
        "\n",
        "| str data | I |  | love |  | Python! |\n",
        "|:--:|:--:|:--:|:--|:--:|:--:|\n",
        "| forward indexing | 0 | 1 | 2345 | 6 | 7,8,9,10,11,12,13 |\n",
        "| backward indexing | -14 | -13 | -1211109 | -8 | -7-6-5-4-3-2-1 |\n",
        "\n",
        "</br>\n",
        "[1:5] -> 5미만 -> ' lov'\n",
        "\n",
        "[:5] -> 0부터 5미만 -> 'I lov'\n",
        "\n",
        "\n",
        "[5:] -> 5부터 끝까지 -> 'e Python!'\n",
        "\n",
        "[:-3] -> -3 미만 -> 'on!'\n",
        "\n",
        "[::2] -> 0과 2의 배수 -> 'I lv yh o'\n"
      ],
      "metadata": {
        "id": "b6tlamQhG_mU"
      }
    },
    {
      "cell_type": "code",
      "source": [
        "str_data = 'I love python!'\n",
        "list_data = ['apple', 'banana']\n",
        "tuple_data = ('apple', 'banana')\n",
        "\n",
        "print (str_data)\n",
        "print (list_data)\n",
        "print (tuple_data)"
      ],
      "metadata": {
        "id": "jMzooaiFIvt6",
        "outputId": "61d240d4-44d1-47fb-8f76-56c59cc43dc4",
        "colab": {
          "base_uri": "https://localhost:8080/"
        }
      },
      "execution_count": 1,
      "outputs": [
        {
          "output_type": "stream",
          "name": "stdout",
          "text": [
            "I love python!\n",
            "['apple', 'banana']\n",
            "('apple', 'banana')\n"
          ]
        }
      ]
    },
    {
      "cell_type": "code",
      "source": [
        "strdata = 'Time is Money!'\n",
        "\n",
        "print(strdata[5])\n",
        "print(strdata[-1])\n",
        "print(strdata[0])"
      ],
      "metadata": {
        "id": "uprwwIcuRTQ9",
        "outputId": "b59373cf-ccfd-47ce-a455-2f37f24f281c",
        "colab": {
          "base_uri": "https://localhost:8080/"
        }
      },
      "execution_count": 2,
      "outputs": [
        {
          "output_type": "stream",
          "name": "stdout",
          "text": [
            "i\n",
            "!\n",
            "T\n"
          ]
        }
      ]
    },
    {
      "cell_type": "code",
      "source": [
        "str_data = 'time is money!'\n",
        "\n",
        "print(str_data[1:3])\n",
        "print(str_data[:2])"
      ],
      "metadata": {
        "id": "qAKNtpYSRqoX",
        "outputId": "5414b38b-17f2-48fd-f3e4-157e1a557851",
        "colab": {
          "base_uri": "https://localhost:8080/"
        }
      },
      "execution_count": 3,
      "outputs": [
        {
          "output_type": "stream",
          "name": "stdout",
          "text": [
            "im\n",
            "ti\n"
          ]
        }
      ]
    },
    {
      "cell_type": "code",
      "source": [],
      "metadata": {
        "id": "Ki9II-kzR5DI"
      },
      "execution_count": null,
      "outputs": []
    }
  ]
}