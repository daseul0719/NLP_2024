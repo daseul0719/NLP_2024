{
  "nbformat": 4,
  "nbformat_minor": 0,
  "metadata": {
    "colab": {
      "provenance": [],
      "authorship_tag": "ABX9TyME1vn+UdreDoN+/dPC/Pdq",
      "include_colab_link": true
    },
    "kernelspec": {
      "name": "python3",
      "display_name": "Python 3"
    },
    "language_info": {
      "name": "python"
    }
  },
  "cells": [
    {
      "cell_type": "markdown",
      "metadata": {
        "id": "view-in-github",
        "colab_type": "text"
      },
      "source": [
        "<a href=\"https://colab.research.google.com/github/daseul0719/NLP_2024/blob/main/practice22.ipynb\" target=\"_parent\"><img src=\"https://colab.research.google.com/assets/colab-badge.svg\" alt=\"Open In Colab\"/></a>"
      ]
    },
    {
      "cell_type": "code",
      "source": [
        "counter = 1\n",
        "\n",
        "while counter <= 5:\n",
        "    print(counter)\n",
        "    counter += 1\n",
        "\n",
        "print(\"Loop finished!\")"
      ],
      "metadata": {
        "colab": {
          "base_uri": "https://localhost:8080/"
        },
        "id": "B8GtUbJPkKrE",
        "outputId": "662f7002-405d-4f00-d6d6-2f755f2cc61c"
      },
      "execution_count": null,
      "outputs": [
        {
          "output_type": "stream",
          "name": "stdout",
          "text": [
            "1\n",
            "2\n",
            "3\n",
            "4\n",
            "5\n",
            "Loop finished!\n"
          ]
        }
      ]
    },
    {
      "cell_type": "code",
      "source": [
        "counter = 1\n",
        "\n",
        "while counter <= 2:\n",
        "  print(counter)\n",
        "  counter += 1\n",
        "\n",
        "print(\"finished\")"
      ],
      "metadata": {
        "colab": {
          "base_uri": "https://localhost:8080/"
        },
        "id": "dThu5rGKn3o4",
        "outputId": "f01674d9-b084-47e5-bfa1-2a0f7843af2c"
      },
      "execution_count": null,
      "outputs": [
        {
          "output_type": "stream",
          "name": "stdout",
          "text": [
            "1\n",
            "2\n",
            "finished\n"
          ]
        }
      ]
    },
    {
      "cell_type": "code",
      "source": [
        "counter = 2\n",
        "\n",
        "while counter <= 3:\n",
        "  print(counter)\n",
        "  counter += 1\n",
        "\n",
        "print(\"finished\")"
      ],
      "metadata": {
        "colab": {
          "base_uri": "https://localhost:8080/"
        },
        "id": "9jBgT_mUoh60",
        "outputId": "c66aa7fd-91d2-40ca-96f0-5a09369ec8b8"
      },
      "execution_count": null,
      "outputs": [
        {
          "output_type": "stream",
          "name": "stdout",
          "text": [
            "2\n",
            "3\n",
            "finished\n"
          ]
        }
      ]
    },
    {
      "cell_type": "code",
      "source": [
        "counter = 3\n",
        "\n",
        "while counter <= 9:\n",
        "  print(counter)\n",
        "  counter +=3\n",
        "\n",
        "print(\"finished\")"
      ],
      "metadata": {
        "colab": {
          "base_uri": "https://localhost:8080/"
        },
        "id": "2RZulwmRpW5m",
        "outputId": "6d717f61-8989-4089-cd71-69dbd48933fa"
      },
      "execution_count": null,
      "outputs": [
        {
          "output_type": "stream",
          "name": "stdout",
          "text": [
            "3\n",
            "6\n",
            "9\n",
            "finished\n"
          ]
        }
      ]
    },
    {
      "cell_type": "code",
      "source": [
        "x = 5\n",
        "x *= 2\n",
        "print(x)"
      ],
      "metadata": {
        "colab": {
          "base_uri": "https://localhost:8080/"
        },
        "id": "3jE3axKpkPAN",
        "outputId": "55327165-7537-4163-cdee-0d7eab609244"
      },
      "execution_count": null,
      "outputs": [
        {
          "output_type": "stream",
          "name": "stdout",
          "text": [
            "10\n"
          ]
        }
      ]
    },
    {
      "cell_type": "code",
      "source": [
        "y = 10\n",
        "y *= 3\n",
        "print(y)"
      ],
      "metadata": {
        "colab": {
          "base_uri": "https://localhost:8080/"
        },
        "id": "B0Bn0pBLnml1",
        "outputId": "168c1603-851b-478b-b695-f69d54257450"
      },
      "execution_count": null,
      "outputs": [
        {
          "output_type": "stream",
          "name": "stdout",
          "text": [
            "30\n"
          ]
        }
      ]
    },
    {
      "cell_type": "code",
      "source": [
        "z = 4\n",
        "z *= 3\n",
        "print(z)"
      ],
      "metadata": {
        "colab": {
          "base_uri": "https://localhost:8080/"
        },
        "id": "kUdnnI4inx6i",
        "outputId": "31bf752c-5e0d-47f6-962f-04a5af991819"
      },
      "execution_count": null,
      "outputs": [
        {
          "output_type": "stream",
          "name": "stdout",
          "text": [
            "12\n"
          ]
        }
      ]
    },
    {
      "cell_type": "markdown",
      "source": [],
      "metadata": {
        "id": "RmXWldv8xBJ3"
      }
    },
    {
      "cell_type": "markdown",
      "source": [],
      "metadata": {
        "id": "nE41WzKbxDIn"
      }
    },
    {
      "cell_type": "markdown",
      "source": [],
      "metadata": {
        "id": "KIUQgXn2xIg-"
      }
    }
  ]
}