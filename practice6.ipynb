{
  "nbformat": 4,
  "nbformat_minor": 0,
  "metadata": {
    "colab": {
      "provenance": [],
      "authorship_tag": "ABX9TyO9xntBNRuYX2UMn/MLwMvq",
      "include_colab_link": true
    },
    "kernelspec": {
      "name": "python3",
      "display_name": "Python 3"
    },
    "language_info": {
      "name": "python"
    }
  },
  "cells": [
    {
      "cell_type": "markdown",
      "metadata": {
        "id": "view-in-github",
        "colab_type": "text"
      },
      "source": [
        "<a href=\"https://colab.research.google.com/github/daseul0719/NLP_2024/blob/main/practice6.ipynb\" target=\"_parent\"><img src=\"https://colab.research.google.com/assets/colab-badge.svg\" alt=\"Open In Colab\"/></a>"
      ]
    },
    {
      "cell_type": "markdown",
      "source": [
        "# **How to Use <font color = 'red'> Markdown language**\n",
        "* ## For <font color = 'orange'> more syntax </font> of markdown language, [click here.](https://www.markdownguide.org/basic-syntax/)\n"
      ],
      "metadata": {
        "id": "AbqDs-yaGVbq"
      }
    },
    {
      "cell_type": "code",
      "source": [
        "a = 10\n",
        "print(a)"
      ],
      "metadata": {
        "id": "waQVZai6Bh5I",
        "outputId": "2fee1f8a-388e-4ba5-e1c5-9b866ce56fb4",
        "colab": {
          "base_uri": "https://localhost:8080/"
        }
      },
      "execution_count": 1,
      "outputs": [
        {
          "output_type": "stream",
          "name": "stdout",
          "text": [
            "10\n"
          ]
        }
      ]
    },
    {
      "cell_type": "code",
      "source": [
        "import keyword\n",
        "keyword.kwlist"
      ],
      "metadata": {
        "collapsed": true,
        "id": "fq9WOl1WBsNZ",
        "outputId": "fa081871-8fd2-4592-87ca-e0eeebcb4fd9",
        "colab": {
          "base_uri": "https://localhost:8080/"
        }
      },
      "execution_count": 3,
      "outputs": [
        {
          "output_type": "execute_result",
          "data": {
            "text/plain": [
              "['False',\n",
              " 'None',\n",
              " 'True',\n",
              " 'and',\n",
              " 'as',\n",
              " 'assert',\n",
              " 'async',\n",
              " 'await',\n",
              " 'break',\n",
              " 'class',\n",
              " 'continue',\n",
              " 'def',\n",
              " 'del',\n",
              " 'elif',\n",
              " 'else',\n",
              " 'except',\n",
              " 'finally',\n",
              " 'for',\n",
              " 'from',\n",
              " 'global',\n",
              " 'if',\n",
              " 'import',\n",
              " 'in',\n",
              " 'is',\n",
              " 'lambda',\n",
              " 'nonlocal',\n",
              " 'not',\n",
              " 'or',\n",
              " 'pass',\n",
              " 'raise',\n",
              " 'return',\n",
              " 'try',\n",
              " 'while',\n",
              " 'with',\n",
              " 'yield']"
            ]
          },
          "metadata": {},
          "execution_count": 3
        }
      ]
    },
    {
      "cell_type": "code",
      "source": [
        "a = 1\n",
        "print(a)\n",
        "\n",
        "b = 100\n",
        "print(b)\n",
        "\n",
        "print(a*b)"
      ],
      "metadata": {
        "id": "58ndhu48B3C0",
        "outputId": "54b58ef3-ea65-4f33-be1b-a8154fa4caa3",
        "colab": {
          "base_uri": "https://localhost:8080/"
        }
      },
      "execution_count": 4,
      "outputs": [
        {
          "output_type": "stream",
          "name": "stdout",
          "text": [
            "1\n",
            "100\n",
            "100\n"
          ]
        }
      ]
    },
    {
      "cell_type": "code",
      "source": [
        "c = \"I love Python.\"\n",
        "\n",
        "print(c)"
      ],
      "metadata": {
        "id": "GIOBywWaIq5b",
        "outputId": "2420c2dd-1b82-4be7-ae3c-956e20810864",
        "colab": {
          "base_uri": "https://localhost:8080/"
        }
      },
      "execution_count": 5,
      "outputs": [
        {
          "output_type": "stream",
          "name": "stdout",
          "text": [
            "I love Python.\n"
          ]
        }
      ]
    },
    {
      "cell_type": "code",
      "source": [
        "a = 'sam'\n",
        "b = 'emily'\n",
        "\n",
        "print(a)\n",
        "print(b)\n",
        "\n",
        "a = 'tom'\n",
        "print(a)"
      ],
      "metadata": {
        "id": "kN2sWWcQI2Gw",
        "outputId": "705fbff7-f95d-4957-f69f-642ad0f7bbb4",
        "colab": {
          "base_uri": "https://localhost:8080/"
        }
      },
      "execution_count": 6,
      "outputs": [
        {
          "output_type": "stream",
          "name": "stdout",
          "text": [
            "sam\n",
            "emily\n",
            "tom\n"
          ]
        }
      ]
    },
    {
      "cell_type": "code",
      "source": [
        "d = [\"Mercury\", \"Venus\", \"Earth\"]\n",
        "e = [\"수성\", \"금성\", \"지구\"]\n",
        "f = [1,2,3]\n",
        "\n",
        "print(d)\n",
        "print(e)\n",
        "print(f)"
      ],
      "metadata": {
        "id": "nehdooVmJUtd",
        "outputId": "8f99ccf2-a30d-422e-eb91-01992917a1db",
        "colab": {
          "base_uri": "https://localhost:8080/"
        }
      },
      "execution_count": 8,
      "outputs": [
        {
          "output_type": "stream",
          "name": "stdout",
          "text": [
            "['Mercury', 'Venus', 'Earth']\n",
            "['수성', '금성', '지구']\n",
            "[1, 2, 3]\n"
          ]
        }
      ]
    },
    {
      "cell_type": "code",
      "source": [
        "d = (\"Mercury\", \"Venus\", \"Earth\")\n",
        "e = (\"수성\", \"금성\", \"지구\")\n",
        "f = (1,2,3)\n",
        "\n",
        "print(d)\n",
        "print(e)\n",
        "print(f)\n"
      ],
      "metadata": {
        "id": "T_NRI8LlJ7Di",
        "outputId": "14d906c5-02ab-4f32-8300-5b287301852e",
        "colab": {
          "base_uri": "https://localhost:8080/"
        }
      },
      "execution_count": 10,
      "outputs": [
        {
          "output_type": "stream",
          "name": "stdout",
          "text": [
            "('Mercury', 'Venus', 'Earth')\n",
            "('수성', '금성', '지구')\n",
            "(1, 2, 3)\n"
          ]
        }
      ]
    },
    {
      "cell_type": "code",
      "source": [
        "k = {'Mercury':'수성', 'Venus':'금성', 'Earth':'지구'}\n",
        "m = {'Mercury 수성':1, 'Venus 금성':2, 'Earth 지구':3}\n",
        "\n",
        "print(k)\n",
        "print(m)"
      ],
      "metadata": {
        "id": "6ptWsNAJKvGf",
        "outputId": "98c3719c-77d8-48ae-8221-a3dc48f4c130",
        "colab": {
          "base_uri": "https://localhost:8080/"
        }
      },
      "execution_count": 11,
      "outputs": [
        {
          "output_type": "stream",
          "name": "stdout",
          "text": [
            "{'Mercury': '수성', 'Venus': '금성', 'Earth': '지구'}\n",
            "{'Mercury 수성': 1, 'Venus 금성': 2, 'Earth 지구': 3}\n"
          ]
        }
      ]
    },
    {
      "cell_type": "code",
      "source": [
        "dict = {'a':1, 'b':2, 'c':3}\n",
        "print(dict)\n",
        "print(dict['a'])"
      ],
      "metadata": {
        "id": "eFh_iOvbLfNO",
        "outputId": "22647ae9-fa47-412a-b055-dc071e1f7dd3",
        "colab": {
          "base_uri": "https://localhost:8080/"
        }
      },
      "execution_count": 12,
      "outputs": [
        {
          "output_type": "stream",
          "name": "stdout",
          "text": [
            "{'a': 1, 'b': 2, 'c': 3}\n",
            "1\n"
          ]
        }
      ]
    },
    {
      "cell_type": "code",
      "source": [
        "dict = {'a':1, 'b':2, 'c':3}\n",
        "print(dict)\n",
        "dict['a']=7\n",
        "print(dict)\n"
      ],
      "metadata": {
        "id": "20pkp8gWMWzS",
        "outputId": "e24e79b6-efd0-41f7-96eb-ec02c259617f",
        "colab": {
          "base_uri": "https://localhost:8080/"
        }
      },
      "execution_count": 13,
      "outputs": [
        {
          "output_type": "stream",
          "name": "stdout",
          "text": [
            "{'a': 1, 'b': 2, 'c': 3}\n",
            "{'a': 7, 'b': 2, 'c': 3}\n"
          ]
        }
      ]
    },
    {
      "cell_type": "code",
      "source": [],
      "metadata": {
        "id": "J2e5oCV1NCO0"
      },
      "execution_count": null,
      "outputs": []
    },
    {
      "cell_type": "markdown",
      "source": [
        "| str data | I |   | l | o | v | e |  | P | y | t | h | o |n | ! |\n",
        "|:---------|:--|:--|:--|:--|:--|:--|:--|:--|:--|:--|:--|:-|:-|:-:|\n",
        "| Forward Indexing | 0 | 1 | 2 | 3 | 4 | 5 | 6 | 7 | 8 | 9 | 10| 11| 12|13|\n",
        "| Backward Indexing|-14| -13| -12| -11| -10| -9| -8| -7| -6| -5| -4| -3| -2|-1|\n",
        "\n",
        "\n",
        "| str data |   | l | o | v |\n",
        "|:---------|:--|:--|:--|:-:|\n",
        "| Forward Indexing | 1 | 2 | 3 | 4 |\n",
        "\n",
        "| str data |   | l | o | v |\n",
        "|:---------|:--|:--|:--|:--:|\n"
      ],
      "metadata": {
        "id": "l1OFOANSQZ4g"
      }
    },
    {
      "cell_type": "code",
      "source": [
        "str_data = 'I love Python'\n",
        "list_data = ['apple', 'mango']\n",
        "tuple_data = ('apple', 'mango')\n",
        "\n",
        "print(str_data)\n",
        "print(list_data)\n",
        "print(tuple_data)"
      ],
      "metadata": {
        "id": "s5arrO16S_AJ",
        "outputId": "24bed8ff-e8da-4d5a-f30d-b298e45cc7e1",
        "colab": {
          "base_uri": "https://localhost:8080/"
        }
      },
      "execution_count": 14,
      "outputs": [
        {
          "output_type": "stream",
          "name": "stdout",
          "text": [
            "I love Python\n",
            "['apple', 'mango']\n",
            "('apple', 'mango')\n"
          ]
        }
      ]
    },
    {
      "cell_type": "code",
      "source": [
        "str_data = 'I love Python'\n",
        "print(str_data[0])\n",
        "print(str_data[1])\n",
        "print(str_data[-1])\n",
        "print(str_data[8])"
      ],
      "metadata": {
        "id": "aVAF5hn6TZbk",
        "outputId": "b5c73a46-7b25-4840-9d10-9b85ceeb2b18",
        "colab": {
          "base_uri": "https://localhost:8080/"
        }
      },
      "execution_count": 15,
      "outputs": [
        {
          "output_type": "stream",
          "name": "stdout",
          "text": [
            "I\n",
            " \n",
            "n\n",
            "y\n"
          ]
        }
      ]
    },
    {
      "cell_type": "code",
      "source": [
        "listdata = [1,2, [1,2,3]]\n",
        "print(listdata[0])\n",
        "print(listdata[2][0])"
      ],
      "metadata": {
        "id": "pG8r9hYZTpUl",
        "outputId": "993c6582-a3ca-448b-edf4-d26f93078d78",
        "colab": {
          "base_uri": "https://localhost:8080/"
        }
      },
      "execution_count": 16,
      "outputs": [
        {
          "output_type": "stream",
          "name": "stdout",
          "text": [
            "1\n",
            "1\n"
          ]
        }
      ]
    },
    {
      "cell_type": "code",
      "source": [
        "str_data = 'Time is money!!'\n",
        "\n",
        "print(str_data[0])\n",
        "print(str_data[1:5])\n",
        "print(str_data[:5])\n",
        "print(str_data[5:])\n",
        "print(str_data[::2])\n",
        "print(str_data[:])"
      ],
      "metadata": {
        "id": "wBvHp1kVUEah",
        "outputId": "9e645fc4-36c9-42cd-bf54-a39abfd06d54",
        "colab": {
          "base_uri": "https://localhost:8080/"
        }
      },
      "execution_count": 17,
      "outputs": [
        {
          "output_type": "stream",
          "name": "stdout",
          "text": [
            "T\n",
            "ime \n",
            "Time \n",
            "is money!!\n",
            "Tm smny!\n",
            "Time is money!!\n"
          ]
        }
      ]
    },
    {
      "cell_type": "code",
      "source": [
        "strdata1 = 'i love'; strdata2 = 'python'\n",
        "print(strdata1 + strdata2)\n",
        "print(strdata1*5)"
      ],
      "metadata": {
        "id": "e0qQBVwZVJLh",
        "outputId": "37c6f86b-74f7-42a7-f40c-87f1261a9194",
        "colab": {
          "base_uri": "https://localhost:8080/"
        }
      },
      "execution_count": 19,
      "outputs": [
        {
          "output_type": "stream",
          "name": "stdout",
          "text": [
            "I lovePython\n",
            "I loveI loveI loveI loveI love\n"
          ]
        }
      ]
    },
    {
      "cell_type": "code",
      "source": [
        "strdata1 = 'i love '; strdata2 = 'python'\n",
        "print(strdata1 + strdata2)\n",
        "print(strdata1*5)"
      ],
      "metadata": {
        "id": "lhOICjYkVo-a",
        "outputId": "e9c91f58-1a45-4668-f0cf-37ed637de32f",
        "colab": {
          "base_uri": "https://localhost:8080/"
        }
      },
      "execution_count": 22,
      "outputs": [
        {
          "output_type": "stream",
          "name": "stdout",
          "text": [
            "i love python\n",
            "i love i love i love i love i love \n"
          ]
        }
      ]
    },
    {
      "cell_type": "code",
      "source": [
        "strdata1 = 'i love '; strdata2 = 'python'; strdata3 = ' '\n",
        "print(strdata1 +strdata3+ strdata2)\n",
        "print(strdata1*5)"
      ],
      "metadata": {
        "id": "rURbQTMoVykZ",
        "outputId": "8f758d9d-79a8-4a09-803e-c12c0eab06ca",
        "colab": {
          "base_uri": "https://localhost:8080/"
        }
      },
      "execution_count": 24,
      "outputs": [
        {
          "output_type": "stream",
          "name": "stdout",
          "text": [
            "i love  python\n",
            "i love i love i love i love i love \n"
          ]
        }
      ]
    },
    {
      "cell_type": "code",
      "source": [
        "subject = 'BTS'; verb = 'sings'; object = 'butter'\n",
        "sentence = subject+verb+object\n",
        "print(sentence)"
      ],
      "metadata": {
        "id": "rVzhNSeLV9ei",
        "outputId": "a77adc38-1e3f-44b8-b9c2-57d5203783b3",
        "colab": {
          "base_uri": "https://localhost:8080/"
        }
      },
      "execution_count": 25,
      "outputs": [
        {
          "output_type": "stream",
          "name": "stdout",
          "text": [
            "BTSsingsbutter\n"
          ]
        }
      ]
    },
    {
      "cell_type": "code",
      "source": [
        "subject = 'BTS'; verb = 'sings'; object = 'butter'; strdata = ' '\n",
        "sentence = subject+strdata+verb+strdata+object\n",
        "print(sentence)"
      ],
      "metadata": {
        "id": "8RrUCJdHWTyU",
        "outputId": "362e9371-2906-4645-ae1b-9a2729e9a9da",
        "colab": {
          "base_uri": "https://localhost:8080/"
        }
      },
      "execution_count": 26,
      "outputs": [
        {
          "output_type": "stream",
          "name": "stdout",
          "text": [
            "BTS sings butter\n"
          ]
        }
      ]
    },
    {
      "cell_type": "code",
      "source": [
        "str_data = 'I love Python'\n",
        "print(len(str_data))"
      ],
      "metadata": {
        "id": "zx1ugK1wWfNC",
        "outputId": "0940ac15-635c-42c5-b0f7-9d5ef447674f",
        "colab": {
          "base_uri": "https://localhost:8080/"
        }
      },
      "execution_count": 27,
      "outputs": [
        {
          "output_type": "stream",
          "name": "stdout",
          "text": [
            "13\n"
          ]
        }
      ]
    },
    {
      "cell_type": "code",
      "source": [],
      "metadata": {
        "id": "jnl1XJQuWmtD"
      },
      "execution_count": null,
      "outputs": []
    }
  ]
}