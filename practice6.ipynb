{
  "nbformat": 4,
  "nbformat_minor": 0,
  "metadata": {
    "colab": {
      "provenance": [],
      "authorship_tag": "ABX9TyMKlEmdhYSXk2LK9UFfTEHb",
      "include_colab_link": true
    },
    "kernelspec": {
      "name": "python3",
      "display_name": "Python 3"
    },
    "language_info": {
      "name": "python"
    }
  },
  "cells": [
    {
      "cell_type": "markdown",
      "metadata": {
        "id": "view-in-github",
        "colab_type": "text"
      },
      "source": [
        "<a href=\"https://colab.research.google.com/github/daseul0719/NLP_2024/blob/main/practice6.ipynb\" target=\"_parent\"><img src=\"https://colab.research.google.com/assets/colab-badge.svg\" alt=\"Open In Colab\"/></a>"
      ]
    },
    {
      "cell_type": "markdown",
      "source": [
        "# **How to Use <font color = 'red'> Markdown language**\n",
        "* ## For <font color = 'orange'> more syntax </font> of markdown language, [click here.](https://www.markdownguide.org/basic-syntax/)\n"
      ],
      "metadata": {
        "id": "AbqDs-yaGVbq"
      }
    },
    {
      "cell_type": "code",
      "source": [
        "a = 10\n",
        "print(a)"
      ],
      "metadata": {
        "id": "waQVZai6Bh5I",
        "outputId": "2fee1f8a-388e-4ba5-e1c5-9b866ce56fb4",
        "colab": {
          "base_uri": "https://localhost:8080/"
        }
      },
      "execution_count": null,
      "outputs": [
        {
          "output_type": "stream",
          "name": "stdout",
          "text": [
            "10\n"
          ]
        }
      ]
    },
    {
      "cell_type": "code",
      "source": [
        "import keyword\n",
        "keyword.kwlist"
      ],
      "metadata": {
        "collapsed": true,
        "id": "fq9WOl1WBsNZ",
        "outputId": "fa081871-8fd2-4592-87ca-e0eeebcb4fd9",
        "colab": {
          "base_uri": "https://localhost:8080/"
        }
      },
      "execution_count": null,
      "outputs": [
        {
          "output_type": "execute_result",
          "data": {
            "text/plain": [
              "['False',\n",
              " 'None',\n",
              " 'True',\n",
              " 'and',\n",
              " 'as',\n",
              " 'assert',\n",
              " 'async',\n",
              " 'await',\n",
              " 'break',\n",
              " 'class',\n",
              " 'continue',\n",
              " 'def',\n",
              " 'del',\n",
              " 'elif',\n",
              " 'else',\n",
              " 'except',\n",
              " 'finally',\n",
              " 'for',\n",
              " 'from',\n",
              " 'global',\n",
              " 'if',\n",
              " 'import',\n",
              " 'in',\n",
              " 'is',\n",
              " 'lambda',\n",
              " 'nonlocal',\n",
              " 'not',\n",
              " 'or',\n",
              " 'pass',\n",
              " 'raise',\n",
              " 'return',\n",
              " 'try',\n",
              " 'while',\n",
              " 'with',\n",
              " 'yield']"
            ]
          },
          "metadata": {},
          "execution_count": 3
        }
      ]
    },
    {
      "cell_type": "code",
      "source": [
        "a = 1\n",
        "print(a)\n",
        "\n",
        "b = 100\n",
        "print(b)\n",
        "\n",
        "print(a*b)"
      ],
      "metadata": {
        "id": "58ndhu48B3C0",
        "outputId": "54b58ef3-ea65-4f33-be1b-a8154fa4caa3",
        "colab": {
          "base_uri": "https://localhost:8080/"
        }
      },
      "execution_count": null,
      "outputs": [
        {
          "output_type": "stream",
          "name": "stdout",
          "text": [
            "1\n",
            "100\n",
            "100\n"
          ]
        }
      ]
    },
    {
      "cell_type": "code",
      "source": [
        "c = \"I love Python.\"\n",
        "\n",
        "print(c)"
      ],
      "metadata": {
        "id": "GIOBywWaIq5b",
        "outputId": "2420c2dd-1b82-4be7-ae3c-956e20810864",
        "colab": {
          "base_uri": "https://localhost:8080/"
        }
      },
      "execution_count": null,
      "outputs": [
        {
          "output_type": "stream",
          "name": "stdout",
          "text": [
            "I love Python.\n"
          ]
        }
      ]
    },
    {
      "cell_type": "code",
      "source": [
        "a = 'sam'\n",
        "b = 'emily'\n",
        "\n",
        "print(a)\n",
        "print(b)\n",
        "\n",
        "a = 'tom'\n",
        "print(a)"
      ],
      "metadata": {
        "id": "kN2sWWcQI2Gw",
        "outputId": "705fbff7-f95d-4957-f69f-642ad0f7bbb4",
        "colab": {
          "base_uri": "https://localhost:8080/"
        }
      },
      "execution_count": null,
      "outputs": [
        {
          "output_type": "stream",
          "name": "stdout",
          "text": [
            "sam\n",
            "emily\n",
            "tom\n"
          ]
        }
      ]
    },
    {
      "cell_type": "code",
      "source": [
        "d = [\"Mercury\", \"Venus\", \"Earth\"]\n",
        "e = [\"수성\", \"금성\", \"지구\"]\n",
        "f = [1,2,3]\n",
        "\n",
        "print(d)\n",
        "print(e)\n",
        "print(f)"
      ],
      "metadata": {
        "id": "nehdooVmJUtd",
        "outputId": "8f99ccf2-a30d-422e-eb91-01992917a1db",
        "colab": {
          "base_uri": "https://localhost:8080/"
        }
      },
      "execution_count": null,
      "outputs": [
        {
          "output_type": "stream",
          "name": "stdout",
          "text": [
            "['Mercury', 'Venus', 'Earth']\n",
            "['수성', '금성', '지구']\n",
            "[1, 2, 3]\n"
          ]
        }
      ]
    },
    {
      "cell_type": "code",
      "source": [
        "d = (\"Mercury\", \"Venus\", \"Earth\")\n",
        "e = (\"수성\", \"금성\", \"지구\")\n",
        "f = (1,2,3)\n",
        "\n",
        "print(d)\n",
        "print(e)\n",
        "print(f)\n"
      ],
      "metadata": {
        "id": "T_NRI8LlJ7Di",
        "outputId": "14d906c5-02ab-4f32-8300-5b287301852e",
        "colab": {
          "base_uri": "https://localhost:8080/"
        }
      },
      "execution_count": null,
      "outputs": [
        {
          "output_type": "stream",
          "name": "stdout",
          "text": [
            "('Mercury', 'Venus', 'Earth')\n",
            "('수성', '금성', '지구')\n",
            "(1, 2, 3)\n"
          ]
        }
      ]
    },
    {
      "cell_type": "code",
      "source": [
        "k = {'Mercury':'수성', 'Venus':'금성', 'Earth':'지구'}\n",
        "m = {'Mercury 수성':1, 'Venus 금성':2, 'Earth 지구':3}\n",
        "\n",
        "print(k)\n",
        "print(m)"
      ],
      "metadata": {
        "id": "6ptWsNAJKvGf",
        "outputId": "98c3719c-77d8-48ae-8221-a3dc48f4c130",
        "colab": {
          "base_uri": "https://localhost:8080/"
        }
      },
      "execution_count": null,
      "outputs": [
        {
          "output_type": "stream",
          "name": "stdout",
          "text": [
            "{'Mercury': '수성', 'Venus': '금성', 'Earth': '지구'}\n",
            "{'Mercury 수성': 1, 'Venus 금성': 2, 'Earth 지구': 3}\n"
          ]
        }
      ]
    },
    {
      "cell_type": "code",
      "source": [
        "dict = {'a':1, 'b':2, 'c':3}\n",
        "print(dict)\n",
        "print(dict['a'])"
      ],
      "metadata": {
        "id": "eFh_iOvbLfNO",
        "outputId": "22647ae9-fa47-412a-b055-dc071e1f7dd3",
        "colab": {
          "base_uri": "https://localhost:8080/"
        }
      },
      "execution_count": null,
      "outputs": [
        {
          "output_type": "stream",
          "name": "stdout",
          "text": [
            "{'a': 1, 'b': 2, 'c': 3}\n",
            "1\n"
          ]
        }
      ]
    },
    {
      "cell_type": "code",
      "source": [
        "dict = {'a':1, 'b':2, 'c':3}\n",
        "print(dict)\n",
        "dict['a']=7\n",
        "print(dict)\n"
      ],
      "metadata": {
        "id": "20pkp8gWMWzS",
        "outputId": "e24e79b6-efd0-41f7-96eb-ec02c259617f",
        "colab": {
          "base_uri": "https://localhost:8080/"
        }
      },
      "execution_count": null,
      "outputs": [
        {
          "output_type": "stream",
          "name": "stdout",
          "text": [
            "{'a': 1, 'b': 2, 'c': 3}\n",
            "{'a': 7, 'b': 2, 'c': 3}\n"
          ]
        }
      ]
    },
    {
      "cell_type": "code",
      "source": [],
      "metadata": {
        "id": "J2e5oCV1NCO0"
      },
      "execution_count": null,
      "outputs": []
    },
    {
      "cell_type": "markdown",
      "source": [
        "| str data | I |   | l | o | v | e |  | P | y | t | h | o |n | ! |\n",
        "|:---------|:--|:--|:--|:--|:--|:--|:--|:--|:--|:--|:--|:-|:-|:-:|\n",
        "| Forward Indexing | 0 | 1 | 2 | 3 | 4 | 5 | 6 | 7 | 8 | 9 | 10| 11| 12|13|\n",
        "| Backward Indexing|-14| -13| -12| -11| -10| -9| -8| -7| -6| -5| -4| -3| -2|-1|\n",
        "\n",
        "\n",
        "| str data |   | l | o | v |\n",
        "|:---------|:--|:--|:--|:-:|\n",
        "| Forward Indexing | 1 | 2 | 3 | 4 |\n",
        "\n",
        "| str data |   | l | o | v |\n",
        "|:---------|:--|:--|:--|:--:|\n"
      ],
      "metadata": {
        "id": "l1OFOANSQZ4g"
      }
    },
    {
      "cell_type": "code",
      "source": [
        "str_data = 'I love Python'\n",
        "list_data = ['apple', 'mango']\n",
        "tuple_data = ('apple', 'mango')\n",
        "\n",
        "print(str_data)\n",
        "print(list_data)\n",
        "print(tuple_data)"
      ],
      "metadata": {
        "id": "s5arrO16S_AJ",
        "outputId": "24bed8ff-e8da-4d5a-f30d-b298e45cc7e1",
        "colab": {
          "base_uri": "https://localhost:8080/"
        }
      },
      "execution_count": null,
      "outputs": [
        {
          "output_type": "stream",
          "name": "stdout",
          "text": [
            "I love Python\n",
            "['apple', 'mango']\n",
            "('apple', 'mango')\n"
          ]
        }
      ]
    },
    {
      "cell_type": "code",
      "source": [
        "str_data = 'I love Python'\n",
        "print(str_data[0])\n",
        "print(str_data[1])\n",
        "print(str_data[-1])\n",
        "print(str_data[8])"
      ],
      "metadata": {
        "id": "aVAF5hn6TZbk",
        "outputId": "b5c73a46-7b25-4840-9d10-9b85ceeb2b18",
        "colab": {
          "base_uri": "https://localhost:8080/"
        }
      },
      "execution_count": null,
      "outputs": [
        {
          "output_type": "stream",
          "name": "stdout",
          "text": [
            "I\n",
            " \n",
            "n\n",
            "y\n"
          ]
        }
      ]
    },
    {
      "cell_type": "code",
      "source": [
        "listdata = [1,2, [1,2,3]]\n",
        "print(listdata[0])\n",
        "print(listdata[2][0])"
      ],
      "metadata": {
        "id": "pG8r9hYZTpUl",
        "outputId": "993c6582-a3ca-448b-edf4-d26f93078d78",
        "colab": {
          "base_uri": "https://localhost:8080/"
        }
      },
      "execution_count": null,
      "outputs": [
        {
          "output_type": "stream",
          "name": "stdout",
          "text": [
            "1\n",
            "1\n"
          ]
        }
      ]
    },
    {
      "cell_type": "code",
      "source": [
        "str_data = 'Time is money!!'\n",
        "\n",
        "print(str_data[0])\n",
        "print(str_data[1:5])\n",
        "print(str_data[:5])\n",
        "print(str_data[5:])\n",
        "print(str_data[::2])\n",
        "print(str_data[:])"
      ],
      "metadata": {
        "id": "wBvHp1kVUEah",
        "outputId": "9e645fc4-36c9-42cd-bf54-a39abfd06d54",
        "colab": {
          "base_uri": "https://localhost:8080/"
        }
      },
      "execution_count": null,
      "outputs": [
        {
          "output_type": "stream",
          "name": "stdout",
          "text": [
            "T\n",
            "ime \n",
            "Time \n",
            "is money!!\n",
            "Tm smny!\n",
            "Time is money!!\n"
          ]
        }
      ]
    },
    {
      "cell_type": "code",
      "source": [
        "strdata1 = 'i love'; strdata2 = 'python'\n",
        "print(strdata1 + strdata2)\n",
        "print(strdata1*5)"
      ],
      "metadata": {
        "id": "e0qQBVwZVJLh",
        "outputId": "37c6f86b-74f7-42a7-f40c-87f1261a9194",
        "colab": {
          "base_uri": "https://localhost:8080/"
        }
      },
      "execution_count": null,
      "outputs": [
        {
          "output_type": "stream",
          "name": "stdout",
          "text": [
            "I lovePython\n",
            "I loveI loveI loveI loveI love\n"
          ]
        }
      ]
    },
    {
      "cell_type": "code",
      "source": [
        "strdata1 = 'i love '; strdata2 = 'python'\n",
        "print(strdata1 + strdata2)\n",
        "print(strdata1*5)"
      ],
      "metadata": {
        "id": "lhOICjYkVo-a",
        "outputId": "e9c91f58-1a45-4668-f0cf-37ed637de32f",
        "colab": {
          "base_uri": "https://localhost:8080/"
        }
      },
      "execution_count": null,
      "outputs": [
        {
          "output_type": "stream",
          "name": "stdout",
          "text": [
            "i love python\n",
            "i love i love i love i love i love \n"
          ]
        }
      ]
    },
    {
      "cell_type": "code",
      "source": [
        "strdata1 = 'i love '; strdata2 = 'python'; strdata3 = ' '\n",
        "print(strdata1 +strdata3+ strdata2)\n",
        "print(strdata1*5)"
      ],
      "metadata": {
        "id": "rURbQTMoVykZ",
        "outputId": "8f758d9d-79a8-4a09-803e-c12c0eab06ca",
        "colab": {
          "base_uri": "https://localhost:8080/"
        }
      },
      "execution_count": null,
      "outputs": [
        {
          "output_type": "stream",
          "name": "stdout",
          "text": [
            "i love  python\n",
            "i love i love i love i love i love \n"
          ]
        }
      ]
    },
    {
      "cell_type": "code",
      "source": [
        "subject = 'BTS'; verb = 'sings'; object = 'butter'\n",
        "sentence = subject+verb+object\n",
        "print(sentence)"
      ],
      "metadata": {
        "id": "rVzhNSeLV9ei",
        "outputId": "a77adc38-1e3f-44b8-b9c2-57d5203783b3",
        "colab": {
          "base_uri": "https://localhost:8080/"
        }
      },
      "execution_count": null,
      "outputs": [
        {
          "output_type": "stream",
          "name": "stdout",
          "text": [
            "BTSsingsbutter\n"
          ]
        }
      ]
    },
    {
      "cell_type": "code",
      "source": [
        "subject = 'BTS'; verb = 'sings'; object = 'butter'; strdata = ' '\n",
        "sentence = subject+strdata+verb+strdata+object\n",
        "print(sentence)"
      ],
      "metadata": {
        "id": "8RrUCJdHWTyU",
        "outputId": "362e9371-2906-4645-ae1b-9a2729e9a9da",
        "colab": {
          "base_uri": "https://localhost:8080/"
        }
      },
      "execution_count": null,
      "outputs": [
        {
          "output_type": "stream",
          "name": "stdout",
          "text": [
            "BTS sings butter\n"
          ]
        }
      ]
    },
    {
      "cell_type": "code",
      "source": [
        "str_data = 'I love Python'\n",
        "print(len(str_data))"
      ],
      "metadata": {
        "id": "zx1ugK1wWfNC",
        "outputId": "0940ac15-635c-42c5-b0f7-9d5ef447674f",
        "colab": {
          "base_uri": "https://localhost:8080/"
        }
      },
      "execution_count": null,
      "outputs": [
        {
          "output_type": "stream",
          "name": "stdout",
          "text": [
            "13\n"
          ]
        }
      ]
    },
    {
      "cell_type": "code",
      "source": [
        "x = 100\n",
        "y = 200\n",
        "\n",
        "if x>y:\n",
        "  print('x is greater than y')\n",
        "else:\n",
        "  print('x is smaller than or equal to y')"
      ],
      "metadata": {
        "id": "jnl1XJQuWmtD",
        "outputId": "d5dc7eff-f4cb-47e2-8c36-cb08a783b697",
        "colab": {
          "base_uri": "https://localhost:8080/"
        }
      },
      "execution_count": 28,
      "outputs": [
        {
          "output_type": "stream",
          "name": "stdout",
          "text": [
            "x is smaller than or equal to y\n"
          ]
        }
      ]
    },
    {
      "cell_type": "code",
      "source": [
        "listdata = ['a', 'b', 'c']\n",
        "if 'a' in listdata:\n",
        "  print('a가 listdata 안에 있다')"
      ],
      "metadata": {
        "id": "B-09UZ61yt4k",
        "outputId": "7efa7d3f-3187-42ea-8e93-de613c37baa1",
        "colab": {
          "base_uri": "https://localhost:8080/"
        }
      },
      "execution_count": 30,
      "outputs": [
        {
          "output_type": "stream",
          "name": "stdout",
          "text": [
            "a가 listdata 안에 있다\n"
          ]
        }
      ]
    },
    {
      "cell_type": "code",
      "source": [
        "numbers = (1,2,3,4,5,6,7,8,9)\n",
        "\n",
        "for i in numbers:\n",
        "  print(i)"
      ],
      "metadata": {
        "id": "u1vi2VzLzE5p",
        "outputId": "2a0e71d5-e7f7-440d-c7af-170e939a9c90",
        "colab": {
          "base_uri": "https://localhost:8080/"
        }
      },
      "execution_count": 32,
      "outputs": [
        {
          "output_type": "stream",
          "name": "stdout",
          "text": [
            "1\n",
            "2\n",
            "3\n",
            "4\n",
            "5\n",
            "6\n",
            "7\n",
            "8\n",
            "9\n"
          ]
        }
      ]
    },
    {
      "cell_type": "code",
      "source": [
        "scope = [1,2,3,4,5]\n",
        "for i in scope:\n",
        "  print(i)"
      ],
      "metadata": {
        "id": "i-NHqa6O2V84",
        "outputId": "9b7f3be7-b277-478e-c444-e4b13389884c",
        "colab": {
          "base_uri": "https://localhost:8080/"
        }
      },
      "execution_count": 33,
      "outputs": [
        {
          "output_type": "stream",
          "name": "stdout",
          "text": [
            "1\n",
            "2\n",
            "3\n",
            "4\n",
            "5\n"
          ]
        }
      ]
    },
    {
      "cell_type": "code",
      "source": [
        "class1 = ['sam', 'tom']\n",
        "\n",
        "for i in class1:\n",
        "  print(i)"
      ],
      "metadata": {
        "id": "t1pBTo_z2e1P",
        "outputId": "4f8da63c-e990-4cad-b8af-d97d481ed3d7",
        "colab": {
          "base_uri": "https://localhost:8080/"
        }
      },
      "execution_count": 36,
      "outputs": [
        {
          "output_type": "stream",
          "name": "stdout",
          "text": [
            "sam\n",
            "tom\n"
          ]
        }
      ]
    },
    {
      "cell_type": "code",
      "source": [
        "for i in range(10):\n",
        "  print(i)"
      ],
      "metadata": {
        "id": "jyqo5D7x3GiA",
        "outputId": "b365cf39-00a9-419f-b475-c4f064ab19ed",
        "colab": {
          "base_uri": "https://localhost:8080/"
        }
      },
      "execution_count": 37,
      "outputs": [
        {
          "output_type": "stream",
          "name": "stdout",
          "text": [
            "0\n",
            "1\n",
            "2\n",
            "3\n",
            "4\n",
            "5\n",
            "6\n",
            "7\n",
            "8\n",
            "9\n"
          ]
        }
      ]
    },
    {
      "cell_type": "code",
      "source": [
        "for i in range(10):\n",
        "  print(i)\n",
        "\n",
        "type(i)"
      ],
      "metadata": {
        "id": "IfjYpF2o3YpF",
        "outputId": "3a98b0ba-267c-4217-d43d-98bdcf248546",
        "colab": {
          "base_uri": "https://localhost:8080/"
        }
      },
      "execution_count": 39,
      "outputs": [
        {
          "output_type": "stream",
          "name": "stdout",
          "text": [
            "0\n",
            "1\n",
            "2\n",
            "3\n",
            "4\n",
            "5\n",
            "6\n",
            "7\n",
            "8\n",
            "9\n"
          ]
        },
        {
          "output_type": "execute_result",
          "data": {
            "text/plain": [
              "int"
            ]
          },
          "metadata": {},
          "execution_count": 39
        }
      ]
    },
    {
      "cell_type": "code",
      "source": [
        "string = 'abcde'\n",
        "\n",
        "for i in string:\n",
        "  print(i)"
      ],
      "metadata": {
        "id": "gfPwgrhn4BFA",
        "outputId": "ff280c99-ef48-4612-f650-8f4f0c69425e",
        "colab": {
          "base_uri": "https://localhost:8080/"
        }
      },
      "execution_count": 40,
      "outputs": [
        {
          "output_type": "stream",
          "name": "stdout",
          "text": [
            "a\n",
            "b\n",
            "c\n",
            "d\n",
            "e\n"
          ]
        }
      ]
    },
    {
      "cell_type": "code",
      "source": [
        "list_fruit = [\"apple\", \"mango\", \"pear\"]\n",
        "\n",
        "for i in list_fruit:\n",
        "  print(i)"
      ],
      "metadata": {
        "id": "EArkeTqK4Ong",
        "outputId": "01387e37-3a08-474a-fa4a-176c5259d110",
        "colab": {
          "base_uri": "https://localhost:8080/"
        }
      },
      "execution_count": 41,
      "outputs": [
        {
          "output_type": "stream",
          "name": "stdout",
          "text": [
            "apple\n",
            "mango\n",
            "pear\n"
          ]
        }
      ]
    },
    {
      "cell_type": "code",
      "source": [
        "list_int = [1,2,3,4,5]\n",
        "\n",
        "for i in list_int:\n",
        "  print(i)"
      ],
      "metadata": {
        "id": "RpbH-vgK4ifd",
        "outputId": "9b8a4a9d-a4ba-4631-f499-fb5eed7e2896",
        "colab": {
          "base_uri": "https://localhost:8080/"
        }
      },
      "execution_count": 42,
      "outputs": [
        {
          "output_type": "stream",
          "name": "stdout",
          "text": [
            "1\n",
            "2\n",
            "3\n",
            "4\n",
            "5\n"
          ]
        }
      ]
    },
    {
      "cell_type": "code",
      "source": [
        "print(list_int[0])\n",
        "print(list_int[1])"
      ],
      "metadata": {
        "id": "EitXQ_zg4snj",
        "outputId": "c87bd704-8cee-44e5-85d3-1eeeeb92e824",
        "colab": {
          "base_uri": "https://localhost:8080/"
        }
      },
      "execution_count": 43,
      "outputs": [
        {
          "output_type": "stream",
          "name": "stdout",
          "text": [
            "1\n",
            "2\n"
          ]
        }
      ]
    },
    {
      "cell_type": "code",
      "source": [
        "printdict1 = {'a':1, 'b':10, 'c':100}\n",
        "\n",
        "for i in printdict1:\n",
        "  print(i)"
      ],
      "metadata": {
        "id": "LL72tQzP44ju",
        "outputId": "78f9b111-4b3f-4409-aa10-51fd607ad539",
        "colab": {
          "base_uri": "https://localhost:8080/"
        }
      },
      "execution_count": 44,
      "outputs": [
        {
          "output_type": "stream",
          "name": "stdout",
          "text": [
            "a\n",
            "b\n",
            "c\n"
          ]
        }
      ]
    },
    {
      "cell_type": "code",
      "source": [
        "printdict1 = {'a':1, 'b':10, 'c':100}\n",
        "\n",
        "print(printdict1['a'])\n",
        "print(printdict1['b'])"
      ],
      "metadata": {
        "id": "jmrHmjcA5K4G",
        "outputId": "d1741fee-54f2-4aa7-cc88-ba732115effb",
        "colab": {
          "base_uri": "https://localhost:8080/"
        }
      },
      "execution_count": 45,
      "outputs": [
        {
          "output_type": "stream",
          "name": "stdout",
          "text": [
            "1\n",
            "10\n"
          ]
        }
      ]
    },
    {
      "cell_type": "code",
      "source": [
        "scope = [1,2,3,4,5]\n",
        "\n",
        "for i in scope:\n",
        "  print(i)\n",
        "  if i<3:\n",
        "    continue\n",
        "  else:\n",
        "    break\n"
      ],
      "metadata": {
        "id": "Ow8C4zRk5XeG",
        "outputId": "58c31ecd-4107-4e64-e6fd-5eb1d1204218",
        "colab": {
          "base_uri": "https://localhost:8080/"
        }
      },
      "execution_count": 46,
      "outputs": [
        {
          "output_type": "stream",
          "name": "stdout",
          "text": [
            "1\n",
            "2\n",
            "3\n"
          ]
        }
      ]
    },
    {
      "cell_type": "code",
      "source": [
        "list = [1,2,3]\n",
        "\n",
        "for i in list:\n",
        "  print(i)\n",
        "  break\n",
        "else:\n",
        "  print('Perfect')"
      ],
      "metadata": {
        "id": "JKmYrhHe5zvl",
        "outputId": "96b7f684-5561-461d-8f03-62a310637e3f",
        "colab": {
          "base_uri": "https://localhost:8080/"
        }
      },
      "execution_count": 48,
      "outputs": [
        {
          "output_type": "stream",
          "name": "stdout",
          "text": [
            "1\n"
          ]
        }
      ]
    },
    {
      "cell_type": "code",
      "source": [
        "try:\n",
        "  print(\"How are you?\")\n",
        "  print(param)\n",
        "\n",
        "except:\n",
        "  print('Exception occurred')\n",
        ""
      ],
      "metadata": {
        "id": "qQ_2fxGl8yQR",
        "outputId": "0b87e951-f0f3-4aec-c9a0-b74affa92cd0",
        "colab": {
          "base_uri": "https://localhost:8080/"
        }
      },
      "execution_count": 49,
      "outputs": [
        {
          "output_type": "stream",
          "name": "stdout",
          "text": [
            "How are you?\n",
            "Exception occurred\n"
          ]
        }
      ]
    },
    {
      "cell_type": "code",
      "source": [
        "try:\n",
        "  print(\"How are you?\")\n",
        "\n",
        "except:\n",
        "  print('Exception occurred')"
      ],
      "metadata": {
        "id": "bonzVXXC9ahc",
        "outputId": "6db53039-9a1a-4ff9-ed3c-448708b1b2ec",
        "colab": {
          "base_uri": "https://localhost:8080/"
        }
      },
      "execution_count": 50,
      "outputs": [
        {
          "output_type": "stream",
          "name": "stdout",
          "text": [
            "How are you?\n"
          ]
        }
      ]
    },
    {
      "cell_type": "code",
      "source": [
        "try:\n",
        "  print(\"How are you?\")\n",
        "\n",
        "except:\n",
        "  print('Exception occurred')\n",
        "\n",
        "else:\n",
        "  print('Exception did not occur')"
      ],
      "metadata": {
        "id": "EKFF0JyR9hyc",
        "outputId": "60661ea3-2721-4ea1-badc-0110502db6fd",
        "colab": {
          "base_uri": "https://localhost:8080/"
        }
      },
      "execution_count": 52,
      "outputs": [
        {
          "output_type": "stream",
          "name": "stdout",
          "text": [
            "How are you?\n",
            "Exception did not occur\n"
          ]
        }
      ]
    },
    {
      "cell_type": "code",
      "source": [
        "try:\n",
        "  print(\"How are you?\")\n",
        "  print(param)\n",
        "\n",
        "except:\n",
        "  print(\"Exception occurred\")\n",
        "\n",
        "finally:\n",
        "  print('This code should be running')"
      ],
      "metadata": {
        "id": "9er0I707-BIr",
        "outputId": "5a17c79f-2f49-4324-a55e-2d83ad086f24",
        "colab": {
          "base_uri": "https://localhost:8080/"
        }
      },
      "execution_count": 53,
      "outputs": [
        {
          "output_type": "stream",
          "name": "stdout",
          "text": [
            "How are you?\n",
            "Exception occurred\n",
            "This code should be running\n"
          ]
        }
      ]
    },
    {
      "cell_type": "code",
      "source": [
        "counter = 1\n",
        "while counter <= 5:\n",
        "  print(counter)\n",
        "  counter += 1"
      ],
      "metadata": {
        "id": "iO71egWq-XTZ",
        "outputId": "621a7bfc-af55-4aa4-9cc0-a3a16639f769",
        "colab": {
          "base_uri": "https://localhost:8080/"
        }
      },
      "execution_count": 56,
      "outputs": [
        {
          "output_type": "stream",
          "name": "stdout",
          "text": [
            "1\n",
            "2\n",
            "3\n",
            "4\n",
            "5\n"
          ]
        }
      ]
    },
    {
      "cell_type": "code",
      "source": [
        "x = 5\n",
        "x *= 2\n",
        "print(x)"
      ],
      "metadata": {
        "id": "shXB4NLH_a5q",
        "outputId": "92576964-7788-456b-b143-c81e7bfe8152",
        "colab": {
          "base_uri": "https://localhost:8080/"
        }
      },
      "execution_count": 57,
      "outputs": [
        {
          "output_type": "stream",
          "name": "stdout",
          "text": [
            "10\n"
          ]
        }
      ]
    },
    {
      "cell_type": "code",
      "source": [
        "!pip install nltk"
      ],
      "metadata": {
        "id": "rKow3kWfAIGk",
        "outputId": "d18657e5-d460-45c1-fe98-db0f273967f6",
        "colab": {
          "base_uri": "https://localhost:8080/"
        }
      },
      "execution_count": 58,
      "outputs": [
        {
          "output_type": "stream",
          "name": "stdout",
          "text": [
            "Requirement already satisfied: nltk in /usr/local/lib/python3.10/dist-packages (3.8.1)\n",
            "Requirement already satisfied: click in /usr/local/lib/python3.10/dist-packages (from nltk) (8.1.7)\n",
            "Requirement already satisfied: joblib in /usr/local/lib/python3.10/dist-packages (from nltk) (1.4.2)\n",
            "Requirement already satisfied: regex>=2021.8.3 in /usr/local/lib/python3.10/dist-packages (from nltk) (2024.9.11)\n",
            "Requirement already satisfied: tqdm in /usr/local/lib/python3.10/dist-packages (from nltk) (4.66.5)\n"
          ]
        }
      ]
    },
    {
      "cell_type": "code",
      "source": [
        "import nltk\n",
        "from nltk.tokenize import word_tokenize, sent_tokenize\n",
        "nltk.download(\"punkt\")"
      ],
      "metadata": {
        "id": "PTT2tDXICL8V",
        "outputId": "13e45a2d-960c-4f90-c557-b682b550ab4a",
        "colab": {
          "base_uri": "https://localhost:8080/"
        }
      },
      "execution_count": 59,
      "outputs": [
        {
          "output_type": "stream",
          "name": "stderr",
          "text": [
            "[nltk_data] Downloading package punkt to /root/nltk_data...\n",
            "[nltk_data]   Unzipping tokenizers/punkt.zip.\n"
          ]
        },
        {
          "output_type": "execute_result",
          "data": {
            "text/plain": [
              "True"
            ]
          },
          "metadata": {},
          "execution_count": 59
        }
      ]
    },
    {
      "cell_type": "code",
      "source": [
        "import os\n",
        "os.mkdir(\"txtfolder2\")"
      ],
      "metadata": {
        "id": "CzNmQ8ALCxWN"
      },
      "execution_count": 60,
      "outputs": []
    },
    {
      "cell_type": "code",
      "source": [
        "!pip install nltk\n",
        "text = \"Python programming is a high-level, interpreted programming language known for its simplicity and readability. It emphasizes code readability with its clean syntax, making it easier to write and understand. Python supports multiple programming paradigms, including procedural, object-oriented, and functional programming. It has a vast standard library and a thriving ecosystem of third-party libraries and frameworks, making it suitable for various domains such as web development, data analysis, machine learning, and automation. Python's versatility, ease of use, and extensive community support have contributed to its popularity among developers of all skill levels.\"\n",
        "from nltk.tokenize import sent_tokenize\n",
        "sentence = sent_tokenize(text)\n",
        "print('문장 토큰화: %s' %sentence)"
      ],
      "metadata": {
        "id": "6pQf7TenDRO8",
        "outputId": "09ab4e18-24c1-4236-95d9-4743b4abcb9d",
        "colab": {
          "base_uri": "https://localhost:8080/"
        }
      },
      "execution_count": 61,
      "outputs": [
        {
          "output_type": "stream",
          "name": "stdout",
          "text": [
            "Requirement already satisfied: nltk in /usr/local/lib/python3.10/dist-packages (3.8.1)\n",
            "Requirement already satisfied: click in /usr/local/lib/python3.10/dist-packages (from nltk) (8.1.7)\n",
            "Requirement already satisfied: joblib in /usr/local/lib/python3.10/dist-packages (from nltk) (1.4.2)\n",
            "Requirement already satisfied: regex>=2021.8.3 in /usr/local/lib/python3.10/dist-packages (from nltk) (2024.9.11)\n",
            "Requirement already satisfied: tqdm in /usr/local/lib/python3.10/dist-packages (from nltk) (4.66.5)\n",
            "문장 토큰화: ['Python programming is a high-level, interpreted programming language known for its simplicity and readability.', 'It emphasizes code readability with its clean syntax, making it easier to write and understand.', 'Python supports multiple programming paradigms, including procedural, object-oriented, and functional programming.', 'It has a vast standard library and a thriving ecosystem of third-party libraries and frameworks, making it suitable for various domains such as web development, data analysis, machine learning, and automation.', \"Python's versatility, ease of use, and extensive community support have contributed to its popularity among developers of all skill levels.\"]\n"
          ]
        }
      ]
    },
    {
      "cell_type": "code",
      "source": [
        "import re\n",
        "\n",
        "text = \"cat, hat, bat, sat, set, combat\"\n",
        "pattern = r\".at\"\n",
        "\n",
        "matches = re.findall(pattern, text)\n",
        "\n",
        "for i in matches:\n",
        "  print(\"Match:\", i)\n",
        "\n",
        "print('\\n')\n",
        "\n",
        "for match in matches:\n",
        "  print(\"Match:\", match)\n",
        ""
      ],
      "metadata": {
        "id": "NbPiV4SoDxi0",
        "outputId": "600ac4f1-c0e4-44fc-e3ff-c935df06a7c5",
        "colab": {
          "base_uri": "https://localhost:8080/"
        }
      },
      "execution_count": 62,
      "outputs": [
        {
          "output_type": "stream",
          "name": "stdout",
          "text": [
            "Match: cat\n",
            "Match: hat\n",
            "Match: bat\n",
            "Match: sat\n",
            "Match: bat\n",
            "\n",
            "\n",
            "Match: cat\n",
            "Match: hat\n",
            "Match: bat\n",
            "Match: sat\n",
            "Match: bat\n"
          ]
        }
      ]
    },
    {
      "cell_type": "code",
      "source": [
        "text = ['cat', 'hat', 'sat', 'combat']\n",
        "pattern = r\".at\"\n",
        "\n",
        "matches = re.findall(pattern, text)\n",
        "\n",
        "for i in matches:\n",
        "  print(i)"
      ],
      "metadata": {
        "collapsed": true,
        "id": "YFyMdxHjKU7K",
        "outputId": "8b2d0897-9fe6-4c88-a621-8a2e95db1f4f",
        "colab": {
          "base_uri": "https://localhost:8080/",
          "height": 347
        }
      },
      "execution_count": 63,
      "outputs": [
        {
          "output_type": "error",
          "ename": "TypeError",
          "evalue": "expected string or bytes-like object",
          "traceback": [
            "\u001b[0;31m---------------------------------------------------------------------------\u001b[0m",
            "\u001b[0;31mTypeError\u001b[0m                                 Traceback (most recent call last)",
            "\u001b[0;32m<ipython-input-63-0e8280a489f1>\u001b[0m in \u001b[0;36m<cell line: 4>\u001b[0;34m()\u001b[0m\n\u001b[1;32m      2\u001b[0m \u001b[0mpattern\u001b[0m \u001b[0;34m=\u001b[0m \u001b[0;34mr\".at\"\u001b[0m\u001b[0;34m\u001b[0m\u001b[0;34m\u001b[0m\u001b[0m\n\u001b[1;32m      3\u001b[0m \u001b[0;34m\u001b[0m\u001b[0m\n\u001b[0;32m----> 4\u001b[0;31m \u001b[0mmatches\u001b[0m \u001b[0;34m=\u001b[0m \u001b[0mre\u001b[0m\u001b[0;34m.\u001b[0m\u001b[0mfindall\u001b[0m\u001b[0;34m(\u001b[0m\u001b[0mpattern\u001b[0m\u001b[0;34m,\u001b[0m \u001b[0mtext\u001b[0m\u001b[0;34m)\u001b[0m\u001b[0;34m\u001b[0m\u001b[0;34m\u001b[0m\u001b[0m\n\u001b[0m\u001b[1;32m      5\u001b[0m \u001b[0;34m\u001b[0m\u001b[0m\n\u001b[1;32m      6\u001b[0m \u001b[0;32mfor\u001b[0m \u001b[0mi\u001b[0m \u001b[0;32min\u001b[0m \u001b[0mmatches\u001b[0m\u001b[0;34m:\u001b[0m\u001b[0;34m\u001b[0m\u001b[0;34m\u001b[0m\u001b[0m\n",
            "\u001b[0;32m/usr/lib/python3.10/re.py\u001b[0m in \u001b[0;36mfindall\u001b[0;34m(pattern, string, flags)\u001b[0m\n\u001b[1;32m    238\u001b[0m \u001b[0;34m\u001b[0m\u001b[0m\n\u001b[1;32m    239\u001b[0m     Empty matches are included in the result.\"\"\"\n\u001b[0;32m--> 240\u001b[0;31m     \u001b[0;32mreturn\u001b[0m \u001b[0m_compile\u001b[0m\u001b[0;34m(\u001b[0m\u001b[0mpattern\u001b[0m\u001b[0;34m,\u001b[0m \u001b[0mflags\u001b[0m\u001b[0;34m)\u001b[0m\u001b[0;34m.\u001b[0m\u001b[0mfindall\u001b[0m\u001b[0;34m(\u001b[0m\u001b[0mstring\u001b[0m\u001b[0;34m)\u001b[0m\u001b[0;34m\u001b[0m\u001b[0;34m\u001b[0m\u001b[0m\n\u001b[0m\u001b[1;32m    241\u001b[0m \u001b[0;34m\u001b[0m\u001b[0m\n\u001b[1;32m    242\u001b[0m \u001b[0;32mdef\u001b[0m \u001b[0mfinditer\u001b[0m\u001b[0;34m(\u001b[0m\u001b[0mpattern\u001b[0m\u001b[0;34m,\u001b[0m \u001b[0mstring\u001b[0m\u001b[0;34m,\u001b[0m \u001b[0mflags\u001b[0m\u001b[0;34m=\u001b[0m\u001b[0;36m0\u001b[0m\u001b[0;34m)\u001b[0m\u001b[0;34m:\u001b[0m\u001b[0;34m\u001b[0m\u001b[0;34m\u001b[0m\u001b[0m\n",
            "\u001b[0;31mTypeError\u001b[0m: expected string or bytes-like object"
          ]
        }
      ]
    },
    {
      "cell_type": "code",
      "source": [
        "import re\n",
        "\n",
        "text = \"color or colour\"\n",
        "pattern = r\"colou?r\"\n",
        "\n",
        "matches = re.findall(pattern, text)\n",
        "\n",
        "for i in matches:\n",
        "  print(\"Match:\", i)"
      ],
      "metadata": {
        "id": "JPsI_5XqLX7z",
        "outputId": "f0d4d66a-50a7-4a26-a03d-8b30b63d0c66",
        "colab": {
          "base_uri": "https://localhost:8080/"
        }
      },
      "execution_count": 66,
      "outputs": [
        {
          "output_type": "stream",
          "name": "stdout",
          "text": [
            "Match: color\n",
            "Match: colour\n"
          ]
        }
      ]
    },
    {
      "cell_type": "code",
      "source": [
        "text = \"color, colour, or coloer?\"\n",
        "pattern = r\"colou?r\"\n",
        "\n",
        "matches = re.findall(pattern, text)\n",
        "\n",
        "for i in matches:\n",
        "  print(\"Match:\", i)"
      ],
      "metadata": {
        "id": "x-FHM57YL84Z",
        "outputId": "ef511346-c833-4c62-bf3e-c3816473dd28",
        "colab": {
          "base_uri": "https://localhost:8080/"
        }
      },
      "execution_count": 67,
      "outputs": [
        {
          "output_type": "stream",
          "name": "stdout",
          "text": [
            "Match: color\n",
            "Match: colour\n"
          ]
        }
      ]
    },
    {
      "cell_type": "code",
      "source": [
        "import re\n",
        "\n",
        "text = \"ab, abc, ac, abbc, aabbc, abbbbbc, abkc\"\n",
        "pattern = r\"ab*c\"\n",
        "\n",
        "matches = re.findall(pattern, text)\n",
        "\n",
        "for i in matches:\n",
        "  print(\"Match:\", i)"
      ],
      "metadata": {
        "id": "fEaPD-L6N2SJ",
        "outputId": "ff4b331e-5825-4a43-a2cb-79b05b7fbda4",
        "colab": {
          "base_uri": "https://localhost:8080/"
        }
      },
      "execution_count": 69,
      "outputs": [
        {
          "output_type": "stream",
          "name": "stdout",
          "text": [
            "Match: abc\n",
            "Match: ac\n",
            "Match: abbc\n",
            "Match: abbc\n",
            "Match: abbbbbc\n"
          ]
        }
      ]
    },
    {
      "cell_type": "code",
      "source": [
        "import re\n",
        "\n",
        "text = \"cat, caat, caaat, caot, sat\"\n",
        "pattern = r\"ca+t\"\n",
        "\n",
        "matches = re.findall(pattern, text)\n",
        "\n",
        "for i in matches:\n",
        "  print(\"Match:\", i)"
      ],
      "metadata": {
        "id": "yRmCq8C6OVta",
        "outputId": "50b5e944-1571-4045-fa58-455ffae1e984",
        "colab": {
          "base_uri": "https://localhost:8080/"
        }
      },
      "execution_count": 70,
      "outputs": [
        {
          "output_type": "stream",
          "name": "stdout",
          "text": [
            "Match: cat\n",
            "Match: caat\n",
            "Match: caaat\n"
          ]
        }
      ]
    },
    {
      "cell_type": "code",
      "source": [
        "import re\n",
        "\n",
        "text = \"Python is a popular programming language. Python is versatile!\"\n",
        "pattern = r'versatile.$'\n",
        "\n",
        "matches = re.findall(pattern, text)\n",
        "\n",
        "for i in matches:\n",
        "  print(\"Match:\", i)"
      ],
      "metadata": {
        "id": "XvfKHlPCOv6D",
        "outputId": "1c53dbce-0592-435d-f248-2b9cf4e28c0a",
        "colab": {
          "base_uri": "https://localhost:8080/"
        }
      },
      "execution_count": 71,
      "outputs": [
        {
          "output_type": "stream",
          "name": "stdout",
          "text": [
            "Match: versatile!\n"
          ]
        }
      ]
    },
    {
      "cell_type": "code",
      "source": [
        "import re\n",
        "\n",
        "text = \"Python is a popular programming language. Python is versatile.\"\n",
        "pattern = r'e.$'\n",
        "\n",
        "matches = re.findall(pattern, text)\n",
        "\n",
        "for i in matches:\n",
        "    print(\"Match:\", i)"
      ],
      "metadata": {
        "id": "i_J01RMRPqIx",
        "outputId": "948627c8-f451-4f95-8e12-2a08deaf398f",
        "colab": {
          "base_uri": "https://localhost:8080/"
        }
      },
      "execution_count": 72,
      "outputs": [
        {
          "output_type": "stream",
          "name": "stdout",
          "text": [
            "Match: e.\n"
          ]
        }
      ]
    },
    {
      "cell_type": "code",
      "source": [
        "import re\n",
        "\n",
        "text = \"Python is a programming language. Python is versatile. We all love Python.\"\n",
        "pattern = r'^Python'\n",
        "\n",
        "matches = re.findall(pattern, text)\n",
        "\n",
        "for i in matches:\n",
        "  print(\"Match:\", i)"
      ],
      "metadata": {
        "id": "sr2o6fJ2P2wY",
        "outputId": "f13d75e8-b00e-496e-f93f-1649f42750df",
        "colab": {
          "base_uri": "https://localhost:8080/"
        }
      },
      "execution_count": 78,
      "outputs": [
        {
          "output_type": "stream",
          "name": "stdout",
          "text": [
            "Match: Python\n"
          ]
        }
      ]
    },
    {
      "cell_type": "code",
      "source": [
        "import re\n",
        "\n",
        "text = \"123 4567 89 12345\"\n",
        "pattern = r\"\\d{3}\"\n",
        "\n",
        "matches = re.findall(pattern, text)\n",
        "\n",
        "for i in matches:\n",
        "  print(\"Match:\", i)"
      ],
      "metadata": {
        "id": "2gaUH_HvQ9vk",
        "outputId": "9a42ac67-b3e6-4b5c-8a03-3ee43afabba1",
        "colab": {
          "base_uri": "https://localhost:8080/"
        }
      },
      "execution_count": 79,
      "outputs": [
        {
          "output_type": "stream",
          "name": "stdout",
          "text": [
            "Match: 123\n",
            "Match: 456\n",
            "Match: 123\n"
          ]
        }
      ]
    },
    {
      "cell_type": "code",
      "source": [
        "import re\n",
        "\n",
        "text1 = \"123 4567 89 12345\"\n",
        "pattern = r\"\\d{3}\"\n",
        "\n",
        "matches = re.findall(pattern, text1)\n",
        "\n",
        "for i in matches:\n",
        "  print(\"Match:\", i)"
      ],
      "metadata": {
        "id": "CuTGmcFcSPK3",
        "outputId": "f8c44283-d599-4bf8-cec2-9334d4f1971d",
        "colab": {
          "base_uri": "https://localhost:8080/"
        }
      },
      "execution_count": 94,
      "outputs": [
        {
          "output_type": "stream",
          "name": "stdout",
          "text": [
            "Match: 123\n",
            "Match: 456\n",
            "Match: 123\n"
          ]
        }
      ]
    },
    {
      "cell_type": "code",
      "source": [
        "import re\n",
        "\n",
        "text2 = \"The numbers are 12345678999, 12345, 987, and 56789.\"\n",
        "pattern = r\"\\d{3,5}\"\n",
        "\n",
        "matches = re.findall(pattern, text2)\n",
        "\n",
        "for i in matches:\n",
        "  print(\"Match:\", i)"
      ],
      "metadata": {
        "id": "4KEqKvEHS3i8",
        "outputId": "66576ebc-9d06-4930-e088-f22f722fdacb",
        "colab": {
          "base_uri": "https://localhost:8080/"
        }
      },
      "execution_count": 91,
      "outputs": [
        {
          "output_type": "stream",
          "name": "stdout",
          "text": [
            "Match: 12345\n",
            "Match: 67899\n",
            "Match: 12345\n",
            "Match: 987\n",
            "Match: 56789\n"
          ]
        }
      ]
    },
    {
      "cell_type": "code",
      "source": [
        "import re\n",
        "\n",
        "text = \"The numbers are 12345678999, 12345, 987, and 56789.\"\n",
        "pattern = r\"\\d{3,5}\"\n",
        "\n",
        "matches = re.findall(pattern, text)\n",
        "\n",
        "for i in matches:\n",
        "    print(\"Match:\", i)"
      ],
      "metadata": {
        "id": "wZBNNK-EThEL",
        "outputId": "a1f43d33-a187-40a3-ae0c-01f3e25e915e",
        "colab": {
          "base_uri": "https://localhost:8080/"
        }
      },
      "execution_count": 89,
      "outputs": [
        {
          "output_type": "stream",
          "name": "stdout",
          "text": [
            "Match: 12345\n",
            "Match: 67899\n",
            "Match: 12345\n",
            "Match: 987\n",
            "Match: 56789\n"
          ]
        }
      ]
    },
    {
      "cell_type": "code",
      "source": [
        "import re\n",
        "\n",
        "text = \"The word 'hello' is repeated many times: hello hello hello hello\"\n",
        "pattern = r\"(hello ){2,}\"\n",
        "\n",
        "matches = re.findall(pattern, text)\n",
        "\n",
        "for i in matches:\n",
        "  print(\"Match:\", i)"
      ],
      "metadata": {
        "id": "d0KgfT5fTtdz",
        "outputId": "290190e9-01d5-495f-a208-96add4a75a4d",
        "colab": {
          "base_uri": "https://localhost:8080/"
        }
      },
      "execution_count": 97,
      "outputs": [
        {
          "output_type": "stream",
          "name": "stdout",
          "text": [
            "Match: hello \n"
          ]
        }
      ]
    },
    {
      "cell_type": "code",
      "source": [
        "import re\n",
        "\n",
        "text = \"The word 'hello' is repeated many times: hellohellohellohello hellohellohellohello\"\n",
        "pattern = r\"(hello){2,}\"\n",
        "\n",
        "matches = re.findall(pattern, text)\n",
        "\n",
        "for i in matches:\n",
        "  print(\"Match:\", i)"
      ],
      "metadata": {
        "id": "Un_sHDZsUVac",
        "outputId": "655e03f3-0593-4f5a-fad3-3df35a29174d",
        "colab": {
          "base_uri": "https://localhost:8080/"
        }
      },
      "execution_count": 102,
      "outputs": [
        {
          "output_type": "stream",
          "name": "stdout",
          "text": [
            "Match: hello\n",
            "Match: hello\n"
          ]
        }
      ]
    },
    {
      "cell_type": "code",
      "source": [
        "text = \"The price is $100.\"\n",
        "pattern = r\"[1234567890]\"\n",
        "\n",
        "matches = re.findall(pattern, text)\n",
        "\n",
        "for i in matches:\n",
        "  print(\"Match:\", i)"
      ],
      "metadata": {
        "id": "vPNaL-a7Ul6t",
        "outputId": "a8ee6116-62d8-4d7c-cbec-9caf2c3b43f9",
        "colab": {
          "base_uri": "https://localhost:8080/"
        }
      },
      "execution_count": 103,
      "outputs": [
        {
          "output_type": "stream",
          "name": "stdout",
          "text": [
            "Match: 1\n",
            "Match: 0\n",
            "Match: 0\n"
          ]
        }
      ]
    },
    {
      "cell_type": "code",
      "source": [
        "text = \"The price is $100.\"\n",
        "pattern = r\"[\\d]\"\n",
        "\n",
        "matches = re.findall(pattern, text)\n",
        "\n",
        "for i in matches:\n",
        "  print(\"Match:\", i)"
      ],
      "metadata": {
        "id": "SjKAGmo6W1V5",
        "outputId": "cd63df5b-6298-4caf-879a-5af1f75d4c02",
        "colab": {
          "base_uri": "https://localhost:8080/"
        }
      },
      "execution_count": 104,
      "outputs": [
        {
          "output_type": "stream",
          "name": "stdout",
          "text": [
            "Match: 1\n",
            "Match: 0\n",
            "Match: 0\n"
          ]
        }
      ]
    },
    {
      "cell_type": "code",
      "source": [
        "import re\n",
        "\n",
        "text = \"I have an apple and a monkey in the kichen.\"\n",
        "pattern = r\"[amk]\"\n",
        "\n",
        "matches = re.findall(pattern, text)\n",
        "\n",
        "for i in matches:\n",
        "  print(\"Match:\", i)"
      ],
      "metadata": {
        "id": "z4TxQZ2GXemT",
        "outputId": "a550b54b-b1fd-4295-9e1f-89244bf24a1a",
        "colab": {
          "base_uri": "https://localhost:8080/"
        }
      },
      "execution_count": 105,
      "outputs": [
        {
          "output_type": "stream",
          "name": "stdout",
          "text": [
            "Match: a\n",
            "Match: a\n",
            "Match: a\n",
            "Match: a\n",
            "Match: a\n",
            "Match: m\n",
            "Match: k\n",
            "Match: k\n"
          ]
        }
      ]
    },
    {
      "cell_type": "code",
      "source": [
        "import re\n",
        "\n",
        "text = \"The price is $100.\"\n",
        "pattern1 = r\"\\d\"\n",
        "pattern2 = r\"es\"\n",
        "\n",
        "print(pattern1)\n",
        "print('\\n')\n",
        "print(pattern2)\n",
        "print('\\n')\n",
        "\n",
        "matches1 = re.findall(pattern1, text)\n",
        "for i in matches:\n",
        "  print(\"Match1:\", i)\n",
        "\n",
        "matches2 = re.findall(pattern2, text)\n",
        "for i in matches:\n",
        "  print(\"Match2:\", i)"
      ],
      "metadata": {
        "id": "I0AusvQZYXG6",
        "outputId": "a8abd8d1-36f6-415f-a29e-3263a53cfa2e",
        "colab": {
          "base_uri": "https://localhost:8080/"
        }
      },
      "execution_count": 107,
      "outputs": [
        {
          "output_type": "stream",
          "name": "stdout",
          "text": [
            "\\d\n",
            "\n",
            "\n",
            "es\n",
            "\n",
            "\n",
            "Match1: a\n",
            "Match1: a\n",
            "Match1: a\n",
            "Match1: a\n",
            "Match1: a\n",
            "Match1: m\n",
            "Match1: k\n",
            "Match1: k\n",
            "Match2: a\n",
            "Match2: a\n",
            "Match2: a\n",
            "Match2: a\n",
            "Match2: a\n",
            "Match2: m\n",
            "Match2: k\n",
            "Match2: k\n"
          ]
        }
      ]
    },
    {
      "cell_type": "code",
      "source": [
        "import re\n",
        "\n",
        "text = \"The price is $100.\"\n",
        "pattern1 = r\"[\\d]\"\n",
        "pattern2 = r\"[es]\"\n",
        "\n",
        "print(pattern1)\n",
        "print('\\n')\n",
        "print(pattern2)\n",
        "print('\\n')\n",
        "\n",
        "\n",
        "matches1 = re.findall(pattern1, text)\n",
        "for i in matches1:\n",
        "    print(\"Match1:\", i)\n",
        "\n",
        "\n",
        "matches2 = re.findall(pattern2, text)\n",
        "for i in matches2:\n",
        "    print(\"Match2:\", i)"
      ],
      "metadata": {
        "id": "rjrSqbrEZnam",
        "outputId": "8db9acdc-f133-40b8-d7ad-ad838a554e84",
        "colab": {
          "base_uri": "https://localhost:8080/"
        }
      },
      "execution_count": 109,
      "outputs": [
        {
          "output_type": "stream",
          "name": "stdout",
          "text": [
            "[\\d]\n",
            "\n",
            "\n",
            "[es]\n",
            "\n",
            "\n",
            "Match1: 1\n",
            "Match1: 0\n",
            "Match1: 0\n",
            "Match2: e\n",
            "Match2: e\n",
            "Match2: s\n"
          ]
        }
      ]
    },
    {
      "cell_type": "code",
      "source": [
        "import re\n",
        "\n",
        "text = \"The quick brown fox jumps over thr lazy dog.\"\n",
        "pattern = r\"[a-zA-Z]\"\n",
        "\n",
        "matches = re.findall(pattern, text)\n",
        "\n",
        "for i in matches:\n",
        "  print(\"Match:\", i)"
      ],
      "metadata": {
        "collapsed": true,
        "id": "EhQzs_MqaG-v",
        "outputId": "1f812fb4-21fa-400f-cbcd-2a104d77d6f2",
        "colab": {
          "base_uri": "https://localhost:8080/"
        }
      },
      "execution_count": 112,
      "outputs": [
        {
          "output_type": "stream",
          "name": "stdout",
          "text": [
            "Match: T\n",
            "Match: h\n",
            "Match: e\n",
            "Match: q\n",
            "Match: u\n",
            "Match: i\n",
            "Match: c\n",
            "Match: k\n",
            "Match: b\n",
            "Match: r\n",
            "Match: o\n",
            "Match: w\n",
            "Match: n\n",
            "Match: f\n",
            "Match: o\n",
            "Match: x\n",
            "Match: j\n",
            "Match: u\n",
            "Match: m\n",
            "Match: p\n",
            "Match: s\n",
            "Match: o\n",
            "Match: v\n",
            "Match: e\n",
            "Match: r\n",
            "Match: t\n",
            "Match: h\n",
            "Match: r\n",
            "Match: l\n",
            "Match: a\n",
            "Match: z\n",
            "Match: y\n",
            "Match: d\n",
            "Match: o\n",
            "Match: g\n"
          ]
        }
      ]
    },
    {
      "cell_type": "code",
      "source": [
        "import re\n",
        "\n",
        "text = \"The color can be either red, green, or blue.\"\n",
        "pattern = r\"(red|blue)\"\n",
        "\n",
        "matches = re.findall(pattern, text)\n",
        "\n",
        "for i in matches:\n",
        "  print(\"Match:\", i)"
      ],
      "metadata": {
        "id": "4bbKqKnFa2Cb",
        "outputId": "d83868d9-ba7d-4eaa-ceac-396c5b9d4342",
        "colab": {
          "base_uri": "https://localhost:8080/"
        }
      },
      "execution_count": 113,
      "outputs": [
        {
          "output_type": "stream",
          "name": "stdout",
          "text": [
            "Match: red\n",
            "Match: blue\n"
          ]
        }
      ]
    },
    {
      "cell_type": "code",
      "source": [
        "import re\n",
        "\n",
        "text = \"It cost me $715.45 and more.\"\n",
        "\n",
        "pattern1 = r\"more.$\"\n",
        "pattern2 = r\"\\$*7\"\n",
        "\n",
        "matches1 = re.findall(pattern1, text)\n",
        "matches2 = re.findall(pattern2, text)\n",
        "\n",
        "for i in matches1:\n",
        "  print(\"Match1:\", i)\n",
        "\n",
        "for i in matches2:\n",
        "  print(\"Match2:\", i)"
      ],
      "metadata": {
        "id": "32t-tuWFcMJC",
        "outputId": "b6e13e14-2dd6-46c8-bde2-7cb98126c250",
        "colab": {
          "base_uri": "https://localhost:8080/"
        }
      },
      "execution_count": 114,
      "outputs": [
        {
          "output_type": "stream",
          "name": "stdout",
          "text": [
            "Match1: more.\n",
            "Match2: $7\n"
          ]
        }
      ]
    },
    {
      "cell_type": "code",
      "source": [],
      "metadata": {
        "id": "WvOk1C2udIq_"
      },
      "execution_count": null,
      "outputs": []
    }
  ]
}