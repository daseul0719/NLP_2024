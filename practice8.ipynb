{
  "nbformat": 4,
  "nbformat_minor": 0,
  "metadata": {
    "colab": {
      "provenance": [],
      "authorship_tag": "ABX9TyP0y/WruRpCG5irkNuQ8xhk",
      "include_colab_link": true
    },
    "kernelspec": {
      "name": "python3",
      "display_name": "Python 3"
    },
    "language_info": {
      "name": "python"
    }
  },
  "cells": [
    {
      "cell_type": "markdown",
      "metadata": {
        "id": "view-in-github",
        "colab_type": "text"
      },
      "source": [
        "<a href=\"https://colab.research.google.com/github/daseul0719/NLP_2024/blob/main/practice8.ipynb\" target=\"_parent\"><img src=\"https://colab.research.google.com/assets/colab-badge.svg\" alt=\"Open In Colab\"/></a>"
      ]
    },
    {
      "cell_type": "code",
      "execution_count": null,
      "metadata": {
        "colab": {
          "base_uri": "https://localhost:8080/"
        },
        "id": "ZazsNDddkI_i",
        "outputId": "50ae5fcd-1ae0-4a25-b128-594babb06a08"
      },
      "outputs": [
        {
          "output_type": "stream",
          "name": "stdout",
          "text": [
            "Hello, World!\n"
          ]
        }
      ],
      "source": [
        "def add_txt(t1, t2):\n",
        "  t_result = t1 + t2\n",
        "  return t_result\n",
        "\n",
        "text1 = \"Hello, \"\n",
        "text2 = \"World!\"\n",
        "\n",
        "combined_text = add_txt(text1, text2)\n",
        "print(combined_text)"
      ]
    },
    {
      "cell_type": "code",
      "source": [
        "def add_number(n1, n2):\n",
        "  n_result = n1 + n2\n",
        "  return n_result\n",
        "\n",
        "num1 = 100\n",
        "num2 = 20\n",
        "\n",
        "add_nums = add_number(num1, num2)\n",
        "print(add_nums)"
      ],
      "metadata": {
        "colab": {
          "base_uri": "https://localhost:8080/"
        },
        "id": "ys2DtQB0lE21",
        "outputId": "f3889865-5b5a-42de-8d17-5499de7089b6"
      },
      "execution_count": null,
      "outputs": [
        {
          "output_type": "stream",
          "name": "stdout",
          "text": [
            "120\n"
          ]
        }
      ]
    },
    {
      "cell_type": "code",
      "source": [
        "name = \"Alice\"\n",
        "score = 100\n",
        "age = 10\n",
        "\n",
        "test_result = \"You scored %d on the test.\" %score\n",
        "print(test_result)\n",
        "\n",
        "greeting = \"Hello, %s! You turn to finally %d years old finally.\" %(name, age)\n",
        "print(greeting)\n",
        "\n",
        "print('\\n')\n",
        "print(\"You scored %d on the test.\" %score)\n",
        "print(\"Hello, %s! you turn to finally %d years old finally.\" %(name, age))"
      ],
      "metadata": {
        "colab": {
          "base_uri": "https://localhost:8080/"
        },
        "id": "m6tuBuPplVUb",
        "outputId": "d24eab79-093c-4fe3-eb07-8145e381788c"
      },
      "execution_count": null,
      "outputs": [
        {
          "output_type": "stream",
          "name": "stdout",
          "text": [
            "You scored 100 on the test.\n",
            "Hello, Alice! You turn to finally 10 years old finally.\n",
            "\n",
            "\n",
            "You scored 100 on the test.\n",
            "Hello, Alice! you turn to finally 10 years old finally.\n"
          ]
        }
      ]
    },
    {
      "cell_type": "code",
      "source": [
        "def add(a, b):\n",
        "  result = a + b\n",
        "  return result\n",
        "\n",
        "num1 = 4\n",
        "num2 = 3\n",
        "sum_result = add(num1, num2)\n",
        "\n",
        "print(\"The sum of %d and %d is %d\" % (num1, num2, sum_result))"
      ],
      "metadata": {
        "colab": {
          "base_uri": "https://localhost:8080/"
        },
        "id": "s15f-jaTqId7",
        "outputId": "dde19359-399d-43d7-c587-8eadc2e01989"
      },
      "execution_count": null,
      "outputs": [
        {
          "output_type": "stream",
          "name": "stdout",
          "text": [
            "The sum of 4 and 3 is 7\n"
          ]
        }
      ]
    },
    {
      "cell_type": "code",
      "source": [
        "def add_and_print(a, b):\n",
        "  result=a+b\n",
        "  print(\"The sum of %d and %d is %d.\" %(a, b, result))\n",
        "  return result\n",
        "\n",
        "sum_result = add_and_print(3, 4)"
      ],
      "metadata": {
        "colab": {
          "base_uri": "https://localhost:8080/"
        },
        "id": "EnCmwKJAqmO6",
        "outputId": "5ba0be2f-f0fd-4e6f-8753-ead728c0fd4f"
      },
      "execution_count": null,
      "outputs": [
        {
          "output_type": "stream",
          "name": "stdout",
          "text": [
            "The sum of 3 and 4 is 7.\n"
          ]
        }
      ]
    },
    {
      "cell_type": "code",
      "source": [
        "def add_txt1(t1, t2='Python'):\n",
        "  print(t1 + ':' + t2)\n",
        "\n",
        "add_txt1('Best')\n",
        "add_txt1(t1='My friend', t2='Python')\n",
        "add_txt1(t1='My buddy')"
      ],
      "metadata": {
        "colab": {
          "base_uri": "https://localhost:8080/"
        },
        "id": "4ChNw5PtsPsm",
        "outputId": "32a58c11-ac15-45b9-f4c2-3f32a6b86bdb"
      },
      "execution_count": null,
      "outputs": [
        {
          "output_type": "stream",
          "name": "stdout",
          "text": [
            "Best:Python\n",
            "My friend:Python\n",
            "My buddy:Python\n"
          ]
        }
      ]
    },
    {
      "cell_type": "code",
      "source": [
        "def func_uncertain(*args):\n",
        "  print(args)\n",
        "\n",
        "func_uncertain()\n",
        "\n",
        "func_uncertain(1,2,3)\n",
        "func_uncertain('apple', 'banana', 'cherry', 'date')\n",
        "func_uncertain(True)"
      ],
      "metadata": {
        "colab": {
          "base_uri": "https://localhost:8080/"
        },
        "id": "MXjbJII1tRH5",
        "outputId": "62bb56fe-9315-47e9-c1ae-fd7b7a443b21"
      },
      "execution_count": null,
      "outputs": [
        {
          "output_type": "stream",
          "name": "stdout",
          "text": [
            "()\n",
            "(1, 2, 3)\n",
            "('apple', 'banana', 'cherry', 'date')\n",
            "(True,)\n"
          ]
        }
      ]
    },
    {
      "cell_type": "code",
      "source": [
        "def func_kwa(width, height, **kwargs):\n",
        "  print(kwargs)\n",
        "\n",
        "  func_kwa(20, 30)\n",
        "  func_kwa(20, 30, depth=50, color='blue')"
      ],
      "metadata": {
        "id": "jKRj_U_Cuahr"
      },
      "execution_count": null,
      "outputs": []
    },
    {
      "cell_type": "code",
      "source": [
        "def func_kwa(width, height, **kwargs):\n",
        "  print(\"Width:\", width)\n",
        "  print(\"Height:\", height)\n",
        "  print(\"Additional keyword arguments:\", kwargs)\n",
        "\n",
        "func_kwa(10, 20, depth=30, color='blue')"
      ],
      "metadata": {
        "colab": {
          "base_uri": "https://localhost:8080/"
        },
        "id": "7o-fDNwSwCKW",
        "outputId": "68738d2e-01ea-41a9-b926-3322751d6c35"
      },
      "execution_count": null,
      "outputs": [
        {
          "output_type": "stream",
          "name": "stdout",
          "text": [
            "Width: 10\n",
            "Height: 20\n",
            "Additional keyword arguments: {'depth': 30, 'color': 'blue'}\n"
          ]
        }
      ]
    },
    {
      "cell_type": "code",
      "source": [
        "def myfunction():\n",
        "  print(\"Hello, World!\")\n",
        "\n",
        "list = [1, 2, myfunction]\n",
        "\n",
        "myfunction()\n",
        "list[2]()"
      ],
      "metadata": {
        "colab": {
          "base_uri": "https://localhost:8080/"
        },
        "id": "ZysZakHQyyo5",
        "outputId": "abf02531-9551-4998-afa1-313f5fcac2fb"
      },
      "execution_count": null,
      "outputs": [
        {
          "output_type": "stream",
          "name": "stdout",
          "text": [
            "Hello, World!\n",
            "Hello, World!\n"
          ]
        }
      ]
    },
    {
      "cell_type": "code",
      "source": [
        "class FourCal:\n",
        "  def setdata(self, first, second):\n",
        "    self.first = first\n",
        "    self.second = second\n",
        "\n",
        "a = FourCal()\n",
        "b = FourCal()\n"
      ],
      "metadata": {
        "id": "cqecE9c10FzK"
      },
      "execution_count": null,
      "outputs": []
    },
    {
      "cell_type": "code",
      "source": [
        "a.setdata(10,20)\n",
        "b.setdata(100,200)\n",
        "\n",
        "a.first"
      ],
      "metadata": {
        "colab": {
          "base_uri": "https://localhost:8080/"
        },
        "id": "Do6F6PSzO6X2",
        "outputId": "16b15de2-1d0e-42e0-caf1-05b6c355fbce"
      },
      "execution_count": null,
      "outputs": [
        {
          "output_type": "execute_result",
          "data": {
            "text/plain": [
              "10"
            ]
          },
          "metadata": {},
          "execution_count": 8
        }
      ]
    },
    {
      "cell_type": "code",
      "source": [
        "class FourCal:\n",
        "  def setdata(self, first, second):\n",
        "    self.first = first\n",
        "    self.seond = second\n",
        "\n",
        "  def add(self):\n",
        "    result = self.first + self.second\n",
        "    return result"
      ],
      "metadata": {
        "id": "q4YX0MFGPt-c"
      },
      "execution_count": null,
      "outputs": []
    },
    {
      "cell_type": "code",
      "source": [
        "a = FourCal()\n",
        "a.setdata(10,20)\n",
        "a.add"
      ],
      "metadata": {
        "colab": {
          "base_uri": "https://localhost:8080/",
          "height": 104
        },
        "id": "A6taCyznQS8Q",
        "outputId": "284d6ad7-ebab-407e-d4b1-921a0bc531f8"
      },
      "execution_count": null,
      "outputs": [
        {
          "output_type": "execute_result",
          "data": {
            "text/plain": [
              "<bound method FourCal.add of <__main__.FourCal object at 0x7a0589c628f0>>"
            ],
            "text/html": [
              "<div style=\"max-width:800px; border: 1px solid var(--colab-border-color);\"><style>\n",
              "      pre.function-repr-contents {\n",
              "        overflow-x: auto;\n",
              "        padding: 8px 12px;\n",
              "        max-height: 500px;\n",
              "      }\n",
              "\n",
              "      pre.function-repr-contents.function-repr-contents-collapsed {\n",
              "        cursor: pointer;\n",
              "        max-height: 100px;\n",
              "      }\n",
              "    </style>\n",
              "    <pre style=\"white-space: initial; background:\n",
              "         var(--colab-secondary-surface-color); padding: 8px 12px;\n",
              "         border-bottom: 1px solid var(--colab-border-color);\"><b>FourCal.add</b><br/>def add()</pre><pre class=\"function-repr-contents function-repr-contents-collapsed\" style=\"\"><a class=\"filepath\" style=\"display:none\" href=\"#\">/content/&lt;ipython-input-9-6e54fbd9afa5&gt;</a>&lt;no docstring&gt;</pre></div>"
            ]
          },
          "metadata": {},
          "execution_count": 12
        }
      ]
    },
    {
      "cell_type": "code",
      "source": [
        "class FourCal:\n",
        "  def setdata(self, first, second):\n",
        "    self.second = second\n",
        "\n",
        "  def add(self):\n",
        "    result = self.first + self.second\n",
        "    return result\n",
        "\n",
        "  def sub(self):\n",
        "    reseult = self.first - self.second\n",
        "    return result\n",
        "\n",
        "  def mul(self):\n",
        "    result = self.first * self.second\n",
        "    return result\n",
        "\n",
        "  def div(self):\n",
        "    result = self.first / self.second\n",
        "    return result\n",
        "\n",
        "a = FourCal()\n",
        "b = FourCal()\n",
        "c = FourCal()\n",
        "\n",
        "a.setdata(10,20)\n",
        "b.setdata(20,30)\n",
        "c.setdata(30,40)"
      ],
      "metadata": {
        "id": "ESN9Yb2MQY-l"
      },
      "execution_count": null,
      "outputs": []
    },
    {
      "cell_type": "code",
      "source": [
        "class MoreFourCal:\n",
        "  def setdata(self, first, second):\n",
        "    self.first = first\n",
        "    self.second = second\n",
        "\n",
        "  def pow(self):\n",
        "    result = self.first ** self.second\n",
        "    return result\n",
        "\n",
        "a = MoreFourCal()"
      ],
      "metadata": {
        "id": "RcbgtpvGSkdw"
      },
      "execution_count": null,
      "outputs": []
    },
    {
      "cell_type": "code",
      "source": [
        "a.setdata(10,3)\n",
        "a.pow()"
      ],
      "metadata": {
        "colab": {
          "base_uri": "https://localhost:8080/"
        },
        "id": "Ourn_vDxUSKJ",
        "outputId": "e46a8231-00fd-4582-b93d-b3eaf8bbd187"
      },
      "execution_count": null,
      "outputs": [
        {
          "output_type": "execute_result",
          "data": {
            "text/plain": [
              "1000"
            ]
          },
          "metadata": {},
          "execution_count": 7
        }
      ]
    },
    {
      "cell_type": "code",
      "source": [
        "from urllib.request import urlopen\n",
        "\n",
        "url = 'https://google.com/'\n",
        "\n",
        "with urlopen(url) as f:\n",
        "  content = f.read(). decode()\n",
        "  with open('google_html', 'w') as cf:\n",
        "    cf.write(content)\n"
      ],
      "metadata": {
        "id": "NWsdkBcIUhVl"
      },
      "execution_count": null,
      "outputs": []
    },
    {
      "cell_type": "code",
      "source": [
        "class MoreFourCal:\n",
        "  def setdata(self, first, second):\n",
        "    self.first = first\n",
        "    self.second = second\n",
        "\n",
        "  def pow(self):\n",
        "    result = self.frst ** self.second\n",
        "    return result\n",
        "\n",
        "a = MoreFourCal"
      ],
      "metadata": {
        "id": "z-7j-HldlYhO"
      },
      "execution_count": null,
      "outputs": []
    },
    {
      "cell_type": "code",
      "source": [
        "a.setdata(10,2)\n",
        "a.pow()"
      ],
      "metadata": {
        "id": "mWe1yPn8rPq3",
        "outputId": "403cde74-ef61-43b5-b289-6f346ac3fd04",
        "colab": {
          "base_uri": "https://localhost:8080/",
          "height": 165
        }
      },
      "execution_count": null,
      "outputs": [
        {
          "output_type": "error",
          "ename": "TypeError",
          "evalue": "MoreFourCal.setdata() missing 1 required positional argument: 'second'",
          "traceback": [
            "\u001b[0;31m---------------------------------------------------------------------------\u001b[0m",
            "\u001b[0;31mTypeError\u001b[0m                                 Traceback (most recent call last)",
            "\u001b[0;32m<ipython-input-13-1911a736c4ff>\u001b[0m in \u001b[0;36m<cell line: 1>\u001b[0;34m()\u001b[0m\n\u001b[0;32m----> 1\u001b[0;31m \u001b[0ma\u001b[0m\u001b[0;34m.\u001b[0m\u001b[0msetdata\u001b[0m\u001b[0;34m(\u001b[0m\u001b[0;36m10\u001b[0m\u001b[0;34m,\u001b[0m\u001b[0;36m2\u001b[0m\u001b[0;34m)\u001b[0m\u001b[0;34m\u001b[0m\u001b[0;34m\u001b[0m\u001b[0m\n\u001b[0m\u001b[1;32m      2\u001b[0m \u001b[0ma\u001b[0m\u001b[0;34m.\u001b[0m\u001b[0mpow\u001b[0m\u001b[0;34m(\u001b[0m\u001b[0;34m)\u001b[0m\u001b[0;34m\u001b[0m\u001b[0;34m\u001b[0m\u001b[0m\n",
            "\u001b[0;31mTypeError\u001b[0m: MoreFourCal.setdata() missing 1 required positional argument: 'second'"
          ]
        }
      ]
    },
    {
      "cell_type": "code",
      "source": [
        "class FourCal:\n",
        "  def setdata(self, first, second):\n",
        "    self.second = second\n",
        "\n",
        "  def add(self):\n",
        "    result = self.first + self.second\n",
        "    return result\n",
        "\n",
        "  def sub(self):\n",
        "    reseult = self.first - self.second\n",
        "    return result\n",
        "\n",
        "  def mul(self):\n",
        "    result = self.first * self.second\n",
        "    return result\n",
        "\n",
        "  def div(self):\n",
        "    result = self.first / self.second\n",
        "    return result\n",
        "\n",
        "a = FourCal()\n",
        "b = FourCal()\n",
        "c = FourCal()\n",
        "\n",
        "a.setdata(10,20)\n",
        "b.setdata(20,30)\n",
        "c.setdata(30,40)"
      ],
      "metadata": {
        "id": "zHzZk6uvElVO"
      },
      "execution_count": null,
      "outputs": []
    },
    {
      "cell_type": "code",
      "source": [
        "a.setdata(10,3)\n",
        "a.pow()"
      ],
      "metadata": {
        "colab": {
          "base_uri": "https://localhost:8080/",
          "height": 158
        },
        "id": "7CNQJuKJEOdf",
        "outputId": "2fcb9525-a620-4bee-e580-51706dd829d3"
      },
      "execution_count": null,
      "outputs": [
        {
          "output_type": "error",
          "ename": "AttributeError",
          "evalue": "'FourCal' object has no attribute 'pow'",
          "traceback": [
            "\u001b[0;31m---------------------------------------------------------------------------\u001b[0m",
            "\u001b[0;31mAttributeError\u001b[0m                            Traceback (most recent call last)",
            "\u001b[0;32m<ipython-input-10-a5d1d4f34854>\u001b[0m in \u001b[0;36m<cell line: 2>\u001b[0;34m()\u001b[0m\n\u001b[1;32m      1\u001b[0m \u001b[0ma\u001b[0m\u001b[0;34m.\u001b[0m\u001b[0msetdata\u001b[0m\u001b[0;34m(\u001b[0m\u001b[0;36m10\u001b[0m\u001b[0;34m,\u001b[0m\u001b[0;36m3\u001b[0m\u001b[0;34m)\u001b[0m\u001b[0;34m\u001b[0m\u001b[0;34m\u001b[0m\u001b[0m\n\u001b[0;32m----> 2\u001b[0;31m \u001b[0ma\u001b[0m\u001b[0;34m.\u001b[0m\u001b[0mpow\u001b[0m\u001b[0;34m(\u001b[0m\u001b[0;34m)\u001b[0m\u001b[0;34m\u001b[0m\u001b[0;34m\u001b[0m\u001b[0m\n\u001b[0m",
            "\u001b[0;31mAttributeError\u001b[0m: 'FourCal' object has no attribute 'pow'"
          ]
        }
      ]
    },
    {
      "cell_type": "code",
      "source": [],
      "metadata": {
        "id": "Q3kb7wtProyr"
      },
      "execution_count": null,
      "outputs": []
    }
  ]
}